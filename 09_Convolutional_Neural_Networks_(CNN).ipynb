{
  "nbformat": 4,
  "nbformat_minor": 0,
  "metadata": {
    "colab": {
      "provenance": [],
      "authorship_tag": "ABX9TyO8wgPWkXhMj0mZTPG70qRK",
      "include_colab_link": true
    },
    "kernelspec": {
      "name": "python3",
      "display_name": "Python 3"
    },
    "language_info": {
      "name": "python"
    },
    "accelerator": "GPU",
    "gpuClass": "standard"
  },
  "cells": [
    {
      "cell_type": "markdown",
      "metadata": {
        "id": "view-in-github",
        "colab_type": "text"
      },
      "source": [
        "<a href=\"https://colab.research.google.com/github/AlirezaSamari/DeepLearning-Pytorch-fastai-and/blob/main/09_Convolutional_Neural_Networks_(CNN).ipynb\" target=\"_parent\"><img src=\"https://colab.research.google.com/assets/colab-badge.svg\" alt=\"Open In Colab\"/></a>"
      ]
    },
    {
      "cell_type": "code",
      "execution_count": 1,
      "metadata": {
        "id": "lkjgYxqz0XPE"
      },
      "outputs": [],
      "source": [
        "from fastai.vision.all import *\n",
        "from fastcore import *"
      ]
    },
    {
      "cell_type": "code",
      "source": [
        "top_edge = tensor([[-1, -1, -1],\n",
        "                   [0, 0, 0],\n",
        "                   [1, 1, 1]]).float()"
      ],
      "metadata": {
        "id": "FJ92yNaZ5JHP"
      },
      "execution_count": 2,
      "outputs": []
    },
    {
      "cell_type": "code",
      "source": [
        "path = untar_data(URLs.MNIST_SAMPLE)"
      ],
      "metadata": {
        "id": "9-A9wTor5lTY",
        "colab": {
          "base_uri": "https://localhost:8080/",
          "height": 37
        },
        "outputId": "1cb4a493-51e8-4e39-da87-a36173ab14e8"
      },
      "execution_count": 3,
      "outputs": [
        {
          "output_type": "display_data",
          "data": {
            "text/plain": [
              "<IPython.core.display.HTML object>"
            ],
            "text/html": [
              "\n",
              "<style>\n",
              "    /* Turns off some styling */\n",
              "    progress {\n",
              "        /* gets rid of default border in Firefox and Opera. */\n",
              "        border: none;\n",
              "        /* Needs to be in here for Safari polyfill so background images work as expected. */\n",
              "        background-size: auto;\n",
              "    }\n",
              "    progress:not([value]), progress:not([value])::-webkit-progress-bar {\n",
              "        background: repeating-linear-gradient(45deg, #7e7e7e, #7e7e7e 10px, #5c5c5c 10px, #5c5c5c 20px);\n",
              "    }\n",
              "    .progress-bar-interrupted, .progress-bar-interrupted::-webkit-progress-bar {\n",
              "        background: #F44336;\n",
              "    }\n",
              "</style>\n"
            ]
          },
          "metadata": {}
        },
        {
          "output_type": "display_data",
          "data": {
            "text/plain": [
              "<IPython.core.display.HTML object>"
            ],
            "text/html": [
              "\n",
              "    <div>\n",
              "      <progress value='3219456' class='' max='3214948' style='width:300px; height:20px; vertical-align: middle;'></progress>\n",
              "      100.14% [3219456/3214948 00:01&lt;00:00]\n",
              "    </div>\n",
              "    "
            ]
          },
          "metadata": {}
        }
      ]
    },
    {
      "cell_type": "code",
      "source": [
        "path.ls()"
      ],
      "metadata": {
        "colab": {
          "base_uri": "https://localhost:8080/"
        },
        "id": "HrtT2TaN6Ad4",
        "outputId": "bd8cbad6-7912-47d1-d636-82f434b9a8f0"
      },
      "execution_count": 4,
      "outputs": [
        {
          "output_type": "execute_result",
          "data": {
            "text/plain": [
              "(#3) [Path('/root/.fastai/data/mnist_sample/train'),Path('/root/.fastai/data/mnist_sample/labels.csv'),Path('/root/.fastai/data/mnist_sample/valid')]"
            ]
          },
          "metadata": {},
          "execution_count": 4
        }
      ]
    },
    {
      "cell_type": "code",
      "source": [
        "im3 = Image.open(path/'train'/'3'/'12.png')\n",
        "im3"
      ],
      "metadata": {
        "colab": {
          "base_uri": "https://localhost:8080/",
          "height": 45
        },
        "id": "rJROS_HU6dyg",
        "outputId": "a4096d1d-9112-40ce-fecd-749be79a6fec"
      },
      "execution_count": 5,
      "outputs": [
        {
          "output_type": "execute_result",
          "data": {
            "text/plain": [
              "<PIL.PngImagePlugin.PngImageFile image mode=L size=28x28>"
            ],
            "image/png": "[encoded data removed]"
          },
          "metadata": {},
          "execution_count": 5
        }
      ]
    },
    {
      "cell_type": "code",
      "source": [
        "im3_t = tensor(im3)\n",
        "im3_t[0:3, 0:3] * top_edge"
      ],
      "metadata": {
        "colab": {
          "base_uri": "https://localhost:8080/"
        },
        "id": "3yREy4vi8Kyq",
        "outputId": "872a023c-7132-4cca-beb0-7248a07c123d"
      },
      "execution_count": 6,
      "outputs": [
        {
          "output_type": "execute_result",
          "data": {
            "text/plain": [
              "tensor([[-0., -0., -0.],\n",
              "        [0., 0., 0.],\n",
              "        [0., 0., 0.]])"
            ]
          },
          "metadata": {},
          "execution_count": 6
        }
      ]
    },
    {
      "cell_type": "code",
      "source": [
        "(im3_t[0:3, 0:3] * top_edge).sum()"
      ],
      "metadata": {
        "colab": {
          "base_uri": "https://localhost:8080/"
        },
        "id": "JNWwjv5eA7aV",
        "outputId": "1f5adf49-2bd7-4af7-c9be-1c85c280569c"
      },
      "execution_count": 7,
      "outputs": [
        {
          "output_type": "execute_result",
          "data": {
            "text/plain": [
              "tensor(0.)"
            ]
          },
          "metadata": {},
          "execution_count": 7
        }
      ]
    },
    {
      "cell_type": "code",
      "source": [
        "from pandas import DataFrame\n",
        "df = DataFrame(im3_t[:10, :20])\n",
        "df.style.background_gradient('Greys')"
      ],
      "metadata": {
        "colab": {
          "base_uri": "https://localhost:8080/",
          "height": 363
        },
        "id": "0lG5O71FBfiU",
        "outputId": "418539b9-fe01-48f0-bc55-c911985ae8f1"
      },
      "execution_count": 8,
      "outputs": [
        {
          "output_type": "execute_result",
          "data": {
            "text/plain": [
              "<pandas.io.formats.style.Styler at 0x7fb5888c9c10>"
            ],
            "text/html": [
              "<style type=\"text/css\">\n",
              "#T_6b8e3_row0_col0, #T_6b8e3_row0_col1, #T_6b8e3_row0_col2, #T_6b8e3_row0_col3, #T_6b8e3_row0_col4, #T_6b8e3_row0_col5, #T_6b8e3_row0_col6, #T_6b8e3_row0_col7, #T_6b8e3_row0_col8, #T_6b8e3_row0_col9, #T_6b8e3_row0_col10, #T_6b8e3_row0_col11, #T_6b8e3_row0_col12, #T_6b8e3_row0_col13, #T_6b8e3_row0_col14, #T_6b8e3_row0_col15, #T_6b8e3_row0_col16, #T_6b8e3_row0_col17, #T_6b8e3_row0_col18, #T_6b8e3_row0_col19, #T_6b8e3_row1_col0, #T_6b8e3_row1_col1, #T_6b8e3_row1_col2, #T_6b8e3_row1_col3, #T_6b8e3_row1_col4, #T_6b8e3_row1_col5, #T_6b8e3_row1_col6, #T_6b8e3_row1_col7, #T_6b8e3_row1_col8, #T_6b8e3_row1_col9, #T_6b8e3_row1_col10, #T_6b8e3_row1_col11, #T_6b8e3_row1_col12, #T_6b8e3_row1_col13, #T_6b8e3_row1_col14, #T_6b8e3_row1_col15, #T_6b8e3_row1_col16, #T_6b8e3_row1_col17, #T_6b8e3_row1_col18, #T_6b8e3_row1_col19, #T_6b8e3_row2_col0, #T_6b8e3_row2_col1, #T_6b8e3_row2_col2, #T_6b8e3_row2_col3, #T_6b8e3_row2_col4, #T_6b8e3_row2_col5, #T_6b8e3_row2_col6, #T_6b8e3_row2_col7, #T_6b8e3_row2_col8, #T_6b8e3_row2_col9, #T_6b8e3_row2_col10, #T_6b8e3_row2_col11, #T_6b8e3_row2_col12, #T_6b8e3_row2_col13, #T_6b8e3_row2_col14, #T_6b8e3_row2_col15, #T_6b8e3_row2_col16, #T_6b8e3_row2_col17, #T_6b8e3_row2_col18, #T_6b8e3_row2_col19, #T_6b8e3_row3_col0, #T_6b8e3_row3_col1, #T_6b8e3_row3_col2, #T_6b8e3_row3_col3, #T_6b8e3_row3_col4, #T_6b8e3_row3_col5, #T_6b8e3_row3_col6, #T_6b8e3_row3_col7, #T_6b8e3_row3_col8, #T_6b8e3_row3_col9, #T_6b8e3_row3_col10, #T_6b8e3_row3_col11, #T_6b8e3_row3_col12, #T_6b8e3_row3_col13, #T_6b8e3_row3_col14, #T_6b8e3_row3_col15, #T_6b8e3_row3_col16, #T_6b8e3_row3_col17, #T_6b8e3_row3_col18, #T_6b8e3_row3_col19, #T_6b8e3_row4_col0, #T_6b8e3_row4_col1, #T_6b8e3_row4_col2, #T_6b8e3_row4_col3, #T_6b8e3_row4_col4, #T_6b8e3_row4_col5, #T_6b8e3_row4_col6, #T_6b8e3_row4_col7, #T_6b8e3_row4_col8, #T_6b8e3_row4_col9, #T_6b8e3_row4_col10, #T_6b8e3_row4_col11, #T_6b8e3_row4_col12, #T_6b8e3_row4_col13, #T_6b8e3_row4_col14, #T_6b8e3_row4_col15, #T_6b8e3_row4_col16, #T_6b8e3_row4_col17, #T_6b8e3_row4_col18, #T_6b8e3_row4_col19, #T_6b8e3_row5_col0, #T_6b8e3_row5_col1, #T_6b8e3_row5_col2, #T_6b8e3_row5_col16, #T_6b8e3_row5_col17, #T_6b8e3_row5_col18, #T_6b8e3_row5_col19, #T_6b8e3_row6_col0, #T_6b8e3_row6_col1, #T_6b8e3_row6_col2, #T_6b8e3_row6_col19, #T_6b8e3_row7_col0, #T_6b8e3_row7_col1, #T_6b8e3_row7_col2, #T_6b8e3_row7_col19, #T_6b8e3_row8_col0, #T_6b8e3_row8_col1, #T_6b8e3_row8_col2, #T_6b8e3_row8_col8, #T_6b8e3_row8_col9, #T_6b8e3_row8_col10, #T_6b8e3_row8_col11, #T_6b8e3_row8_col12, #T_6b8e3_row8_col13, #T_6b8e3_row8_col19, #T_6b8e3_row9_col0, #T_6b8e3_row9_col1, #T_6b8e3_row9_col2, #T_6b8e3_row9_col3, #T_6b8e3_row9_col4, #T_6b8e3_row9_col5, #T_6b8e3_row9_col6, #T_6b8e3_row9_col7, #T_6b8e3_row9_col8, #T_6b8e3_row9_col9, #T_6b8e3_row9_col10, #T_6b8e3_row9_col11, #T_6b8e3_row9_col12, #T_6b8e3_row9_col13, #T_6b8e3_row9_col19 {\n",
              "  background-color: #ffffff;\n",
              "  color: #000000;\n",
              "}\n",
              "#T_6b8e3_row5_col3, #T_6b8e3_row8_col14 {\n",
              "  background-color: #f9f9f9;\n",
              "  color: #000000;\n",
              "}\n",
              "#T_6b8e3_row5_col4 {\n",
              "  background-color: #b9b9b9;\n",
              "  color: #000000;\n",
              "}\n",
              "#T_6b8e3_row5_col5 {\n",
              "  background-color: #c1c1c1;\n",
              "  color: #000000;\n",
              "}\n",
              "#T_6b8e3_row5_col6 {\n",
              "  background-color: #858585;\n",
              "  color: #f1f1f1;\n",
              "}\n",
              "#T_6b8e3_row5_col7, #T_6b8e3_row5_col10, #T_6b8e3_row5_col11, #T_6b8e3_row5_col12, #T_6b8e3_row5_col13 {\n",
              "  background-color: #777777;\n",
              "  color: #f1f1f1;\n",
              "}\n",
              "#T_6b8e3_row5_col8 {\n",
              "  background-color: #090909;\n",
              "  color: #f1f1f1;\n",
              "}\n",
              "#T_6b8e3_row5_col9 {\n",
              "  background-color: #5b5b5b;\n",
              "  color: #f1f1f1;\n",
              "}\n",
              "#T_6b8e3_row5_col14 {\n",
              "  background-color: #919191;\n",
              "  color: #f1f1f1;\n",
              "}\n",
              "#T_6b8e3_row5_col15 {\n",
              "  background-color: #e1e1e1;\n",
              "  color: #000000;\n",
              "}\n",
              "#T_6b8e3_row6_col3 {\n",
              "  background-color: #727272;\n",
              "  color: #f1f1f1;\n",
              "}\n",
              "#T_6b8e3_row6_col4, #T_6b8e3_row6_col5, #T_6b8e3_row6_col6, #T_6b8e3_row6_col7, #T_6b8e3_row6_col8, #T_6b8e3_row6_col9, #T_6b8e3_row6_col10, #T_6b8e3_row6_col11, #T_6b8e3_row6_col12, #T_6b8e3_row6_col13, #T_6b8e3_row6_col14, #T_6b8e3_row7_col3, #T_6b8e3_row7_col4, #T_6b8e3_row7_col5, #T_6b8e3_row7_col6, #T_6b8e3_row7_col15, #T_6b8e3_row7_col16, #T_6b8e3_row7_col17, #T_6b8e3_row8_col16, #T_6b8e3_row8_col17, #T_6b8e3_row8_col18, #T_6b8e3_row9_col15, #T_6b8e3_row9_col16 {\n",
              "  background-color: #000000;\n",
              "  color: #f1f1f1;\n",
              "}\n",
              "#T_6b8e3_row6_col15 {\n",
              "  background-color: #020202;\n",
              "  color: #f1f1f1;\n",
              "}\n",
              "#T_6b8e3_row6_col16 {\n",
              "  background-color: #363636;\n",
              "  color: #f1f1f1;\n",
              "}\n",
              "#T_6b8e3_row6_col17 {\n",
              "  background-color: #9d9d9d;\n",
              "  color: #f1f1f1;\n",
              "}\n",
              "#T_6b8e3_row6_col18 {\n",
              "  background-color: #dfdfdf;\n",
              "  color: #000000;\n",
              "}\n",
              "#T_6b8e3_row7_col7 {\n",
              "  background-color: #161616;\n",
              "  color: #f1f1f1;\n",
              "}\n",
              "#T_6b8e3_row7_col8, #T_6b8e3_row7_col9, #T_6b8e3_row7_col10, #T_6b8e3_row7_col11, #T_6b8e3_row7_col13 {\n",
              "  background-color: #535353;\n",
              "  color: #f1f1f1;\n",
              "}\n",
              "#T_6b8e3_row7_col12 {\n",
              "  background-color: #7c7c7c;\n",
              "  color: #f1f1f1;\n",
              "}\n",
              "#T_6b8e3_row7_col14 {\n",
              "  background-color: #3d3d3d;\n",
              "  color: #f1f1f1;\n",
              "}\n",
              "#T_6b8e3_row7_col18 {\n",
              "  background-color: #999999;\n",
              "  color: #f1f1f1;\n",
              "}\n",
              "#T_6b8e3_row8_col3 {\n",
              "  background-color: #eaeaea;\n",
              "  color: #000000;\n",
              "}\n",
              "#T_6b8e3_row8_col4 {\n",
              "  background-color: #d0d0d0;\n",
              "  color: #000000;\n",
              "}\n",
              "#T_6b8e3_row8_col5, #T_6b8e3_row8_col6 {\n",
              "  background-color: #eeeeee;\n",
              "  color: #000000;\n",
              "}\n",
              "#T_6b8e3_row8_col7 {\n",
              "  background-color: #f3f3f3;\n",
              "  color: #000000;\n",
              "}\n",
              "#T_6b8e3_row8_col15 {\n",
              "  background-color: #232323;\n",
              "  color: #f1f1f1;\n",
              "}\n",
              "#T_6b8e3_row9_col14 {\n",
              "  background-color: #c2c2c2;\n",
              "  color: #000000;\n",
              "}\n",
              "#T_6b8e3_row9_col17 {\n",
              "  background-color: #080808;\n",
              "  color: #f1f1f1;\n",
              "}\n",
              "#T_6b8e3_row9_col18 {\n",
              "  background-color: #c4c4c4;\n",
              "  color: #000000;\n",
              "}\n",
              "</style>\n",
              "<table id=\"T_6b8e3_\" class=\"dataframe\">\n",
              "  <thead>\n",
              "    <tr>\n",
              "      <th class=\"blank level0\" >&nbsp;</th>\n",
              "      <th class=\"col_heading level0 col0\" >0</th>\n",
              "      <th class=\"col_heading level0 col1\" >1</th>\n",
              "      <th class=\"col_heading level0 col2\" >2</th>\n",
              "      <th class=\"col_heading level0 col3\" >3</th>\n",
              "      <th class=\"col_heading level0 col4\" >4</th>\n",
              "      <th class=\"col_heading level0 col5\" >5</th>\n",
              "      <th class=\"col_heading level0 col6\" >6</th>\n",
              "      <th class=\"col_heading level0 col7\" >7</th>\n",
              "      <th class=\"col_heading level0 col8\" >8</th>\n",
              "      <th class=\"col_heading level0 col9\" >9</th>\n",
              "      <th class=\"col_heading level0 col10\" >10</th>\n",
              "      <th class=\"col_heading level0 col11\" >11</th>\n",
              "      <th class=\"col_heading level0 col12\" >12</th>\n",
              "      <th class=\"col_heading level0 col13\" >13</th>\n",
              "      <th class=\"col_heading level0 col14\" >14</th>\n",
              "      <th class=\"col_heading level0 col15\" >15</th>\n",
              "      <th class=\"col_heading level0 col16\" >16</th>\n",
              "      <th class=\"col_heading level0 col17\" >17</th>\n",
              "      <th class=\"col_heading level0 col18\" >18</th>\n",
              "      <th class=\"col_heading level0 col19\" >19</th>\n",
              "    </tr>\n",
              "  </thead>\n",
              "  <tbody>\n",
              "    <tr>\n",
              "      <th id=\"T_6b8e3_level0_row0\" class=\"row_heading level0 row0\" >0</th>\n",
              "      <td id=\"T_6b8e3_row0_col0\" class=\"data row0 col0\" >0</td>\n",
              "      <td id=\"T_6b8e3_row0_col1\" class=\"data row0 col1\" >0</td>\n",
              "      <td id=\"T_6b8e3_row0_col2\" class=\"data row0 col2\" >0</td>\n",
              "      <td id=\"T_6b8e3_row0_col3\" class=\"data row0 col3\" >0</td>\n",
              "      <td id=\"T_6b8e3_row0_col4\" class=\"data row0 col4\" >0</td>\n",
              "      <td id=\"T_6b8e3_row0_col5\" class=\"data row0 col5\" >0</td>\n",
              "      <td id=\"T_6b8e3_row0_col6\" class=\"data row0 col6\" >0</td>\n",
              "      <td id=\"T_6b8e3_row0_col7\" class=\"data row0 col7\" >0</td>\n",
              "      <td id=\"T_6b8e3_row0_col8\" class=\"data row0 col8\" >0</td>\n",
              "      <td id=\"T_6b8e3_row0_col9\" class=\"data row0 col9\" >0</td>\n",
              "      <td id=\"T_6b8e3_row0_col10\" class=\"data row0 col10\" >0</td>\n",
              "      <td id=\"T_6b8e3_row0_col11\" class=\"data row0 col11\" >0</td>\n",
              "      <td id=\"T_6b8e3_row0_col12\" class=\"data row0 col12\" >0</td>\n",
              "      <td id=\"T_6b8e3_row0_col13\" class=\"data row0 col13\" >0</td>\n",
              "      <td id=\"T_6b8e3_row0_col14\" class=\"data row0 col14\" >0</td>\n",
              "      <td id=\"T_6b8e3_row0_col15\" class=\"data row0 col15\" >0</td>\n",
              "      <td id=\"T_6b8e3_row0_col16\" class=\"data row0 col16\" >0</td>\n",
              "      <td id=\"T_6b8e3_row0_col17\" class=\"data row0 col17\" >0</td>\n",
              "      <td id=\"T_6b8e3_row0_col18\" class=\"data row0 col18\" >0</td>\n",
              "      <td id=\"T_6b8e3_row0_col19\" class=\"data row0 col19\" >0</td>\n",
              "    </tr>\n",
              "    <tr>\n",
              "      <th id=\"T_6b8e3_level0_row1\" class=\"row_heading level0 row1\" >1</th>\n",
              "      <td id=\"T_6b8e3_row1_col0\" class=\"data row1 col0\" >0</td>\n",
              "      <td id=\"T_6b8e3_row1_col1\" class=\"data row1 col1\" >0</td>\n",
              "      <td id=\"T_6b8e3_row1_col2\" class=\"data row1 col2\" >0</td>\n",
              "      <td id=\"T_6b8e3_row1_col3\" class=\"data row1 col3\" >0</td>\n",
              "      <td id=\"T_6b8e3_row1_col4\" class=\"data row1 col4\" >0</td>\n",
              "      <td id=\"T_6b8e3_row1_col5\" class=\"data row1 col5\" >0</td>\n",
              "      <td id=\"T_6b8e3_row1_col6\" class=\"data row1 col6\" >0</td>\n",
              "      <td id=\"T_6b8e3_row1_col7\" class=\"data row1 col7\" >0</td>\n",
              "      <td id=\"T_6b8e3_row1_col8\" class=\"data row1 col8\" >0</td>\n",
              "      <td id=\"T_6b8e3_row1_col9\" class=\"data row1 col9\" >0</td>\n",
              "      <td id=\"T_6b8e3_row1_col10\" class=\"data row1 col10\" >0</td>\n",
              "      <td id=\"T_6b8e3_row1_col11\" class=\"data row1 col11\" >0</td>\n",
              "      <td id=\"T_6b8e3_row1_col12\" class=\"data row1 col12\" >0</td>\n",
              "      <td id=\"T_6b8e3_row1_col13\" class=\"data row1 col13\" >0</td>\n",
              "      <td id=\"T_6b8e3_row1_col14\" class=\"data row1 col14\" >0</td>\n",
              "      <td id=\"T_6b8e3_row1_col15\" class=\"data row1 col15\" >0</td>\n",
              "      <td id=\"T_6b8e3_row1_col16\" class=\"data row1 col16\" >0</td>\n",
              "      <td id=\"T_6b8e3_row1_col17\" class=\"data row1 col17\" >0</td>\n",
              "      <td id=\"T_6b8e3_row1_col18\" class=\"data row1 col18\" >0</td>\n",
              "      <td id=\"T_6b8e3_row1_col19\" class=\"data row1 col19\" >0</td>\n",
              "    </tr>\n",
              "    <tr>\n",
              "      <th id=\"T_6b8e3_level0_row2\" class=\"row_heading level0 row2\" >2</th>\n",
              "      <td id=\"T_6b8e3_row2_col0\" class=\"data row2 col0\" >0</td>\n",
              "      <td id=\"T_6b8e3_row2_col1\" class=\"data row2 col1\" >0</td>\n",
              "      <td id=\"T_6b8e3_row2_col2\" class=\"data row2 col2\" >0</td>\n",
              "      <td id=\"T_6b8e3_row2_col3\" class=\"data row2 col3\" >0</td>\n",
              "      <td id=\"T_6b8e3_row2_col4\" class=\"data row2 col4\" >0</td>\n",
              "      <td id=\"T_6b8e3_row2_col5\" class=\"data row2 col5\" >0</td>\n",
              "      <td id=\"T_6b8e3_row2_col6\" class=\"data row2 col6\" >0</td>\n",
              "      <td id=\"T_6b8e3_row2_col7\" class=\"data row2 col7\" >0</td>\n",
              "      <td id=\"T_6b8e3_row2_col8\" class=\"data row2 col8\" >0</td>\n",
              "      <td id=\"T_6b8e3_row2_col9\" class=\"data row2 col9\" >0</td>\n",
              "      <td id=\"T_6b8e3_row2_col10\" class=\"data row2 col10\" >0</td>\n",
              "      <td id=\"T_6b8e3_row2_col11\" class=\"data row2 col11\" >0</td>\n",
              "      <td id=\"T_6b8e3_row2_col12\" class=\"data row2 col12\" >0</td>\n",
              "      <td id=\"T_6b8e3_row2_col13\" class=\"data row2 col13\" >0</td>\n",
              "      <td id=\"T_6b8e3_row2_col14\" class=\"data row2 col14\" >0</td>\n",
              "      <td id=\"T_6b8e3_row2_col15\" class=\"data row2 col15\" >0</td>\n",
              "      <td id=\"T_6b8e3_row2_col16\" class=\"data row2 col16\" >0</td>\n",
              "      <td id=\"T_6b8e3_row2_col17\" class=\"data row2 col17\" >0</td>\n",
              "      <td id=\"T_6b8e3_row2_col18\" class=\"data row2 col18\" >0</td>\n",
              "      <td id=\"T_6b8e3_row2_col19\" class=\"data row2 col19\" >0</td>\n",
              "    </tr>\n",
              "    <tr>\n",
              "      <th id=\"T_6b8e3_level0_row3\" class=\"row_heading level0 row3\" >3</th>\n",
              "      <td id=\"T_6b8e3_row3_col0\" class=\"data row3 col0\" >0</td>\n",
              "      <td id=\"T_6b8e3_row3_col1\" class=\"data row3 col1\" >0</td>\n",
              "      <td id=\"T_6b8e3_row3_col2\" class=\"data row3 col2\" >0</td>\n",
              "      <td id=\"T_6b8e3_row3_col3\" class=\"data row3 col3\" >0</td>\n",
              "      <td id=\"T_6b8e3_row3_col4\" class=\"data row3 col4\" >0</td>\n",
              "      <td id=\"T_6b8e3_row3_col5\" class=\"data row3 col5\" >0</td>\n",
              "      <td id=\"T_6b8e3_row3_col6\" class=\"data row3 col6\" >0</td>\n",
              "      <td id=\"T_6b8e3_row3_col7\" class=\"data row3 col7\" >0</td>\n",
              "      <td id=\"T_6b8e3_row3_col8\" class=\"data row3 col8\" >0</td>\n",
              "      <td id=\"T_6b8e3_row3_col9\" class=\"data row3 col9\" >0</td>\n",
              "      <td id=\"T_6b8e3_row3_col10\" class=\"data row3 col10\" >0</td>\n",
              "      <td id=\"T_6b8e3_row3_col11\" class=\"data row3 col11\" >0</td>\n",
              "      <td id=\"T_6b8e3_row3_col12\" class=\"data row3 col12\" >0</td>\n",
              "      <td id=\"T_6b8e3_row3_col13\" class=\"data row3 col13\" >0</td>\n",
              "      <td id=\"T_6b8e3_row3_col14\" class=\"data row3 col14\" >0</td>\n",
              "      <td id=\"T_6b8e3_row3_col15\" class=\"data row3 col15\" >0</td>\n",
              "      <td id=\"T_6b8e3_row3_col16\" class=\"data row3 col16\" >0</td>\n",
              "      <td id=\"T_6b8e3_row3_col17\" class=\"data row3 col17\" >0</td>\n",
              "      <td id=\"T_6b8e3_row3_col18\" class=\"data row3 col18\" >0</td>\n",
              "      <td id=\"T_6b8e3_row3_col19\" class=\"data row3 col19\" >0</td>\n",
              "    </tr>\n",
              "    <tr>\n",
              "      <th id=\"T_6b8e3_level0_row4\" class=\"row_heading level0 row4\" >4</th>\n",
              "      <td id=\"T_6b8e3_row4_col0\" class=\"data row4 col0\" >0</td>\n",
              "      <td id=\"T_6b8e3_row4_col1\" class=\"data row4 col1\" >0</td>\n",
              "      <td id=\"T_6b8e3_row4_col2\" class=\"data row4 col2\" >0</td>\n",
              "      <td id=\"T_6b8e3_row4_col3\" class=\"data row4 col3\" >0</td>\n",
              "      <td id=\"T_6b8e3_row4_col4\" class=\"data row4 col4\" >0</td>\n",
              "      <td id=\"T_6b8e3_row4_col5\" class=\"data row4 col5\" >0</td>\n",
              "      <td id=\"T_6b8e3_row4_col6\" class=\"data row4 col6\" >0</td>\n",
              "      <td id=\"T_6b8e3_row4_col7\" class=\"data row4 col7\" >0</td>\n",
              "      <td id=\"T_6b8e3_row4_col8\" class=\"data row4 col8\" >0</td>\n",
              "      <td id=\"T_6b8e3_row4_col9\" class=\"data row4 col9\" >0</td>\n",
              "      <td id=\"T_6b8e3_row4_col10\" class=\"data row4 col10\" >0</td>\n",
              "      <td id=\"T_6b8e3_row4_col11\" class=\"data row4 col11\" >0</td>\n",
              "      <td id=\"T_6b8e3_row4_col12\" class=\"data row4 col12\" >0</td>\n",
              "      <td id=\"T_6b8e3_row4_col13\" class=\"data row4 col13\" >0</td>\n",
              "      <td id=\"T_6b8e3_row4_col14\" class=\"data row4 col14\" >0</td>\n",
              "      <td id=\"T_6b8e3_row4_col15\" class=\"data row4 col15\" >0</td>\n",
              "      <td id=\"T_6b8e3_row4_col16\" class=\"data row4 col16\" >0</td>\n",
              "      <td id=\"T_6b8e3_row4_col17\" class=\"data row4 col17\" >0</td>\n",
              "      <td id=\"T_6b8e3_row4_col18\" class=\"data row4 col18\" >0</td>\n",
              "      <td id=\"T_6b8e3_row4_col19\" class=\"data row4 col19\" >0</td>\n",
              "    </tr>\n",
              "    <tr>\n",
              "      <th id=\"T_6b8e3_level0_row5\" class=\"row_heading level0 row5\" >5</th>\n",
              "      <td id=\"T_6b8e3_row5_col0\" class=\"data row5 col0\" >0</td>\n",
              "      <td id=\"T_6b8e3_row5_col1\" class=\"data row5 col1\" >0</td>\n",
              "      <td id=\"T_6b8e3_row5_col2\" class=\"data row5 col2\" >0</td>\n",
              "      <td id=\"T_6b8e3_row5_col3\" class=\"data row5 col3\" >12</td>\n",
              "      <td id=\"T_6b8e3_row5_col4\" class=\"data row5 col4\" >99</td>\n",
              "      <td id=\"T_6b8e3_row5_col5\" class=\"data row5 col5\" >91</td>\n",
              "      <td id=\"T_6b8e3_row5_col6\" class=\"data row5 col6\" >142</td>\n",
              "      <td id=\"T_6b8e3_row5_col7\" class=\"data row5 col7\" >155</td>\n",
              "      <td id=\"T_6b8e3_row5_col8\" class=\"data row5 col8\" >246</td>\n",
              "      <td id=\"T_6b8e3_row5_col9\" class=\"data row5 col9\" >182</td>\n",
              "      <td id=\"T_6b8e3_row5_col10\" class=\"data row5 col10\" >155</td>\n",
              "      <td id=\"T_6b8e3_row5_col11\" class=\"data row5 col11\" >155</td>\n",
              "      <td id=\"T_6b8e3_row5_col12\" class=\"data row5 col12\" >155</td>\n",
              "      <td id=\"T_6b8e3_row5_col13\" class=\"data row5 col13\" >155</td>\n",
              "      <td id=\"T_6b8e3_row5_col14\" class=\"data row5 col14\" >131</td>\n",
              "      <td id=\"T_6b8e3_row5_col15\" class=\"data row5 col15\" >52</td>\n",
              "      <td id=\"T_6b8e3_row5_col16\" class=\"data row5 col16\" >0</td>\n",
              "      <td id=\"T_6b8e3_row5_col17\" class=\"data row5 col17\" >0</td>\n",
              "      <td id=\"T_6b8e3_row5_col18\" class=\"data row5 col18\" >0</td>\n",
              "      <td id=\"T_6b8e3_row5_col19\" class=\"data row5 col19\" >0</td>\n",
              "    </tr>\n",
              "    <tr>\n",
              "      <th id=\"T_6b8e3_level0_row6\" class=\"row_heading level0 row6\" >6</th>\n",
              "      <td id=\"T_6b8e3_row6_col0\" class=\"data row6 col0\" >0</td>\n",
              "      <td id=\"T_6b8e3_row6_col1\" class=\"data row6 col1\" >0</td>\n",
              "      <td id=\"T_6b8e3_row6_col2\" class=\"data row6 col2\" >0</td>\n",
              "      <td id=\"T_6b8e3_row6_col3\" class=\"data row6 col3\" >138</td>\n",
              "      <td id=\"T_6b8e3_row6_col4\" class=\"data row6 col4\" >254</td>\n",
              "      <td id=\"T_6b8e3_row6_col5\" class=\"data row6 col5\" >254</td>\n",
              "      <td id=\"T_6b8e3_row6_col6\" class=\"data row6 col6\" >254</td>\n",
              "      <td id=\"T_6b8e3_row6_col7\" class=\"data row6 col7\" >254</td>\n",
              "      <td id=\"T_6b8e3_row6_col8\" class=\"data row6 col8\" >254</td>\n",
              "      <td id=\"T_6b8e3_row6_col9\" class=\"data row6 col9\" >254</td>\n",
              "      <td id=\"T_6b8e3_row6_col10\" class=\"data row6 col10\" >254</td>\n",
              "      <td id=\"T_6b8e3_row6_col11\" class=\"data row6 col11\" >254</td>\n",
              "      <td id=\"T_6b8e3_row6_col12\" class=\"data row6 col12\" >254</td>\n",
              "      <td id=\"T_6b8e3_row6_col13\" class=\"data row6 col13\" >254</td>\n",
              "      <td id=\"T_6b8e3_row6_col14\" class=\"data row6 col14\" >254</td>\n",
              "      <td id=\"T_6b8e3_row6_col15\" class=\"data row6 col15\" >252</td>\n",
              "      <td id=\"T_6b8e3_row6_col16\" class=\"data row6 col16\" >210</td>\n",
              "      <td id=\"T_6b8e3_row6_col17\" class=\"data row6 col17\" >122</td>\n",
              "      <td id=\"T_6b8e3_row6_col18\" class=\"data row6 col18\" >33</td>\n",
              "      <td id=\"T_6b8e3_row6_col19\" class=\"data row6 col19\" >0</td>\n",
              "    </tr>\n",
              "    <tr>\n",
              "      <th id=\"T_6b8e3_level0_row7\" class=\"row_heading level0 row7\" >7</th>\n",
              "      <td id=\"T_6b8e3_row7_col0\" class=\"data row7 col0\" >0</td>\n",
              "      <td id=\"T_6b8e3_row7_col1\" class=\"data row7 col1\" >0</td>\n",
              "      <td id=\"T_6b8e3_row7_col2\" class=\"data row7 col2\" >0</td>\n",
              "      <td id=\"T_6b8e3_row7_col3\" class=\"data row7 col3\" >220</td>\n",
              "      <td id=\"T_6b8e3_row7_col4\" class=\"data row7 col4\" >254</td>\n",
              "      <td id=\"T_6b8e3_row7_col5\" class=\"data row7 col5\" >254</td>\n",
              "      <td id=\"T_6b8e3_row7_col6\" class=\"data row7 col6\" >254</td>\n",
              "      <td id=\"T_6b8e3_row7_col7\" class=\"data row7 col7\" >235</td>\n",
              "      <td id=\"T_6b8e3_row7_col8\" class=\"data row7 col8\" >189</td>\n",
              "      <td id=\"T_6b8e3_row7_col9\" class=\"data row7 col9\" >189</td>\n",
              "      <td id=\"T_6b8e3_row7_col10\" class=\"data row7 col10\" >189</td>\n",
              "      <td id=\"T_6b8e3_row7_col11\" class=\"data row7 col11\" >189</td>\n",
              "      <td id=\"T_6b8e3_row7_col12\" class=\"data row7 col12\" >150</td>\n",
              "      <td id=\"T_6b8e3_row7_col13\" class=\"data row7 col13\" >189</td>\n",
              "      <td id=\"T_6b8e3_row7_col14\" class=\"data row7 col14\" >205</td>\n",
              "      <td id=\"T_6b8e3_row7_col15\" class=\"data row7 col15\" >254</td>\n",
              "      <td id=\"T_6b8e3_row7_col16\" class=\"data row7 col16\" >254</td>\n",
              "      <td id=\"T_6b8e3_row7_col17\" class=\"data row7 col17\" >254</td>\n",
              "      <td id=\"T_6b8e3_row7_col18\" class=\"data row7 col18\" >75</td>\n",
              "      <td id=\"T_6b8e3_row7_col19\" class=\"data row7 col19\" >0</td>\n",
              "    </tr>\n",
              "    <tr>\n",
              "      <th id=\"T_6b8e3_level0_row8\" class=\"row_heading level0 row8\" >8</th>\n",
              "      <td id=\"T_6b8e3_row8_col0\" class=\"data row8 col0\" >0</td>\n",
              "      <td id=\"T_6b8e3_row8_col1\" class=\"data row8 col1\" >0</td>\n",
              "      <td id=\"T_6b8e3_row8_col2\" class=\"data row8 col2\" >0</td>\n",
              "      <td id=\"T_6b8e3_row8_col3\" class=\"data row8 col3\" >35</td>\n",
              "      <td id=\"T_6b8e3_row8_col4\" class=\"data row8 col4\" >74</td>\n",
              "      <td id=\"T_6b8e3_row8_col5\" class=\"data row8 col5\" >35</td>\n",
              "      <td id=\"T_6b8e3_row8_col6\" class=\"data row8 col6\" >35</td>\n",
              "      <td id=\"T_6b8e3_row8_col7\" class=\"data row8 col7\" >25</td>\n",
              "      <td id=\"T_6b8e3_row8_col8\" class=\"data row8 col8\" >0</td>\n",
              "      <td id=\"T_6b8e3_row8_col9\" class=\"data row8 col9\" >0</td>\n",
              "      <td id=\"T_6b8e3_row8_col10\" class=\"data row8 col10\" >0</td>\n",
              "      <td id=\"T_6b8e3_row8_col11\" class=\"data row8 col11\" >0</td>\n",
              "      <td id=\"T_6b8e3_row8_col12\" class=\"data row8 col12\" >0</td>\n",
              "      <td id=\"T_6b8e3_row8_col13\" class=\"data row8 col13\" >0</td>\n",
              "      <td id=\"T_6b8e3_row8_col14\" class=\"data row8 col14\" >13</td>\n",
              "      <td id=\"T_6b8e3_row8_col15\" class=\"data row8 col15\" >224</td>\n",
              "      <td id=\"T_6b8e3_row8_col16\" class=\"data row8 col16\" >254</td>\n",
              "      <td id=\"T_6b8e3_row8_col17\" class=\"data row8 col17\" >254</td>\n",
              "      <td id=\"T_6b8e3_row8_col18\" class=\"data row8 col18\" >153</td>\n",
              "      <td id=\"T_6b8e3_row8_col19\" class=\"data row8 col19\" >0</td>\n",
              "    </tr>\n",
              "    <tr>\n",
              "      <th id=\"T_6b8e3_level0_row9\" class=\"row_heading level0 row9\" >9</th>\n",
              "      <td id=\"T_6b8e3_row9_col0\" class=\"data row9 col0\" >0</td>\n",
              "      <td id=\"T_6b8e3_row9_col1\" class=\"data row9 col1\" >0</td>\n",
              "      <td id=\"T_6b8e3_row9_col2\" class=\"data row9 col2\" >0</td>\n",
              "      <td id=\"T_6b8e3_row9_col3\" class=\"data row9 col3\" >0</td>\n",
              "      <td id=\"T_6b8e3_row9_col4\" class=\"data row9 col4\" >0</td>\n",
              "      <td id=\"T_6b8e3_row9_col5\" class=\"data row9 col5\" >0</td>\n",
              "      <td id=\"T_6b8e3_row9_col6\" class=\"data row9 col6\" >0</td>\n",
              "      <td id=\"T_6b8e3_row9_col7\" class=\"data row9 col7\" >0</td>\n",
              "      <td id=\"T_6b8e3_row9_col8\" class=\"data row9 col8\" >0</td>\n",
              "      <td id=\"T_6b8e3_row9_col9\" class=\"data row9 col9\" >0</td>\n",
              "      <td id=\"T_6b8e3_row9_col10\" class=\"data row9 col10\" >0</td>\n",
              "      <td id=\"T_6b8e3_row9_col11\" class=\"data row9 col11\" >0</td>\n",
              "      <td id=\"T_6b8e3_row9_col12\" class=\"data row9 col12\" >0</td>\n",
              "      <td id=\"T_6b8e3_row9_col13\" class=\"data row9 col13\" >0</td>\n",
              "      <td id=\"T_6b8e3_row9_col14\" class=\"data row9 col14\" >90</td>\n",
              "      <td id=\"T_6b8e3_row9_col15\" class=\"data row9 col15\" >254</td>\n",
              "      <td id=\"T_6b8e3_row9_col16\" class=\"data row9 col16\" >254</td>\n",
              "      <td id=\"T_6b8e3_row9_col17\" class=\"data row9 col17\" >247</td>\n",
              "      <td id=\"T_6b8e3_row9_col18\" class=\"data row9 col18\" >53</td>\n",
              "      <td id=\"T_6b8e3_row9_col19\" class=\"data row9 col19\" >0</td>\n",
              "    </tr>\n",
              "  </tbody>\n",
              "</table>\n"
            ]
          },
          "metadata": {},
          "execution_count": 8
        }
      ]
    },
    {
      "cell_type": "code",
      "source": [
        "(im3_t[4:7,6:9] * top_edge).sum()"
      ],
      "metadata": {
        "colab": {
          "base_uri": "https://localhost:8080/"
        },
        "id": "aEsBaWqtEcsj",
        "outputId": "c0dc069b-d3f5-4374-aeaf-c4d7e91ac809"
      },
      "execution_count": 9,
      "outputs": [
        {
          "output_type": "execute_result",
          "data": {
            "text/plain": [
              "tensor(762.)"
            ]
          },
          "metadata": {},
          "execution_count": 9
        }
      ]
    },
    {
      "cell_type": "code",
      "source": [
        "(im3_t[7:10,17:20] * top_edge).sum()"
      ],
      "metadata": {
        "colab": {
          "base_uri": "https://localhost:8080/"
        },
        "id": "x5D1pQ2hElwc",
        "outputId": "2160837b-e8be-47f6-ed30-fe2db5060883"
      },
      "execution_count": 10,
      "outputs": [
        {
          "output_type": "execute_result",
          "data": {
            "text/plain": [
              "tensor(-29.)"
            ]
          },
          "metadata": {},
          "execution_count": 10
        }
      ]
    },
    {
      "cell_type": "code",
      "source": [
        "(im3_t[4:7,6:9] * top_edge).sum()"
      ],
      "metadata": {
        "colab": {
          "base_uri": "https://localhost:8080/"
        },
        "id": "3rOCnNAmEp3J",
        "outputId": "f6079a0a-b311-4f1a-d8f5-54c196174316"
      },
      "execution_count": 11,
      "outputs": [
        {
          "output_type": "execute_result",
          "data": {
            "text/plain": [
              "tensor(762.)"
            ]
          },
          "metadata": {},
          "execution_count": 11
        }
      ]
    },
    {
      "cell_type": "code",
      "source": [
        "(im3_t[7:10,17:20] * top_edge).sum()"
      ],
      "metadata": {
        "id": "hPI9XrUVOllC",
        "outputId": "ca8438ee-8843-4c13-f4c7-64842cbf4bd0",
        "colab": {
          "base_uri": "https://localhost:8080/"
        }
      },
      "execution_count": 12,
      "outputs": [
        {
          "output_type": "execute_result",
          "data": {
            "text/plain": [
              "tensor(-29.)"
            ]
          },
          "metadata": {},
          "execution_count": 12
        }
      ]
    },
    {
      "cell_type": "code",
      "source": [
        "def apply_kernel(row, col, kernel):\n",
        "  return (im3_t[row-1:row+2, col-1:col+2]*kernel).sum()"
      ],
      "metadata": {
        "id": "xf6gMiWJOoqS"
      },
      "execution_count": 13,
      "outputs": []
    },
    {
      "cell_type": "code",
      "source": [
        "apply_kernel(5, 7, top_edge)"
      ],
      "metadata": {
        "colab": {
          "base_uri": "https://localhost:8080/"
        },
        "id": "r0pFdmGppjuF",
        "outputId": "0dd3a1e7-2a15-4e63-ab53-33a997bb72bb"
      },
      "execution_count": 14,
      "outputs": [
        {
          "output_type": "execute_result",
          "data": {
            "text/plain": [
              "tensor(762.)"
            ]
          },
          "metadata": {},
          "execution_count": 14
        }
      ]
    },
    {
      "cell_type": "code",
      "source": [
        "apply_kernel(8, 18, top_edge)"
      ],
      "metadata": {
        "colab": {
          "base_uri": "https://localhost:8080/"
        },
        "id": "Vpjyjs_upxAp",
        "outputId": "7222591f-7045-46c9-c530-b1e919833a06"
      },
      "execution_count": 15,
      "outputs": [
        {
          "output_type": "execute_result",
          "data": {
            "text/plain": [
              "tensor(-29.)"
            ]
          },
          "metadata": {},
          "execution_count": 15
        }
      ]
    },
    {
      "cell_type": "code",
      "source": [
        "[[(i, j) for j in range(1, 5)] for i in range(1, 5)]"
      ],
      "metadata": {
        "colab": {
          "base_uri": "https://localhost:8080/"
        },
        "id": "khBkRqLDrF_e",
        "outputId": "da3b8b36-6b07-440a-a641-70b64485b908"
      },
      "execution_count": 16,
      "outputs": [
        {
          "output_type": "execute_result",
          "data": {
            "text/plain": [
              "[[(1, 1), (1, 2), (1, 3), (1, 4)],\n",
              " [(2, 1), (2, 2), (2, 3), (2, 4)],\n",
              " [(3, 1), (3, 2), (3, 3), (3, 4)],\n",
              " [(4, 1), (4, 2), (4, 3), (4, 4)]]"
            ]
          },
          "metadata": {},
          "execution_count": 16
        }
      ]
    },
    {
      "cell_type": "code",
      "source": [
        "rng = range(1, 27)\n",
        "top_edge3 = tensor([[apply_kernel(i, j, top_edge) for j in rng] for i in rng])"
      ],
      "metadata": {
        "id": "-9lM1rD2r6F-"
      },
      "execution_count": 17,
      "outputs": []
    },
    {
      "cell_type": "code",
      "source": [
        "show_image(top_edge3)"
      ],
      "metadata": {
        "colab": {
          "base_uri": "https://localhost:8080/",
          "height": 102
        },
        "id": "7gkWWRVdtAp7",
        "outputId": "83cc300a-7744-4653-dc1d-66528c194c73"
      },
      "execution_count": 18,
      "outputs": [
        {
          "output_type": "execute_result",
          "data": {
            "text/plain": [
              "<matplotlib.axes._subplots.AxesSubplot at 0x7fb588b66d00>"
            ]
          },
          "metadata": {},
          "execution_count": 18
        },
        {
          "output_type": "display_data",
          "data": {
            "text/plain": [
              "<Figure size 72x72 with 1 Axes>"
            ],
            "image/png": "[encoded data removed]"
          },
          "metadata": {
            "needs_background": "light"
          }
        }
      ]
    },
    {
      "cell_type": "code",
      "source": [
        "left_edge = tensor([[-1,1,0],\n",
        "                    [-1,1,0],\n",
        "                    [-1,1,0]]).float()\n",
        "\n",
        "left_edge3 = tensor([[apply_kernel(i,j,left_edge) for j in rng] for i in rng])\n",
        "\n",
        "show_image(left_edge3);\n",
        "     "
      ],
      "metadata": {
        "colab": {
          "base_uri": "https://localhost:8080/",
          "height": 85
        },
        "id": "DbTbyc32tS3d",
        "outputId": "79dcb540-93b8-403a-d12b-0a2690fa457c"
      },
      "execution_count": 19,
      "outputs": [
        {
          "output_type": "display_data",
          "data": {
            "text/plain": [
              "<Figure size 72x72 with 1 Axes>"
            ],
            "image/png": "[encoded data removed]"
          },
          "metadata": {
            "needs_background": "light"
          }
        }
      ]
    },
    {
      "cell_type": "code",
      "source": [
        "diag1_edge = tensor([[ 0,-1, 1],\n",
        "                     [-1, 1, 0],\n",
        "                     [ 1, 0, 0]]).float()\n",
        "diag2_edge = tensor([[ 1,-1, 0],\n",
        "                     [ 0, 1,-1],\n",
        "                     [ 0, 0, 1]]).float()\n",
        "\n",
        "edge_kernels = torch.stack([left_edge, top_edge, diag1_edge, diag2_edge])"
      ],
      "metadata": {
        "id": "C4otNGNmtj4G"
      },
      "execution_count": 20,
      "outputs": []
    },
    {
      "cell_type": "code",
      "source": [
        "edge_kernels"
      ],
      "metadata": {
        "colab": {
          "base_uri": "https://localhost:8080/"
        },
        "id": "OvaGnaJZvpQq",
        "outputId": "0566acf5-5ac6-4437-e76a-2ac2e19819e1"
      },
      "execution_count": 21,
      "outputs": [
        {
          "output_type": "execute_result",
          "data": {
            "text/plain": [
              "tensor([[[-1.,  1.,  0.],\n",
              "         [-1.,  1.,  0.],\n",
              "         [-1.,  1.,  0.]],\n",
              "\n",
              "        [[-1., -1., -1.],\n",
              "         [ 0.,  0.,  0.],\n",
              "         [ 1.,  1.,  1.]],\n",
              "\n",
              "        [[ 0., -1.,  1.],\n",
              "         [-1.,  1.,  0.],\n",
              "         [ 1.,  0.,  0.]],\n",
              "\n",
              "        [[ 1., -1.,  0.],\n",
              "         [ 0.,  1., -1.],\n",
              "         [ 0.,  0.,  1.]]])"
            ]
          },
          "metadata": {},
          "execution_count": 21
        }
      ]
    },
    {
      "cell_type": "code",
      "source": [
        "mnist = DataBlock((ImageBlock(cls=PILImageBW), CategoryBlock), \n",
        "                  get_items=get_image_files, \n",
        "                  splitter=GrandparentSplitter(),\n",
        "                  get_y=parent_label)\n",
        "\n",
        "dls = mnist.dataloaders(path)\n",
        "xb,yb = first(dls.valid)\n",
        "xb,yb = to_cpu(xb),to_cpu(yb)\n",
        "xb.shape"
      ],
      "metadata": {
        "colab": {
          "base_uri": "https://localhost:8080/"
        },
        "id": "Hq5deJaLvrPN",
        "outputId": "e10ecf56-9a7c-4683-cb60-9ccd379197ce"
      },
      "execution_count": 22,
      "outputs": [
        {
          "output_type": "execute_result",
          "data": {
            "text/plain": [
              "torch.Size([64, 1, 28, 28])"
            ]
          },
          "metadata": {},
          "execution_count": 22
        }
      ]
    },
    {
      "cell_type": "code",
      "source": [
        "edge_kernels.shape, edge_kernels.unsqueeze(1).shape"
      ],
      "metadata": {
        "colab": {
          "base_uri": "https://localhost:8080/"
        },
        "id": "tQIEZh1iE5V-",
        "outputId": "558d82c0-a3ff-429b-c3b3-e0e16487c049"
      },
      "execution_count": 23,
      "outputs": [
        {
          "output_type": "execute_result",
          "data": {
            "text/plain": [
              "(torch.Size([4, 3, 3]), torch.Size([4, 1, 3, 3]))"
            ]
          },
          "metadata": {},
          "execution_count": 23
        }
      ]
    },
    {
      "cell_type": "code",
      "source": [
        "edge_kernels = edge_kernels.unsqueeze(1)"
      ],
      "metadata": {
        "id": "1p_vx13lJE-D"
      },
      "execution_count": 24,
      "outputs": []
    },
    {
      "cell_type": "code",
      "source": [
        "batch_features = F.conv2d(xb, edge_kernels)\n",
        "batch_features.shape"
      ],
      "metadata": {
        "colab": {
          "base_uri": "https://localhost:8080/"
        },
        "id": "im7J6plQJcuZ",
        "outputId": "2a3e1dae-263b-4d1c-db38-b77a6b6b8591"
      },
      "execution_count": 25,
      "outputs": [
        {
          "output_type": "execute_result",
          "data": {
            "text/plain": [
              "torch.Size([64, 4, 26, 26])"
            ]
          },
          "metadata": {},
          "execution_count": 25
        }
      ]
    },
    {
      "cell_type": "code",
      "source": [
        "show_image(batch_features[0,0])"
      ],
      "metadata": {
        "colab": {
          "base_uri": "https://localhost:8080/",
          "height": 102
        },
        "id": "iXki10WbJ1M-",
        "outputId": "0fd4f578-b976-4454-b4cd-b8885ea4e678"
      },
      "execution_count": 26,
      "outputs": [
        {
          "output_type": "execute_result",
          "data": {
            "text/plain": [
              "<matplotlib.axes._subplots.AxesSubplot at 0x7fb588a86c70>"
            ]
          },
          "metadata": {},
          "execution_count": 26
        },
        {
          "output_type": "display_data",
          "data": {
            "text/plain": [
              "<Figure size 72x72 with 1 Axes>"
            ],
            "image/png": "[encoded data removed]"
          },
          "metadata": {
            "needs_background": "light"
          }
        }
      ]
    },
    {
      "cell_type": "markdown",
      "source": [
        "# Creating CNN"
      ],
      "metadata": {
        "id": "PWRtelfAM1vB"
      }
    },
    {
      "cell_type": "code",
      "source": [
        "simple_net = nn.Sequential(\n",
        "    nn.Linear(28*28, 30),\n",
        "    nn.ReLU(),\n",
        "    nn.Linear(30, 1)\n",
        ")"
      ],
      "metadata": {
        "id": "ahDiqv2nLTyi"
      },
      "execution_count": 27,
      "outputs": []
    },
    {
      "cell_type": "code",
      "source": [
        "simple_net"
      ],
      "metadata": {
        "colab": {
          "base_uri": "https://localhost:8080/"
        },
        "id": "qu4Mr8IPOnra",
        "outputId": "0fb1bef1-5ac2-4173-ec52-9e00dd41422e"
      },
      "execution_count": 28,
      "outputs": [
        {
          "output_type": "execute_result",
          "data": {
            "text/plain": [
              "Sequential(\n",
              "  (0): Linear(in_features=784, out_features=30, bias=True)\n",
              "  (1): ReLU()\n",
              "  (2): Linear(in_features=30, out_features=1, bias=True)\n",
              ")"
            ]
          },
          "metadata": {},
          "execution_count": 28
        }
      ]
    },
    {
      "cell_type": "code",
      "source": [
        "broken_cnn = nn.Sequential(\n",
        "    nn.Conv2d(1, 30, kernel_size=(3, 3), padding=1),\n",
        "    nn.ReLU(),\n",
        "    nn.Conv2d(30, 1, kernel_size=(3, 3), padding=1)\n",
        ")"
      ],
      "metadata": {
        "id": "EhCk68m-OPg-"
      },
      "execution_count": 29,
      "outputs": []
    },
    {
      "cell_type": "code",
      "source": [
        "broken_cnn"
      ],
      "metadata": {
        "colab": {
          "base_uri": "https://localhost:8080/"
        },
        "id": "uN-q-UYxPEq2",
        "outputId": "aa40191c-ce54-423a-bb78-ad6549098233"
      },
      "execution_count": 30,
      "outputs": [
        {
          "output_type": "execute_result",
          "data": {
            "text/plain": [
              "Sequential(\n",
              "  (0): Conv2d(1, 30, kernel_size=(3, 3), stride=(1, 1), padding=(1, 1))\n",
              "  (1): ReLU()\n",
              "  (2): Conv2d(30, 1, kernel_size=(3, 3), stride=(1, 1), padding=(1, 1))\n",
              ")"
            ]
          },
          "metadata": {},
          "execution_count": 30
        }
      ]
    },
    {
      "cell_type": "code",
      "source": [
        "broken_cnn(xb).shape"
      ],
      "metadata": {
        "colab": {
          "base_uri": "https://localhost:8080/"
        },
        "id": "YaDHT4KKPSkK",
        "outputId": "061d1def-b9bf-4c2a-ffca-375fe08faf53"
      },
      "execution_count": 31,
      "outputs": [
        {
          "output_type": "execute_result",
          "data": {
            "text/plain": [
              "torch.Size([64, 1, 28, 28])"
            ]
          },
          "metadata": {},
          "execution_count": 31
        }
      ]
    },
    {
      "cell_type": "code",
      "source": [
        "def conv(ni, nf, ks=3, act=True):\n",
        "    res = nn.Conv2d(ni, nf, stride=2, kernel_size=ks, padding=ks//2)\n",
        "    if act: res = nn.Sequential(res, nn.ReLU())\n",
        "    return res"
      ],
      "metadata": {
        "id": "gjwcdzX9PaPq"
      },
      "execution_count": 32,
      "outputs": []
    },
    {
      "cell_type": "code",
      "source": [
        "simple_cnn = nn.Sequential(\n",
        "    conv(1 ,4),            #14x14\n",
        "    conv(4 ,8),            #7x7\n",
        "    conv(8 ,16),           #4x4\n",
        "    conv(16,32),           #2x2\n",
        "    conv(32,2, act=False), #1x1\n",
        "    Flatten(),\n",
        ")\n",
        "     "
      ],
      "metadata": {
        "id": "LUlYB4ZT-Bn-"
      },
      "execution_count": 33,
      "outputs": []
    },
    {
      "cell_type": "code",
      "source": [
        "learn = Learner(dls, simple_cnn, loss_func=F.cross_entropy, metrics=accuracy)"
      ],
      "metadata": {
        "id": "9MZQkYInEjQR"
      },
      "execution_count": 34,
      "outputs": []
    },
    {
      "cell_type": "code",
      "source": [
        "learn.summary()"
      ],
      "metadata": {
        "colab": {
          "base_uri": "https://localhost:8080/",
          "height": 694
        },
        "id": "zm2THEwGJam4",
        "outputId": "39eb33ea-fc37-41b2-cc17-1861445a12e2"
      },
      "execution_count": 35,
      "outputs": [
        {
          "output_type": "display_data",
          "data": {
            "text/plain": [
              "<IPython.core.display.HTML object>"
            ],
            "text/html": [
              "\n",
              "<style>\n",
              "    /* Turns off some styling */\n",
              "    progress {\n",
              "        /* gets rid of default border in Firefox and Opera. */\n",
              "        border: none;\n",
              "        /* Needs to be in here for Safari polyfill so background images work as expected. */\n",
              "        background-size: auto;\n",
              "    }\n",
              "    progress:not([value]), progress:not([value])::-webkit-progress-bar {\n",
              "        background: repeating-linear-gradient(45deg, #7e7e7e, #7e7e7e 10px, #5c5c5c 10px, #5c5c5c 20px);\n",
              "    }\n",
              "    .progress-bar-interrupted, .progress-bar-interrupted::-webkit-progress-bar {\n",
              "        background: #F44336;\n",
              "    }\n",
              "</style>\n"
            ]
          },
          "metadata": {}
        },
        {
          "output_type": "display_data",
          "data": {
            "text/plain": [
              "<IPython.core.display.HTML object>"
            ],
            "text/html": []
          },
          "metadata": {}
        },
        {
          "output_type": "execute_result",
          "data": {
            "text/plain": [
              "Sequential (Input shape: 64 x 1 x 28 x 28)\n",
              "============================================================================\n",
              "Layer (type)         Output Shape         Param #    Trainable \n",
              "============================================================================\n",
              "                     64 x 4 x 14 x 14    \n",
              "Conv2d                                    40         True      \n",
              "ReLU                                                           \n",
              "____________________________________________________________________________\n",
              "                     64 x 8 x 7 x 7      \n",
              "Conv2d                                    296        True      \n",
              "ReLU                                                           \n",
              "____________________________________________________________________________\n",
              "                     64 x 16 x 4 x 4     \n",
              "Conv2d                                    1168       True      \n",
              "ReLU                                                           \n",
              "____________________________________________________________________________\n",
              "                     64 x 32 x 2 x 2     \n",
              "Conv2d                                    4640       True      \n",
              "ReLU                                                           \n",
              "____________________________________________________________________________\n",
              "                     64 x 2 x 1 x 1      \n",
              "Conv2d                                    578        True      \n",
              "____________________________________________________________________________\n",
              "                     64 x 2              \n",
              "Flatten                                                        \n",
              "____________________________________________________________________________\n",
              "\n",
              "Total params: 6,722\n",
              "Total trainable params: 6,722\n",
              "Total non-trainable params: 0\n",
              "\n",
              "Optimizer used: <function Adam at 0x7fb58a084940>\n",
              "Loss function: <function cross_entropy at 0x7fb59ce303a0>\n",
              "\n",
              "Callbacks:\n",
              "  - TrainEvalCallback\n",
              "  - CastToTensor\n",
              "  - Recorder\n",
              "  - ProgressCallback"
            ],
            "application/vnd.google.colaboratory.intrinsic+json": {
              "type": "string"
            }
          },
          "metadata": {},
          "execution_count": 35
        }
      ]
    },
    {
      "cell_type": "code",
      "source": [
        "learn.lr_find()"
      ],
      "metadata": {
        "colab": {
          "base_uri": "https://localhost:8080/",
          "height": 301
        },
        "id": "Hbf7bb9tMnhS",
        "outputId": "3e8016cd-3300-44e8-f5de-9031b8129fd4"
      },
      "execution_count": 36,
      "outputs": [
        {
          "output_type": "display_data",
          "data": {
            "text/plain": [
              "<IPython.core.display.HTML object>"
            ],
            "text/html": [
              "\n",
              "<style>\n",
              "    /* Turns off some styling */\n",
              "    progress {\n",
              "        /* gets rid of default border in Firefox and Opera. */\n",
              "        border: none;\n",
              "        /* Needs to be in here for Safari polyfill so background images work as expected. */\n",
              "        background-size: auto;\n",
              "    }\n",
              "    progress:not([value]), progress:not([value])::-webkit-progress-bar {\n",
              "        background: repeating-linear-gradient(45deg, #7e7e7e, #7e7e7e 10px, #5c5c5c 10px, #5c5c5c 20px);\n",
              "    }\n",
              "    .progress-bar-interrupted, .progress-bar-interrupted::-webkit-progress-bar {\n",
              "        background: #F44336;\n",
              "    }\n",
              "</style>\n"
            ]
          },
          "metadata": {}
        },
        {
          "output_type": "display_data",
          "data": {
            "text/plain": [
              "<IPython.core.display.HTML object>"
            ],
            "text/html": []
          },
          "metadata": {}
        },
        {
          "output_type": "execute_result",
          "data": {
            "text/plain": [
              "SuggestedLRs(valley=0.005248074419796467)"
            ]
          },
          "metadata": {},
          "execution_count": 36
        },
        {
          "output_type": "display_data",
          "data": {
            "text/plain": [
              "<Figure size 432x288 with 1 Axes>"
            ],
            "image/png": "[encoded data removed]"
          },
          "metadata": {
            "needs_background": "light"
          }
        }
      ]
    },
    {
      "cell_type": "code",
      "source": [
        "learn.fit_one_cycle(n_epoch = 2, lr_max=0.01)"
      ],
      "metadata": {
        "colab": {
          "base_uri": "https://localhost:8080/",
          "height": 112
        },
        "id": "UWLutI4rOasL",
        "outputId": "4ffec190-42b3-4ff5-90a8-6df28486353e"
      },
      "execution_count": 37,
      "outputs": [
        {
          "output_type": "display_data",
          "data": {
            "text/plain": [
              "<IPython.core.display.HTML object>"
            ],
            "text/html": [
              "\n",
              "<style>\n",
              "    /* Turns off some styling */\n",
              "    progress {\n",
              "        /* gets rid of default border in Firefox and Opera. */\n",
              "        border: none;\n",
              "        /* Needs to be in here for Safari polyfill so background images work as expected. */\n",
              "        background-size: auto;\n",
              "    }\n",
              "    progress:not([value]), progress:not([value])::-webkit-progress-bar {\n",
              "        background: repeating-linear-gradient(45deg, #7e7e7e, #7e7e7e 10px, #5c5c5c 10px, #5c5c5c 20px);\n",
              "    }\n",
              "    .progress-bar-interrupted, .progress-bar-interrupted::-webkit-progress-bar {\n",
              "        background: #F44336;\n",
              "    }\n",
              "</style>\n"
            ]
          },
          "metadata": {}
        },
        {
          "output_type": "display_data",
          "data": {
            "text/plain": [
              "<IPython.core.display.HTML object>"
            ],
            "text/html": [
              "<table border=\"1\" class=\"dataframe\">\n",
              "  <thead>\n",
              "    <tr style=\"text-align: left;\">\n",
              "      <th>epoch</th>\n",
              "      <th>train_loss</th>\n",
              "      <th>valid_loss</th>\n",
              "      <th>accuracy</th>\n",
              "      <th>time</th>\n",
              "    </tr>\n",
              "  </thead>\n",
              "  <tbody>\n",
              "    <tr>\n",
              "      <td>0</td>\n",
              "      <td>0.060617</td>\n",
              "      <td>0.046022</td>\n",
              "      <td>0.983808</td>\n",
              "      <td>00:11</td>\n",
              "    </tr>\n",
              "    <tr>\n",
              "      <td>1</td>\n",
              "      <td>0.023579</td>\n",
              "      <td>0.027678</td>\n",
              "      <td>0.989205</td>\n",
              "      <td>00:11</td>\n",
              "    </tr>\n",
              "  </tbody>\n",
              "</table>"
            ]
          },
          "metadata": {}
        }
      ]
    },
    {
      "cell_type": "code",
      "source": [
        "learn.unfreeze()"
      ],
      "metadata": {
        "id": "19BtJipOO4ip"
      },
      "execution_count": 38,
      "outputs": []
    },
    {
      "cell_type": "code",
      "source": [
        "learn.fit_one_cycle(n_epoch = 2, lr_max=0.01)"
      ],
      "metadata": {
        "colab": {
          "base_uri": "https://localhost:8080/",
          "height": 112
        },
        "id": "ndRBxlyPPRg6",
        "outputId": "25d31875-b672-4b3b-9f6b-fa7004a1d61d"
      },
      "execution_count": 39,
      "outputs": [
        {
          "output_type": "display_data",
          "data": {
            "text/plain": [
              "<IPython.core.display.HTML object>"
            ],
            "text/html": [
              "\n",
              "<style>\n",
              "    /* Turns off some styling */\n",
              "    progress {\n",
              "        /* gets rid of default border in Firefox and Opera. */\n",
              "        border: none;\n",
              "        /* Needs to be in here for Safari polyfill so background images work as expected. */\n",
              "        background-size: auto;\n",
              "    }\n",
              "    progress:not([value]), progress:not([value])::-webkit-progress-bar {\n",
              "        background: repeating-linear-gradient(45deg, #7e7e7e, #7e7e7e 10px, #5c5c5c 10px, #5c5c5c 20px);\n",
              "    }\n",
              "    .progress-bar-interrupted, .progress-bar-interrupted::-webkit-progress-bar {\n",
              "        background: #F44336;\n",
              "    }\n",
              "</style>\n"
            ]
          },
          "metadata": {}
        },
        {
          "output_type": "display_data",
          "data": {
            "text/plain": [
              "<IPython.core.display.HTML object>"
            ],
            "text/html": [
              "<table border=\"1\" class=\"dataframe\">\n",
              "  <thead>\n",
              "    <tr style=\"text-align: left;\">\n",
              "      <th>epoch</th>\n",
              "      <th>train_loss</th>\n",
              "      <th>valid_loss</th>\n",
              "      <th>accuracy</th>\n",
              "      <th>time</th>\n",
              "    </tr>\n",
              "  </thead>\n",
              "  <tbody>\n",
              "    <tr>\n",
              "      <td>0</td>\n",
              "      <td>0.027034</td>\n",
              "      <td>0.023119</td>\n",
              "      <td>0.992640</td>\n",
              "      <td>00:12</td>\n",
              "    </tr>\n",
              "    <tr>\n",
              "      <td>1</td>\n",
              "      <td>0.013658</td>\n",
              "      <td>0.018243</td>\n",
              "      <td>0.994603</td>\n",
              "      <td>00:11</td>\n",
              "    </tr>\n",
              "  </tbody>\n",
              "</table>"
            ]
          },
          "metadata": {}
        }
      ]
    }
  ]
}