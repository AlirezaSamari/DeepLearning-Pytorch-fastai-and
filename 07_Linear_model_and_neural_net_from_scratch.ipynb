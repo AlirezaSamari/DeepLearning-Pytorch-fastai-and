{
  "cells": [
    {
      "cell_type": "markdown",
      "metadata": {
        "id": "view-in-github",
        "colab_type": "text"
      },
      "source": [
        "<a href=\"https://colab.research.google.com/github/AlirezaSamari/DeepLearning-Pytorch-fastai-and/blob/main/07_Linear_model_and_neural_net_from_scratch.ipynb\" target=\"_parent\"><img src=\"https://colab.research.google.com/assets/colab-badge.svg\" alt=\"Open In Colab\"/></a>"
      ]
    },
    {
      "cell_type": "code",
      "execution_count": 1,
      "metadata": {
        "id": "Jz7K4xSxxKCF"
      },
      "outputs": [],
      "source": [
        "import numpy as np\n",
        "import pandas as pd\n",
        "from fastai import *\n",
        "import torch"
      ]
    },
    {
      "cell_type": "code",
      "execution_count": 2,
      "metadata": {
        "colab": {
          "base_uri": "https://localhost:8080/"
        },
        "id": "-f85Lrz3zaLC",
        "outputId": "e211a6f2-ecc7-45c1-8c6a-e0ce418b8df8"
      },
      "outputs": [
        {
          "output_type": "stream",
          "name": "stdout",
          "text": [
            "Looking in indexes: https://pypi.org/simple, https://us-python.pkg.dev/colab-wheels/public/simple/\n",
            "Requirement already satisfied: opendatasets in /usr/local/lib/python3.7/dist-packages (0.1.22)\n",
            "Requirement already satisfied: tqdm in /usr/local/lib/python3.7/dist-packages (from opendatasets) (4.64.1)\n",
            "Requirement already satisfied: click in /usr/local/lib/python3.7/dist-packages (from opendatasets) (7.1.2)\n",
            "Requirement already satisfied: kaggle in /usr/local/lib/python3.7/dist-packages (from opendatasets) (1.5.12)\n",
            "Requirement already satisfied: six>=1.10 in /usr/local/lib/python3.7/dist-packages (from kaggle->opendatasets) (1.15.0)\n",
            "Requirement already satisfied: requests in /usr/local/lib/python3.7/dist-packages (from kaggle->opendatasets) (2.23.0)\n",
            "Requirement already satisfied: python-dateutil in /usr/local/lib/python3.7/dist-packages (from kaggle->opendatasets) (2.8.2)\n",
            "Requirement already satisfied: python-slugify in /usr/local/lib/python3.7/dist-packages (from kaggle->opendatasets) (6.1.2)\n",
            "Requirement already satisfied: certifi in /usr/local/lib/python3.7/dist-packages (from kaggle->opendatasets) (2022.9.24)\n",
            "Requirement already satisfied: urllib3 in /usr/local/lib/python3.7/dist-packages (from kaggle->opendatasets) (1.24.3)\n",
            "Requirement already satisfied: text-unidecode>=1.3 in /usr/local/lib/python3.7/dist-packages (from python-slugify->kaggle->opendatasets) (1.3)\n",
            "Requirement already satisfied: chardet<4,>=3.0.2 in /usr/local/lib/python3.7/dist-packages (from requests->kaggle->opendatasets) (3.0.4)\n",
            "Requirement already satisfied: idna<3,>=2.5 in /usr/local/lib/python3.7/dist-packages (from requests->kaggle->opendatasets) (2.10)\n",
            "Skipping, found downloaded files in \"./titanic\" (use force=True to force download)\n"
          ]
        }
      ],
      "source": [
        "!pip install opendatasets\n",
        "\n",
        "import opendatasets as od\n",
        "od.download(\n",
        "    \"https://www.kaggle.com/competitions/titanic/data\")"
      ]
    },
    {
      "cell_type": "code",
      "execution_count": 3,
      "metadata": {
        "colab": {
          "base_uri": "https://localhost:8080/",
          "height": 206
        },
        "id": "TPYiC9Skxa3d",
        "outputId": "d85c2332-3384-4878-c597-f1ab9b5f933a"
      },
      "outputs": [
        {
          "output_type": "execute_result",
          "data": {
            "text/plain": [
              "   PassengerId  Survived  Pclass  \\\n",
              "0            1         0       3   \n",
              "1            2         1       1   \n",
              "2            3         1       3   \n",
              "3            4         1       1   \n",
              "4            5         0       3   \n",
              "\n",
              "                                                Name     Sex   Age  SibSp  \\\n",
              "0                            Braund, Mr. Owen Harris    male  22.0      1   \n",
              "1  Cumings, Mrs. John Bradley (Florence Briggs Th...  female  38.0      1   \n",
              "2                             Heikkinen, Miss. Laina  female  26.0      0   \n",
              "3       Futrelle, Mrs. Jacques Heath (Lily May Peel)  female  35.0      1   \n",
              "4                           Allen, Mr. William Henry    male  35.0      0   \n",
              "\n",
              "   Parch            Ticket     Fare Cabin Embarked  \n",
              "0      0         A/5 21171   7.2500   NaN        S  \n",
              "1      0          PC 17599  71.2833   C85        C  \n",
              "2      0  STON/O2. 3101282   7.9250   NaN        S  \n",
              "3      0            113803  53.1000  C123        S  \n",
              "4      0            373450   8.0500   NaN        S  "
            ],
            "text/html": [
              "\n",
              "  <div id=\"df-097b6fac-0b9e-431f-9cf4-003d0f6ae0c9\">\n",
              "    <div class=\"colab-df-container\">\n",
              "      <div>\n",
              "<style scoped>\n",
              "    .dataframe tbody tr th:only-of-type {\n",
              "        vertical-align: middle;\n",
              "    }\n",
              "\n",
              "    .dataframe tbody tr th {\n",
              "        vertical-align: top;\n",
              "    }\n",
              "\n",
              "    .dataframe thead th {\n",
              "        text-align: right;\n",
              "    }\n",
              "</style>\n",
              "<table border=\"1\" class=\"dataframe\">\n",
              "  <thead>\n",
              "    <tr style=\"text-align: right;\">\n",
              "      <th></th>\n",
              "      <th>PassengerId</th>\n",
              "      <th>Survived</th>\n",
              "      <th>Pclass</th>\n",
              "      <th>Name</th>\n",
              "      <th>Sex</th>\n",
              "      <th>Age</th>\n",
              "      <th>SibSp</th>\n",
              "      <th>Parch</th>\n",
              "      <th>Ticket</th>\n",
              "      <th>Fare</th>\n",
              "      <th>Cabin</th>\n",
              "      <th>Embarked</th>\n",
              "    </tr>\n",
              "  </thead>\n",
              "  <tbody>\n",
              "    <tr>\n",
              "      <th>0</th>\n",
              "      <td>1</td>\n",
              "      <td>0</td>\n",
              "      <td>3</td>\n",
              "      <td>Braund, Mr. Owen Harris</td>\n",
              "      <td>male</td>\n",
              "      <td>22.0</td>\n",
              "      <td>1</td>\n",
              "      <td>0</td>\n",
              "      <td>A/5 21171</td>\n",
              "      <td>7.2500</td>\n",
              "      <td>NaN</td>\n",
              "      <td>S</td>\n",
              "    </tr>\n",
              "    <tr>\n",
              "      <th>1</th>\n",
              "      <td>2</td>\n",
              "      <td>1</td>\n",
              "      <td>1</td>\n",
              "      <td>Cumings, Mrs. John Bradley (Florence Briggs Th...</td>\n",
              "      <td>female</td>\n",
              "      <td>38.0</td>\n",
              "      <td>1</td>\n",
              "      <td>0</td>\n",
              "      <td>PC 17599</td>\n",
              "      <td>71.2833</td>\n",
              "      <td>C85</td>\n",
              "      <td>C</td>\n",
              "    </tr>\n",
              "    <tr>\n",
              "      <th>2</th>\n",
              "      <td>3</td>\n",
              "      <td>1</td>\n",
              "      <td>3</td>\n",
              "      <td>Heikkinen, Miss. Laina</td>\n",
              "      <td>female</td>\n",
              "      <td>26.0</td>\n",
              "      <td>0</td>\n",
              "      <td>0</td>\n",
              "      <td>STON/O2. 3101282</td>\n",
              "      <td>7.9250</td>\n",
              "      <td>NaN</td>\n",
              "      <td>S</td>\n",
              "    </tr>\n",
              "    <tr>\n",
              "      <th>3</th>\n",
              "      <td>4</td>\n",
              "      <td>1</td>\n",
              "      <td>1</td>\n",
              "      <td>Futrelle, Mrs. Jacques Heath (Lily May Peel)</td>\n",
              "      <td>female</td>\n",
              "      <td>35.0</td>\n",
              "      <td>1</td>\n",
              "      <td>0</td>\n",
              "      <td>113803</td>\n",
              "      <td>53.1000</td>\n",
              "      <td>C123</td>\n",
              "      <td>S</td>\n",
              "    </tr>\n",
              "    <tr>\n",
              "      <th>4</th>\n",
              "      <td>5</td>\n",
              "      <td>0</td>\n",
              "      <td>3</td>\n",
              "      <td>Allen, Mr. William Henry</td>\n",
              "      <td>male</td>\n",
              "      <td>35.0</td>\n",
              "      <td>0</td>\n",
              "      <td>0</td>\n",
              "      <td>373450</td>\n",
              "      <td>8.0500</td>\n",
              "      <td>NaN</td>\n",
              "      <td>S</td>\n",
              "    </tr>\n",
              "  </tbody>\n",
              "</table>\n",
              "</div>\n",
              "      <button class=\"colab-df-convert\" onclick=\"convertToInteractive('df-097b6fac-0b9e-431f-9cf4-003d0f6ae0c9')\"\n",
              "              title=\"Convert this dataframe to an interactive table.\"\n",
              "              style=\"display:none;\">\n",
              "        \n",
              "  <svg xmlns=\"http://www.w3.org/2000/svg\" height=\"24px\"viewBox=\"0 0 24 24\"\n",
              "       width=\"24px\">\n",
              "    <path d=\"M0 0h24v24H0V0z\" fill=\"none\"/>\n",
              "    <path d=\"M18.56 5.44l.94 2.06.94-2.06 2.06-.94-2.06-.94-.94-2.06-.94 2.06-2.06.94zm-11 1L8.5 8.5l.94-2.06 2.06-.94-2.06-.94L8.5 2.5l-.94 2.06-2.06.94zm10 10l.94 2.06.94-2.06 2.06-.94-2.06-.94-.94-2.06-.94 2.06-2.06.94z\"/><path d=\"M17.41 7.96l-1.37-1.37c-.4-.4-.92-.59-1.43-.59-.52 0-1.04.2-1.43.59L10.3 9.45l-7.72 7.72c-.78.78-.78 2.05 0 2.83L4 21.41c.39.39.9.59 1.41.59.51 0 1.02-.2 1.41-.59l7.78-7.78 2.81-2.81c.8-.78.8-2.07 0-2.86zM5.41 20L4 18.59l7.72-7.72 1.47 1.35L5.41 20z\"/>\n",
              "  </svg>\n",
              "      </button>\n",
              "      \n",
              "  <style>\n",
              "    .colab-df-container {\n",
              "      display:flex;\n",
              "      flex-wrap:wrap;\n",
              "      gap: 12px;\n",
              "    }\n",
              "\n",
              "    .colab-df-convert {\n",
              "      background-color: #E8F0FE;\n",
              "      border: none;\n",
              "      border-radius: 50%;\n",
              "      cursor: pointer;\n",
              "      display: none;\n",
              "      fill: #1967D2;\n",
              "      height: 32px;\n",
              "      padding: 0 0 0 0;\n",
              "      width: 32px;\n",
              "    }\n",
              "\n",
              "    .colab-df-convert:hover {\n",
              "      background-color: #E2EBFA;\n",
              "      box-shadow: 0px 1px 2px rgba(60, 64, 67, 0.3), 0px 1px 3px 1px rgba(60, 64, 67, 0.15);\n",
              "      fill: #174EA6;\n",
              "    }\n",
              "\n",
              "    [theme=dark] .colab-df-convert {\n",
              "      background-color: #3B4455;\n",
              "      fill: #D2E3FC;\n",
              "    }\n",
              "\n",
              "    [theme=dark] .colab-df-convert:hover {\n",
              "      background-color: #434B5C;\n",
              "      box-shadow: 0px 1px 3px 1px rgba(0, 0, 0, 0.15);\n",
              "      filter: drop-shadow(0px 1px 2px rgba(0, 0, 0, 0.3));\n",
              "      fill: #FFFFFF;\n",
              "    }\n",
              "  </style>\n",
              "\n",
              "      <script>\n",
              "        const buttonEl =\n",
              "          document.querySelector('#df-097b6fac-0b9e-431f-9cf4-003d0f6ae0c9 button.colab-df-convert');\n",
              "        buttonEl.style.display =\n",
              "          google.colab.kernel.accessAllowed ? 'block' : 'none';\n",
              "\n",
              "        async function convertToInteractive(key) {\n",
              "          const element = document.querySelector('#df-097b6fac-0b9e-431f-9cf4-003d0f6ae0c9');\n",
              "          const dataTable =\n",
              "            await google.colab.kernel.invokeFunction('convertToInteractive',\n",
              "                                                     [key], {});\n",
              "          if (!dataTable) return;\n",
              "\n",
              "          const docLinkHtml = 'Like what you see? Visit the ' +\n",
              "            '<a target=\"_blank\" href=https://colab.research.google.com/notebooks/data_table.ipynb>data table notebook</a>'\n",
              "            + ' to learn more about interactive tables.';\n",
              "          element.innerHTML = '';\n",
              "          dataTable['output_type'] = 'display_data';\n",
              "          await google.colab.output.renderOutput(dataTable, element);\n",
              "          const docLink = document.createElement('div');\n",
              "          docLink.innerHTML = docLinkHtml;\n",
              "          element.appendChild(docLink);\n",
              "        }\n",
              "      </script>\n",
              "    </div>\n",
              "  </div>\n",
              "  "
            ]
          },
          "metadata": {},
          "execution_count": 3
        }
      ],
      "source": [
        "df = pd.read_csv('/content/titanic/train.csv')\n",
        "df.head()"
      ]
    },
    {
      "cell_type": "code",
      "execution_count": 4,
      "metadata": {
        "colab": {
          "base_uri": "https://localhost:8080/"
        },
        "id": "4Qt4kTvSx10N",
        "outputId": "4f3eafe7-d7a4-4a52-dd29-0a3be22f2013"
      },
      "outputs": [
        {
          "output_type": "execute_result",
          "data": {
            "text/plain": [
              "PassengerId      0\n",
              "Survived         0\n",
              "Pclass           0\n",
              "Name             0\n",
              "Sex              0\n",
              "Age            177\n",
              "SibSp            0\n",
              "Parch            0\n",
              "Ticket           0\n",
              "Fare             0\n",
              "Cabin          687\n",
              "Embarked         2\n",
              "dtype: int64"
            ]
          },
          "metadata": {},
          "execution_count": 4
        }
      ],
      "source": [
        "df.isna().sum()"
      ]
    },
    {
      "cell_type": "code",
      "execution_count": 5,
      "metadata": {
        "colab": {
          "base_uri": "https://localhost:8080/"
        },
        "id": "FGBsDmAScxEq",
        "outputId": "48033ac9-993f-4cbe-80ff-a80811a92bf9"
      },
      "outputs": [
        {
          "output_type": "execute_result",
          "data": {
            "text/plain": [
              "PassengerId                      1\n",
              "Survived                       0.0\n",
              "Pclass                         3.0\n",
              "Name           Abbing, Mr. Anthony\n",
              "Sex                           male\n",
              "Age                           24.0\n",
              "SibSp                          0.0\n",
              "Parch                          0.0\n",
              "Ticket                        1601\n",
              "Fare                          8.05\n",
              "Cabin                      B96 B98\n",
              "Embarked                         S\n",
              "Name: 0, dtype: object"
            ]
          },
          "metadata": {},
          "execution_count": 5
        }
      ],
      "source": [
        "modes = df.mode().iloc[0] #first row of dataframe\n",
        "modes"
      ]
    },
    {
      "cell_type": "code",
      "execution_count": 6,
      "metadata": {
        "id": "NyhUOtg2eAEy"
      },
      "outputs": [],
      "source": [
        "df.fillna(modes, inplace = True) #replacing modes"
      ]
    },
    {
      "cell_type": "code",
      "execution_count": 7,
      "metadata": {
        "colab": {
          "base_uri": "https://localhost:8080/"
        },
        "id": "366STj_vpqnz",
        "outputId": "2848adfd-a02b-4d0e-8f61-c94754307001"
      },
      "outputs": [
        {
          "output_type": "execute_result",
          "data": {
            "text/plain": [
              "PassengerId    0\n",
              "Survived       0\n",
              "Pclass         0\n",
              "Name           0\n",
              "Sex            0\n",
              "Age            0\n",
              "SibSp          0\n",
              "Parch          0\n",
              "Ticket         0\n",
              "Fare           0\n",
              "Cabin          0\n",
              "Embarked       0\n",
              "dtype: int64"
            ]
          },
          "metadata": {},
          "execution_count": 7
        }
      ],
      "source": [
        "df.isna().sum()"
      ]
    },
    {
      "cell_type": "code",
      "execution_count": 8,
      "metadata": {
        "colab": {
          "base_uri": "https://localhost:8080/",
          "height": 300
        },
        "id": "ApU96lfPpunz",
        "outputId": "37e0ea7b-e121-4957-f871-cf09193bc6ef"
      },
      "outputs": [
        {
          "output_type": "execute_result",
          "data": {
            "text/plain": [
              "       PassengerId    Survived      Pclass         Age       SibSp  \\\n",
              "count   891.000000  891.000000  891.000000  891.000000  891.000000   \n",
              "mean    446.000000    0.383838    2.308642   28.566970    0.523008   \n",
              "std     257.353842    0.486592    0.836071   13.199572    1.102743   \n",
              "min       1.000000    0.000000    1.000000    0.420000    0.000000   \n",
              "25%     223.500000    0.000000    2.000000   22.000000    0.000000   \n",
              "50%     446.000000    0.000000    3.000000   24.000000    0.000000   \n",
              "75%     668.500000    1.000000    3.000000   35.000000    1.000000   \n",
              "max     891.000000    1.000000    3.000000   80.000000    8.000000   \n",
              "\n",
              "            Parch        Fare  \n",
              "count  891.000000  891.000000  \n",
              "mean     0.381594   32.204208  \n",
              "std      0.806057   49.693429  \n",
              "min      0.000000    0.000000  \n",
              "25%      0.000000    7.910400  \n",
              "50%      0.000000   14.454200  \n",
              "75%      0.000000   31.000000  \n",
              "max      6.000000  512.329200  "
            ],
            "text/html": [
              "\n",
              "  <div id=\"df-2e539cd3-726a-4854-8450-8417a1de278a\">\n",
              "    <div class=\"colab-df-container\">\n",
              "      <div>\n",
              "<style scoped>\n",
              "    .dataframe tbody tr th:only-of-type {\n",
              "        vertical-align: middle;\n",
              "    }\n",
              "\n",
              "    .dataframe tbody tr th {\n",
              "        vertical-align: top;\n",
              "    }\n",
              "\n",
              "    .dataframe thead th {\n",
              "        text-align: right;\n",
              "    }\n",
              "</style>\n",
              "<table border=\"1\" class=\"dataframe\">\n",
              "  <thead>\n",
              "    <tr style=\"text-align: right;\">\n",
              "      <th></th>\n",
              "      <th>PassengerId</th>\n",
              "      <th>Survived</th>\n",
              "      <th>Pclass</th>\n",
              "      <th>Age</th>\n",
              "      <th>SibSp</th>\n",
              "      <th>Parch</th>\n",
              "      <th>Fare</th>\n",
              "    </tr>\n",
              "  </thead>\n",
              "  <tbody>\n",
              "    <tr>\n",
              "      <th>count</th>\n",
              "      <td>891.000000</td>\n",
              "      <td>891.000000</td>\n",
              "      <td>891.000000</td>\n",
              "      <td>891.000000</td>\n",
              "      <td>891.000000</td>\n",
              "      <td>891.000000</td>\n",
              "      <td>891.000000</td>\n",
              "    </tr>\n",
              "    <tr>\n",
              "      <th>mean</th>\n",
              "      <td>446.000000</td>\n",
              "      <td>0.383838</td>\n",
              "      <td>2.308642</td>\n",
              "      <td>28.566970</td>\n",
              "      <td>0.523008</td>\n",
              "      <td>0.381594</td>\n",
              "      <td>32.204208</td>\n",
              "    </tr>\n",
              "    <tr>\n",
              "      <th>std</th>\n",
              "      <td>257.353842</td>\n",
              "      <td>0.486592</td>\n",
              "      <td>0.836071</td>\n",
              "      <td>13.199572</td>\n",
              "      <td>1.102743</td>\n",
              "      <td>0.806057</td>\n",
              "      <td>49.693429</td>\n",
              "    </tr>\n",
              "    <tr>\n",
              "      <th>min</th>\n",
              "      <td>1.000000</td>\n",
              "      <td>0.000000</td>\n",
              "      <td>1.000000</td>\n",
              "      <td>0.420000</td>\n",
              "      <td>0.000000</td>\n",
              "      <td>0.000000</td>\n",
              "      <td>0.000000</td>\n",
              "    </tr>\n",
              "    <tr>\n",
              "      <th>25%</th>\n",
              "      <td>223.500000</td>\n",
              "      <td>0.000000</td>\n",
              "      <td>2.000000</td>\n",
              "      <td>22.000000</td>\n",
              "      <td>0.000000</td>\n",
              "      <td>0.000000</td>\n",
              "      <td>7.910400</td>\n",
              "    </tr>\n",
              "    <tr>\n",
              "      <th>50%</th>\n",
              "      <td>446.000000</td>\n",
              "      <td>0.000000</td>\n",
              "      <td>3.000000</td>\n",
              "      <td>24.000000</td>\n",
              "      <td>0.000000</td>\n",
              "      <td>0.000000</td>\n",
              "      <td>14.454200</td>\n",
              "    </tr>\n",
              "    <tr>\n",
              "      <th>75%</th>\n",
              "      <td>668.500000</td>\n",
              "      <td>1.000000</td>\n",
              "      <td>3.000000</td>\n",
              "      <td>35.000000</td>\n",
              "      <td>1.000000</td>\n",
              "      <td>0.000000</td>\n",
              "      <td>31.000000</td>\n",
              "    </tr>\n",
              "    <tr>\n",
              "      <th>max</th>\n",
              "      <td>891.000000</td>\n",
              "      <td>1.000000</td>\n",
              "      <td>3.000000</td>\n",
              "      <td>80.000000</td>\n",
              "      <td>8.000000</td>\n",
              "      <td>6.000000</td>\n",
              "      <td>512.329200</td>\n",
              "    </tr>\n",
              "  </tbody>\n",
              "</table>\n",
              "</div>\n",
              "      <button class=\"colab-df-convert\" onclick=\"convertToInteractive('df-2e539cd3-726a-4854-8450-8417a1de278a')\"\n",
              "              title=\"Convert this dataframe to an interactive table.\"\n",
              "              style=\"display:none;\">\n",
              "        \n",
              "  <svg xmlns=\"http://www.w3.org/2000/svg\" height=\"24px\"viewBox=\"0 0 24 24\"\n",
              "       width=\"24px\">\n",
              "    <path d=\"M0 0h24v24H0V0z\" fill=\"none\"/>\n",
              "    <path d=\"M18.56 5.44l.94 2.06.94-2.06 2.06-.94-2.06-.94-.94-2.06-.94 2.06-2.06.94zm-11 1L8.5 8.5l.94-2.06 2.06-.94-2.06-.94L8.5 2.5l-.94 2.06-2.06.94zm10 10l.94 2.06.94-2.06 2.06-.94-2.06-.94-.94-2.06-.94 2.06-2.06.94z\"/><path d=\"M17.41 7.96l-1.37-1.37c-.4-.4-.92-.59-1.43-.59-.52 0-1.04.2-1.43.59L10.3 9.45l-7.72 7.72c-.78.78-.78 2.05 0 2.83L4 21.41c.39.39.9.59 1.41.59.51 0 1.02-.2 1.41-.59l7.78-7.78 2.81-2.81c.8-.78.8-2.07 0-2.86zM5.41 20L4 18.59l7.72-7.72 1.47 1.35L5.41 20z\"/>\n",
              "  </svg>\n",
              "      </button>\n",
              "      \n",
              "  <style>\n",
              "    .colab-df-container {\n",
              "      display:flex;\n",
              "      flex-wrap:wrap;\n",
              "      gap: 12px;\n",
              "    }\n",
              "\n",
              "    .colab-df-convert {\n",
              "      background-color: #E8F0FE;\n",
              "      border: none;\n",
              "      border-radius: 50%;\n",
              "      cursor: pointer;\n",
              "      display: none;\n",
              "      fill: #1967D2;\n",
              "      height: 32px;\n",
              "      padding: 0 0 0 0;\n",
              "      width: 32px;\n",
              "    }\n",
              "\n",
              "    .colab-df-convert:hover {\n",
              "      background-color: #E2EBFA;\n",
              "      box-shadow: 0px 1px 2px rgba(60, 64, 67, 0.3), 0px 1px 3px 1px rgba(60, 64, 67, 0.15);\n",
              "      fill: #174EA6;\n",
              "    }\n",
              "\n",
              "    [theme=dark] .colab-df-convert {\n",
              "      background-color: #3B4455;\n",
              "      fill: #D2E3FC;\n",
              "    }\n",
              "\n",
              "    [theme=dark] .colab-df-convert:hover {\n",
              "      background-color: #434B5C;\n",
              "      box-shadow: 0px 1px 3px 1px rgba(0, 0, 0, 0.15);\n",
              "      filter: drop-shadow(0px 1px 2px rgba(0, 0, 0, 0.3));\n",
              "      fill: #FFFFFF;\n",
              "    }\n",
              "  </style>\n",
              "\n",
              "      <script>\n",
              "        const buttonEl =\n",
              "          document.querySelector('#df-2e539cd3-726a-4854-8450-8417a1de278a button.colab-df-convert');\n",
              "        buttonEl.style.display =\n",
              "          google.colab.kernel.accessAllowed ? 'block' : 'none';\n",
              "\n",
              "        async function convertToInteractive(key) {\n",
              "          const element = document.querySelector('#df-2e539cd3-726a-4854-8450-8417a1de278a');\n",
              "          const dataTable =\n",
              "            await google.colab.kernel.invokeFunction('convertToInteractive',\n",
              "                                                     [key], {});\n",
              "          if (!dataTable) return;\n",
              "\n",
              "          const docLinkHtml = 'Like what you see? Visit the ' +\n",
              "            '<a target=\"_blank\" href=https://colab.research.google.com/notebooks/data_table.ipynb>data table notebook</a>'\n",
              "            + ' to learn more about interactive tables.';\n",
              "          element.innerHTML = '';\n",
              "          dataTable['output_type'] = 'display_data';\n",
              "          await google.colab.output.renderOutput(dataTable, element);\n",
              "          const docLink = document.createElement('div');\n",
              "          docLink.innerHTML = docLinkHtml;\n",
              "          element.appendChild(docLink);\n",
              "        }\n",
              "      </script>\n",
              "    </div>\n",
              "  </div>\n",
              "  "
            ]
          },
          "metadata": {},
          "execution_count": 8
        }
      ],
      "source": [
        "df.describe(include=np.number)"
      ]
    },
    {
      "cell_type": "code",
      "execution_count": 9,
      "metadata": {
        "colab": {
          "base_uri": "https://localhost:8080/",
          "height": 265
        },
        "id": "3DBctJrDqSAK",
        "outputId": "ec2b6891-63af-4281-82da-74b2819ccb82"
      },
      "outputs": [
        {
          "output_type": "display_data",
          "data": {
            "text/plain": [
              "<Figure size 432x288 with 1 Axes>"
            ],
            "image/png": "[encoded data removed]"
          },
          "metadata": {
            "needs_background": "light"
          }
        }
      ],
      "source": [
        "df['Fare'].hist();"
      ]
    },
    {
      "cell_type": "code",
      "execution_count": 10,
      "metadata": {
        "colab": {
          "base_uri": "https://localhost:8080/"
        },
        "id": "M6WOlevAujM_",
        "outputId": "16de6cc9-a35d-4f50-bcff-1333854c10e9"
      },
      "outputs": [
        {
          "output_type": "execute_result",
          "data": {
            "text/plain": [
              "[1, 2, 3]"
            ]
          },
          "metadata": {},
          "execution_count": 10
        }
      ],
      "source": [
        "classes = sorted(df['Pclass'].unique())\n",
        "classes"
      ]
    },
    {
      "cell_type": "code",
      "execution_count": 11,
      "metadata": {
        "colab": {
          "base_uri": "https://localhost:8080/",
          "height": 175
        },
        "id": "6PN7rMk5vA9l",
        "outputId": "0a08a413-1d8b-451e-823b-0d842c5e856c"
      },
      "outputs": [
        {
          "output_type": "execute_result",
          "data": {
            "text/plain": [
              "                           Name   Sex  Ticket    Cabin Embarked\n",
              "count                       891   891     891      891      891\n",
              "unique                      891     2     681      147        3\n",
              "top     Braund, Mr. Owen Harris  male  347082  B96 B98        S\n",
              "freq                          1   577       7      691      646"
            ],
            "text/html": [
              "\n",
              "  <div id=\"df-4281c6fc-9fb4-4f94-a1b6-e1f60c494cc0\">\n",
              "    <div class=\"colab-df-container\">\n",
              "      <div>\n",
              "<style scoped>\n",
              "    .dataframe tbody tr th:only-of-type {\n",
              "        vertical-align: middle;\n",
              "    }\n",
              "\n",
              "    .dataframe tbody tr th {\n",
              "        vertical-align: top;\n",
              "    }\n",
              "\n",
              "    .dataframe thead th {\n",
              "        text-align: right;\n",
              "    }\n",
              "</style>\n",
              "<table border=\"1\" class=\"dataframe\">\n",
              "  <thead>\n",
              "    <tr style=\"text-align: right;\">\n",
              "      <th></th>\n",
              "      <th>Name</th>\n",
              "      <th>Sex</th>\n",
              "      <th>Ticket</th>\n",
              "      <th>Cabin</th>\n",
              "      <th>Embarked</th>\n",
              "    </tr>\n",
              "  </thead>\n",
              "  <tbody>\n",
              "    <tr>\n",
              "      <th>count</th>\n",
              "      <td>891</td>\n",
              "      <td>891</td>\n",
              "      <td>891</td>\n",
              "      <td>891</td>\n",
              "      <td>891</td>\n",
              "    </tr>\n",
              "    <tr>\n",
              "      <th>unique</th>\n",
              "      <td>891</td>\n",
              "      <td>2</td>\n",
              "      <td>681</td>\n",
              "      <td>147</td>\n",
              "      <td>3</td>\n",
              "    </tr>\n",
              "    <tr>\n",
              "      <th>top</th>\n",
              "      <td>Braund, Mr. Owen Harris</td>\n",
              "      <td>male</td>\n",
              "      <td>347082</td>\n",
              "      <td>B96 B98</td>\n",
              "      <td>S</td>\n",
              "    </tr>\n",
              "    <tr>\n",
              "      <th>freq</th>\n",
              "      <td>1</td>\n",
              "      <td>577</td>\n",
              "      <td>7</td>\n",
              "      <td>691</td>\n",
              "      <td>646</td>\n",
              "    </tr>\n",
              "  </tbody>\n",
              "</table>\n",
              "</div>\n",
              "      <button class=\"colab-df-convert\" onclick=\"convertToInteractive('df-4281c6fc-9fb4-4f94-a1b6-e1f60c494cc0')\"\n",
              "              title=\"Convert this dataframe to an interactive table.\"\n",
              "              style=\"display:none;\">\n",
              "        \n",
              "  <svg xmlns=\"http://www.w3.org/2000/svg\" height=\"24px\"viewBox=\"0 0 24 24\"\n",
              "       width=\"24px\">\n",
              "    <path d=\"M0 0h24v24H0V0z\" fill=\"none\"/>\n",
              "    <path d=\"M18.56 5.44l.94 2.06.94-2.06 2.06-.94-2.06-.94-.94-2.06-.94 2.06-2.06.94zm-11 1L8.5 8.5l.94-2.06 2.06-.94-2.06-.94L8.5 2.5l-.94 2.06-2.06.94zm10 10l.94 2.06.94-2.06 2.06-.94-2.06-.94-.94-2.06-.94 2.06-2.06.94z\"/><path d=\"M17.41 7.96l-1.37-1.37c-.4-.4-.92-.59-1.43-.59-.52 0-1.04.2-1.43.59L10.3 9.45l-7.72 7.72c-.78.78-.78 2.05 0 2.83L4 21.41c.39.39.9.59 1.41.59.51 0 1.02-.2 1.41-.59l7.78-7.78 2.81-2.81c.8-.78.8-2.07 0-2.86zM5.41 20L4 18.59l7.72-7.72 1.47 1.35L5.41 20z\"/>\n",
              "  </svg>\n",
              "      </button>\n",
              "      \n",
              "  <style>\n",
              "    .colab-df-container {\n",
              "      display:flex;\n",
              "      flex-wrap:wrap;\n",
              "      gap: 12px;\n",
              "    }\n",
              "\n",
              "    .colab-df-convert {\n",
              "      background-color: #E8F0FE;\n",
              "      border: none;\n",
              "      border-radius: 50%;\n",
              "      cursor: pointer;\n",
              "      display: none;\n",
              "      fill: #1967D2;\n",
              "      height: 32px;\n",
              "      padding: 0 0 0 0;\n",
              "      width: 32px;\n",
              "    }\n",
              "\n",
              "    .colab-df-convert:hover {\n",
              "      background-color: #E2EBFA;\n",
              "      box-shadow: 0px 1px 2px rgba(60, 64, 67, 0.3), 0px 1px 3px 1px rgba(60, 64, 67, 0.15);\n",
              "      fill: #174EA6;\n",
              "    }\n",
              "\n",
              "    [theme=dark] .colab-df-convert {\n",
              "      background-color: #3B4455;\n",
              "      fill: #D2E3FC;\n",
              "    }\n",
              "\n",
              "    [theme=dark] .colab-df-convert:hover {\n",
              "      background-color: #434B5C;\n",
              "      box-shadow: 0px 1px 3px 1px rgba(0, 0, 0, 0.15);\n",
              "      filter: drop-shadow(0px 1px 2px rgba(0, 0, 0, 0.3));\n",
              "      fill: #FFFFFF;\n",
              "    }\n",
              "  </style>\n",
              "\n",
              "      <script>\n",
              "        const buttonEl =\n",
              "          document.querySelector('#df-4281c6fc-9fb4-4f94-a1b6-e1f60c494cc0 button.colab-df-convert');\n",
              "        buttonEl.style.display =\n",
              "          google.colab.kernel.accessAllowed ? 'block' : 'none';\n",
              "\n",
              "        async function convertToInteractive(key) {\n",
              "          const element = document.querySelector('#df-4281c6fc-9fb4-4f94-a1b6-e1f60c494cc0');\n",
              "          const dataTable =\n",
              "            await google.colab.kernel.invokeFunction('convertToInteractive',\n",
              "                                                     [key], {});\n",
              "          if (!dataTable) return;\n",
              "\n",
              "          const docLinkHtml = 'Like what you see? Visit the ' +\n",
              "            '<a target=\"_blank\" href=https://colab.research.google.com/notebooks/data_table.ipynb>data table notebook</a>'\n",
              "            + ' to learn more about interactive tables.';\n",
              "          element.innerHTML = '';\n",
              "          dataTable['output_type'] = 'display_data';\n",
              "          await google.colab.output.renderOutput(dataTable, element);\n",
              "          const docLink = document.createElement('div');\n",
              "          docLink.innerHTML = docLinkHtml;\n",
              "          element.appendChild(docLink);\n",
              "        }\n",
              "      </script>\n",
              "    </div>\n",
              "  </div>\n",
              "  "
            ]
          },
          "metadata": {},
          "execution_count": 11
        }
      ],
      "source": [
        "df.describe(include='object')"
      ]
    },
    {
      "cell_type": "code",
      "execution_count": 12,
      "metadata": {
        "id": "uc38ww9txT3-"
      },
      "outputs": [],
      "source": [
        "df = pd.get_dummies(df, columns=['Sex', 'Pclass', 'Embarked'])"
      ]
    },
    {
      "cell_type": "code",
      "execution_count": 13,
      "metadata": {
        "colab": {
          "base_uri": "https://localhost:8080/",
          "height": 548
        },
        "id": "EgpxyBc_1YsM",
        "outputId": "f3382e8e-83cc-4262-9188-e4118c3f6735"
      },
      "outputs": [
        {
          "output_type": "execute_result",
          "data": {
            "text/plain": [
              "   PassengerId  Survived                                               Name  \\\n",
              "0            1         0                            Braund, Mr. Owen Harris   \n",
              "1            2         1  Cumings, Mrs. John Bradley (Florence Briggs Th...   \n",
              "2            3         1                             Heikkinen, Miss. Laina   \n",
              "3            4         1       Futrelle, Mrs. Jacques Heath (Lily May Peel)   \n",
              "4            5         0                           Allen, Mr. William Henry   \n",
              "\n",
              "    Age  SibSp  Parch            Ticket     Fare    Cabin  Sex_female  \\\n",
              "0  22.0      1      0         A/5 21171   7.2500  B96 B98           0   \n",
              "1  38.0      1      0          PC 17599  71.2833      C85           1   \n",
              "2  26.0      0      0  STON/O2. 3101282   7.9250  B96 B98           1   \n",
              "3  35.0      1      0            113803  53.1000     C123           1   \n",
              "4  35.0      0      0            373450   8.0500  B96 B98           0   \n",
              "\n",
              "   Sex_male  Pclass_1  Pclass_2  Pclass_3  Embarked_C  Embarked_Q  Embarked_S  \n",
              "0         1         0         0         1           0           0           1  \n",
              "1         0         1         0         0           1           0           0  \n",
              "2         0         0         0         1           0           0           1  \n",
              "3         0         1         0         0           0           0           1  \n",
              "4         1         0         0         1           0           0           1  "
            ],
            "text/html": [
              "\n",
              "  <div id=\"df-9b3b6392-cdf3-4be3-b135-797ec8446850\">\n",
              "    <div class=\"colab-df-container\">\n",
              "      <div>\n",
              "<style scoped>\n",
              "    .dataframe tbody tr th:only-of-type {\n",
              "        vertical-align: middle;\n",
              "    }\n",
              "\n",
              "    .dataframe tbody tr th {\n",
              "        vertical-align: top;\n",
              "    }\n",
              "\n",
              "    .dataframe thead th {\n",
              "        text-align: right;\n",
              "    }\n",
              "</style>\n",
              "<table border=\"1\" class=\"dataframe\">\n",
              "  <thead>\n",
              "    <tr style=\"text-align: right;\">\n",
              "      <th></th>\n",
              "      <th>PassengerId</th>\n",
              "      <th>Survived</th>\n",
              "      <th>Name</th>\n",
              "      <th>Age</th>\n",
              "      <th>SibSp</th>\n",
              "      <th>Parch</th>\n",
              "      <th>Ticket</th>\n",
              "      <th>Fare</th>\n",
              "      <th>Cabin</th>\n",
              "      <th>Sex_female</th>\n",
              "      <th>Sex_male</th>\n",
              "      <th>Pclass_1</th>\n",
              "      <th>Pclass_2</th>\n",
              "      <th>Pclass_3</th>\n",
              "      <th>Embarked_C</th>\n",
              "      <th>Embarked_Q</th>\n",
              "      <th>Embarked_S</th>\n",
              "    </tr>\n",
              "  </thead>\n",
              "  <tbody>\n",
              "    <tr>\n",
              "      <th>0</th>\n",
              "      <td>1</td>\n",
              "      <td>0</td>\n",
              "      <td>Braund, Mr. Owen Harris</td>\n",
              "      <td>22.0</td>\n",
              "      <td>1</td>\n",
              "      <td>0</td>\n",
              "      <td>A/5 21171</td>\n",
              "      <td>7.2500</td>\n",
              "      <td>B96 B98</td>\n",
              "      <td>0</td>\n",
              "      <td>1</td>\n",
              "      <td>0</td>\n",
              "      <td>0</td>\n",
              "      <td>1</td>\n",
              "      <td>0</td>\n",
              "      <td>0</td>\n",
              "      <td>1</td>\n",
              "    </tr>\n",
              "    <tr>\n",
              "      <th>1</th>\n",
              "      <td>2</td>\n",
              "      <td>1</td>\n",
              "      <td>Cumings, Mrs. John Bradley (Florence Briggs Th...</td>\n",
              "      <td>38.0</td>\n",
              "      <td>1</td>\n",
              "      <td>0</td>\n",
              "      <td>PC 17599</td>\n",
              "      <td>71.2833</td>\n",
              "      <td>C85</td>\n",
              "      <td>1</td>\n",
              "      <td>0</td>\n",
              "      <td>1</td>\n",
              "      <td>0</td>\n",
              "      <td>0</td>\n",
              "      <td>1</td>\n",
              "      <td>0</td>\n",
              "      <td>0</td>\n",
              "    </tr>\n",
              "    <tr>\n",
              "      <th>2</th>\n",
              "      <td>3</td>\n",
              "      <td>1</td>\n",
              "      <td>Heikkinen, Miss. Laina</td>\n",
              "      <td>26.0</td>\n",
              "      <td>0</td>\n",
              "      <td>0</td>\n",
              "      <td>STON/O2. 3101282</td>\n",
              "      <td>7.9250</td>\n",
              "      <td>B96 B98</td>\n",
              "      <td>1</td>\n",
              "      <td>0</td>\n",
              "      <td>0</td>\n",
              "      <td>0</td>\n",
              "      <td>1</td>\n",
              "      <td>0</td>\n",
              "      <td>0</td>\n",
              "      <td>1</td>\n",
              "    </tr>\n",
              "    <tr>\n",
              "      <th>3</th>\n",
              "      <td>4</td>\n",
              "      <td>1</td>\n",
              "      <td>Futrelle, Mrs. Jacques Heath (Lily May Peel)</td>\n",
              "      <td>35.0</td>\n",
              "      <td>1</td>\n",
              "      <td>0</td>\n",
              "      <td>113803</td>\n",
              "      <td>53.1000</td>\n",
              "      <td>C123</td>\n",
              "      <td>1</td>\n",
              "      <td>0</td>\n",
              "      <td>1</td>\n",
              "      <td>0</td>\n",
              "      <td>0</td>\n",
              "      <td>0</td>\n",
              "      <td>0</td>\n",
              "      <td>1</td>\n",
              "    </tr>\n",
              "    <tr>\n",
              "      <th>4</th>\n",
              "      <td>5</td>\n",
              "      <td>0</td>\n",
              "      <td>Allen, Mr. William Henry</td>\n",
              "      <td>35.0</td>\n",
              "      <td>0</td>\n",
              "      <td>0</td>\n",
              "      <td>373450</td>\n",
              "      <td>8.0500</td>\n",
              "      <td>B96 B98</td>\n",
              "      <td>0</td>\n",
              "      <td>1</td>\n",
              "      <td>0</td>\n",
              "      <td>0</td>\n",
              "      <td>1</td>\n",
              "      <td>0</td>\n",
              "      <td>0</td>\n",
              "      <td>1</td>\n",
              "    </tr>\n",
              "  </tbody>\n",
              "</table>\n",
              "</div>\n",
              "      <button class=\"colab-df-convert\" onclick=\"convertToInteractive('df-9b3b6392-cdf3-4be3-b135-797ec8446850')\"\n",
              "              title=\"Convert this dataframe to an interactive table.\"\n",
              "              style=\"display:none;\">\n",
              "        \n",
              "  <svg xmlns=\"http://www.w3.org/2000/svg\" height=\"24px\"viewBox=\"0 0 24 24\"\n",
              "       width=\"24px\">\n",
              "    <path d=\"M0 0h24v24H0V0z\" fill=\"none\"/>\n",
              "    <path d=\"M18.56 5.44l.94 2.06.94-2.06 2.06-.94-2.06-.94-.94-2.06-.94 2.06-2.06.94zm-11 1L8.5 8.5l.94-2.06 2.06-.94-2.06-.94L8.5 2.5l-.94 2.06-2.06.94zm10 10l.94 2.06.94-2.06 2.06-.94-2.06-.94-.94-2.06-.94 2.06-2.06.94z\"/><path d=\"M17.41 7.96l-1.37-1.37c-.4-.4-.92-.59-1.43-.59-.52 0-1.04.2-1.43.59L10.3 9.45l-7.72 7.72c-.78.78-.78 2.05 0 2.83L4 21.41c.39.39.9.59 1.41.59.51 0 1.02-.2 1.41-.59l7.78-7.78 2.81-2.81c.8-.78.8-2.07 0-2.86zM5.41 20L4 18.59l7.72-7.72 1.47 1.35L5.41 20z\"/>\n",
              "  </svg>\n",
              "      </button>\n",
              "      \n",
              "  <style>\n",
              "    .colab-df-container {\n",
              "      display:flex;\n",
              "      flex-wrap:wrap;\n",
              "      gap: 12px;\n",
              "    }\n",
              "\n",
              "    .colab-df-convert {\n",
              "      background-color: #E8F0FE;\n",
              "      border: none;\n",
              "      border-radius: 50%;\n",
              "      cursor: pointer;\n",
              "      display: none;\n",
              "      fill: #1967D2;\n",
              "      height: 32px;\n",
              "      padding: 0 0 0 0;\n",
              "      width: 32px;\n",
              "    }\n",
              "\n",
              "    .colab-df-convert:hover {\n",
              "      background-color: #E2EBFA;\n",
              "      box-shadow: 0px 1px 2px rgba(60, 64, 67, 0.3), 0px 1px 3px 1px rgba(60, 64, 67, 0.15);\n",
              "      fill: #174EA6;\n",
              "    }\n",
              "\n",
              "    [theme=dark] .colab-df-convert {\n",
              "      background-color: #3B4455;\n",
              "      fill: #D2E3FC;\n",
              "    }\n",
              "\n",
              "    [theme=dark] .colab-df-convert:hover {\n",
              "      background-color: #434B5C;\n",
              "      box-shadow: 0px 1px 3px 1px rgba(0, 0, 0, 0.15);\n",
              "      filter: drop-shadow(0px 1px 2px rgba(0, 0, 0, 0.3));\n",
              "      fill: #FFFFFF;\n",
              "    }\n",
              "  </style>\n",
              "\n",
              "      <script>\n",
              "        const buttonEl =\n",
              "          document.querySelector('#df-9b3b6392-cdf3-4be3-b135-797ec8446850 button.colab-df-convert');\n",
              "        buttonEl.style.display =\n",
              "          google.colab.kernel.accessAllowed ? 'block' : 'none';\n",
              "\n",
              "        async function convertToInteractive(key) {\n",
              "          const element = document.querySelector('#df-9b3b6392-cdf3-4be3-b135-797ec8446850');\n",
              "          const dataTable =\n",
              "            await google.colab.kernel.invokeFunction('convertToInteractive',\n",
              "                                                     [key], {});\n",
              "          if (!dataTable) return;\n",
              "\n",
              "          const docLinkHtml = 'Like what you see? Visit the ' +\n",
              "            '<a target=\"_blank\" href=https://colab.research.google.com/notebooks/data_table.ipynb>data table notebook</a>'\n",
              "            + ' to learn more about interactive tables.';\n",
              "          element.innerHTML = '';\n",
              "          dataTable['output_type'] = 'display_data';\n",
              "          await google.colab.output.renderOutput(dataTable, element);\n",
              "          const docLink = document.createElement('div');\n",
              "          docLink.innerHTML = docLinkHtml;\n",
              "          element.appendChild(docLink);\n",
              "        }\n",
              "      </script>\n",
              "    </div>\n",
              "  </div>\n",
              "  "
            ]
          },
          "metadata": {},
          "execution_count": 13
        }
      ],
      "source": [
        "df.head()"
      ]
    },
    {
      "cell_type": "code",
      "execution_count": 14,
      "metadata": {
        "id": "yCM-fhFd1aRf"
      },
      "outputs": [],
      "source": [
        "t_dep = torch.tensor(df.Survived)"
      ]
    },
    {
      "cell_type": "code",
      "execution_count": 15,
      "metadata": {
        "id": "TZcKoPWi3-bh"
      },
      "outputs": [],
      "source": [
        "df['Logfare'] = np.log(df['Fare']+1)"
      ]
    },
    {
      "cell_type": "code",
      "execution_count": 16,
      "metadata": {
        "colab": {
          "base_uri": "https://localhost:8080/"
        },
        "id": "fCuYRiZs2fsH",
        "outputId": "442ddc40-8028-405c-f3a8-498506c7863a"
      },
      "outputs": [
        {
          "output_type": "execute_result",
          "data": {
            "text/plain": [
              "tensor([[22.,  1.,  0.,  ...,  0.,  0.,  1.],\n",
              "        [38.,  1.,  0.,  ...,  1.,  0.,  0.],\n",
              "        [26.,  0.,  0.,  ...,  0.,  0.,  1.],\n",
              "        ...,\n",
              "        [24.,  1.,  2.,  ...,  0.,  0.,  1.],\n",
              "        [26.,  0.,  0.,  ...,  1.,  0.,  0.],\n",
              "        [32.,  0.,  0.,  ...,  0.,  1.,  0.]])"
            ]
          },
          "metadata": {},
          "execution_count": 16
        }
      ],
      "source": [
        "indp_cols = df[['Age', 'SibSp', 'Parch', 'Logfare', 'Sex_female','Sex_male', 'Pclass_1','Pclass_2'\t,'Pclass_3',\t'Embarked_C',\t'Embarked_Q','Embarked_S']]\n",
        "t_indep = torch.tensor(indp_cols.values, dtype = torch.float)\n",
        "t_indep"
      ]
    },
    {
      "cell_type": "code",
      "execution_count": 17,
      "metadata": {
        "colab": {
          "base_uri": "https://localhost:8080/"
        },
        "id": "-OsAwYum3ul8",
        "outputId": "3418a72a-b5e1-4261-c7c7-1b3fbae13a90"
      },
      "outputs": [
        {
          "output_type": "execute_result",
          "data": {
            "text/plain": [
              "(torch.Size([891, 12]), torch.Size([891]))"
            ]
          },
          "metadata": {},
          "execution_count": 17
        }
      ],
      "source": [
        "t_indep.shape, t_dep.shape"
      ]
    },
    {
      "cell_type": "markdown",
      "metadata": {
        "id": "IBogeTogFMas"
      },
      "source": [
        "# Linear Models"
      ]
    },
    {
      "cell_type": "code",
      "execution_count": 18,
      "metadata": {
        "colab": {
          "base_uri": "https://localhost:8080/"
        },
        "id": "UFMabmAU5oL2",
        "outputId": "864ebcd2-c821-4b06-f530-1560b8cca3b1"
      },
      "outputs": [
        {
          "output_type": "execute_result",
          "data": {
            "text/plain": [
              "12"
            ]
          },
          "metadata": {},
          "execution_count": 18
        }
      ],
      "source": [
        "n_coef = t_indep.shape[1]\n",
        "n_coef"
      ]
    },
    {
      "cell_type": "code",
      "execution_count": 19,
      "metadata": {
        "id": "agCMr9kIFeZB"
      },
      "outputs": [],
      "source": [
        "coefs = torch.rand(n_coef) - 0.5"
      ]
    },
    {
      "cell_type": "code",
      "execution_count": 20,
      "metadata": {
        "colab": {
          "base_uri": "https://localhost:8080/"
        },
        "id": "71wb4GufFzOB",
        "outputId": "978b142a-8bfc-4a91-ca7b-7be7b6a88ffd"
      },
      "outputs": [
        {
          "output_type": "execute_result",
          "data": {
            "text/plain": [
              "tensor([[ 7.7766, -0.1447, -0.0000,  ..., -0.0000,  0.0000, -0.1247],\n",
              "        [13.4324, -0.1447, -0.0000,  ..., -0.1603,  0.0000, -0.0000],\n",
              "        [ 9.1906, -0.0000, -0.0000,  ..., -0.0000,  0.0000, -0.1247],\n",
              "        ...,\n",
              "        [ 8.4836, -0.1447, -0.6747,  ..., -0.0000,  0.0000, -0.1247],\n",
              "        [ 9.1906, -0.0000, -0.0000,  ..., -0.1603,  0.0000, -0.0000],\n",
              "        [11.3115, -0.0000, -0.0000,  ..., -0.0000,  0.2881, -0.0000]])"
            ]
          },
          "metadata": {},
          "execution_count": 20
        }
      ],
      "source": [
        "t_indep * coefs"
      ]
    },
    {
      "cell_type": "code",
      "execution_count": 21,
      "metadata": {
        "id": "Ot_wx1t5KiUJ"
      },
      "outputs": [],
      "source": [
        "max_indeps, idx = t_indep.max(dim = 0)\n",
        "t_indep = t_indep / max_indeps"
      ]
    },
    {
      "cell_type": "code",
      "execution_count": 22,
      "metadata": {
        "colab": {
          "base_uri": "https://localhost:8080/"
        },
        "id": "66rybG4TLlVr",
        "outputId": "b8741d6e-bbad-4734-9900-84998782a600"
      },
      "outputs": [
        {
          "output_type": "execute_result",
          "data": {
            "text/plain": [
              "tensor([[ 0.0972, -0.0181, -0.0000,  ..., -0.0000,  0.0000, -0.1247],\n",
              "        [ 0.1679, -0.0181, -0.0000,  ..., -0.1603,  0.0000, -0.0000],\n",
              "        [ 0.1149, -0.0000, -0.0000,  ..., -0.0000,  0.0000, -0.1247],\n",
              "        ...,\n",
              "        [ 0.1060, -0.0181, -0.1125,  ..., -0.0000,  0.0000, -0.1247],\n",
              "        [ 0.1149, -0.0000, -0.0000,  ..., -0.1603,  0.0000, -0.0000],\n",
              "        [ 0.1414, -0.0000, -0.0000,  ..., -0.0000,  0.2881, -0.0000]])"
            ]
          },
          "metadata": {},
          "execution_count": 22
        }
      ],
      "source": [
        "t_indep * coefs"
      ]
    },
    {
      "cell_type": "code",
      "execution_count": 23,
      "metadata": {
        "id": "WrIQe9tRLt13"
      },
      "outputs": [],
      "source": [
        "preds = (t_indep*coefs).sum(axis=1)"
      ]
    },
    {
      "cell_type": "code",
      "execution_count": 24,
      "metadata": {
        "colab": {
          "base_uri": "https://localhost:8080/"
        },
        "id": "I0R-2OmCMrd-",
        "outputId": "3f2cffd3-07e9-4d0e-c8b7-98e047cb8989"
      },
      "outputs": [
        {
          "output_type": "execute_result",
          "data": {
            "text/plain": [
              "tensor(0.5472)"
            ]
          },
          "metadata": {},
          "execution_count": 24
        }
      ],
      "source": [
        "loss = torch.abs(preds - t_dep).mean()\n",
        "loss"
      ]
    },
    {
      "cell_type": "code",
      "execution_count": 25,
      "metadata": {
        "id": "S3BaLbEMNQW7"
      },
      "outputs": [],
      "source": [
        "def calc_preds(coefs, indep): return (indep * coefs).sum(axis = 1)\n",
        "def calc_loss(coefs, indep, dep): return torch.abs(calc_preds(coefs, indep) - dep).mean()"
      ]
    },
    {
      "cell_type": "markdown",
      "metadata": {
        "id": "BCc2jsdFkW29"
      },
      "source": [
        "#Doing a gradient descent step"
      ]
    },
    {
      "cell_type": "code",
      "execution_count": 26,
      "metadata": {
        "colab": {
          "base_uri": "https://localhost:8080/"
        },
        "id": "rX2HHTAuPoNC",
        "outputId": "53c32f0a-53b2-49c1-caee-9b4233792ddf"
      },
      "outputs": [
        {
          "output_type": "execute_result",
          "data": {
            "text/plain": [
              "tensor([ 0.3535, -0.1447, -0.3374,  0.4661,  0.3440, -0.2809, -0.2256,  0.1206,\n",
              "        -0.4652, -0.1603,  0.2881, -0.1247], requires_grad=True)"
            ]
          },
          "metadata": {},
          "execution_count": 26
        }
      ],
      "source": [
        "# coefs need grad\n",
        "coefs.requires_grad_()"
      ]
    },
    {
      "cell_type": "code",
      "execution_count": 27,
      "metadata": {
        "colab": {
          "base_uri": "https://localhost:8080/"
        },
        "id": "Fj6cR5vzlE0o",
        "outputId": "4b9f0b51-cc9c-41ea-b76c-819a61b55264"
      },
      "outputs": [
        {
          "output_type": "execute_result",
          "data": {
            "text/plain": [
              "tensor(0.5472, grad_fn=<MeanBackward0>)"
            ]
          },
          "metadata": {},
          "execution_count": 27
        }
      ],
      "source": [
        "# calculating loss\n",
        "loss = calc_loss(coefs, t_indep, t_dep)\n",
        "loss"
      ]
    },
    {
      "cell_type": "code",
      "execution_count": 28,
      "metadata": {
        "id": "Djjzxtc7lvJn"
      },
      "outputs": [],
      "source": [
        "# Use backward() to ask PyTorch to calculate gradients now\n",
        "loss.backward()"
      ]
    },
    {
      "cell_type": "code",
      "execution_count": 29,
      "metadata": {
        "colab": {
          "base_uri": "https://localhost:8080/"
        },
        "id": "7HdxyqSrl4WC",
        "outputId": "2de384cf-cccc-43d1-8ad8-233d2509ae6a"
      },
      "outputs": [
        {
          "output_type": "execute_result",
          "data": {
            "text/plain": [
              "tensor([-0.2424, -0.0527, -0.0531, -0.3488, -0.2402, -0.4837, -0.2334, -0.0292,\n",
              "        -0.4613, -0.1684, -0.0550, -0.5006])"
            ]
          },
          "metadata": {},
          "execution_count": 29
        }
      ],
      "source": [
        "# See how they look like\n",
        "coefs.grad"
      ]
    },
    {
      "cell_type": "markdown",
      "metadata": {
        "id": "2uh1An85mPsS"
      },
      "source": [
        "Note that each time we call backward, the gradients are actually added to whatever is in the .grad attribute. Let's try running the above steps again:"
      ]
    },
    {
      "cell_type": "code",
      "execution_count": 30,
      "metadata": {
        "colab": {
          "base_uri": "https://localhost:8080/"
        },
        "id": "2InBfB2DmBMU",
        "outputId": "72d72431-b67a-4867-b12f-e85dbc1e6208"
      },
      "outputs": [
        {
          "output_type": "execute_result",
          "data": {
            "text/plain": [
              "tensor([-0.4848, -0.1055, -0.1062, -0.6975, -0.4804, -0.9675, -0.4669, -0.0584,\n",
              "        -0.9226, -0.3367, -0.1100, -1.0011])"
            ]
          },
          "metadata": {},
          "execution_count": 30
        }
      ],
      "source": [
        "loss = calc_loss(coefs, t_indep, t_dep)\n",
        "coefs.requires_grad_()\n",
        "loss.backward()\n",
        "coefs.grad"
      ]
    },
    {
      "cell_type": "markdown",
      "metadata": {
        "id": "SwVVL-q1pdet"
      },
      "source": [
        "we need to set `.grad` back to zero."
      ]
    },
    {
      "cell_type": "code",
      "execution_count": 31,
      "metadata": {
        "colab": {
          "base_uri": "https://localhost:8080/"
        },
        "id": "sc7Lnrs4mdL1",
        "outputId": "59fd7684-d9ed-4023-cf16-1094bcf0e313"
      },
      "outputs": [
        {
          "output_type": "stream",
          "name": "stdout",
          "text": [
            "tensor(0.3343)\n"
          ]
        }
      ],
      "source": [
        "loss = calc_loss(coefs, t_indep, t_dep)\n",
        "loss.backward()\n",
        "with torch.no_grad():\n",
        "  coefs.sub_(coefs.grad * 0.1)\n",
        "  coefs.grad.zero_()\n",
        "  print(calc_loss(coefs, t_indep, t_dep))\n"
      ]
    },
    {
      "cell_type": "markdown",
      "metadata": {
        "id": "XrsUO5Ctm3zz"
      },
      "source": [
        "#Training a linear model"
      ]
    },
    {
      "cell_type": "code",
      "execution_count": 32,
      "metadata": {
        "id": "FzqyEP3gk11n"
      },
      "outputs": [],
      "source": [
        "from fastai.data.transforms import RandomSplitter\n",
        "trn_split,val_split=RandomSplitter(seed=42)(df)"
      ]
    },
    {
      "cell_type": "code",
      "execution_count": 33,
      "metadata": {
        "id": "xDGxj4HSk4x3"
      },
      "outputs": [],
      "source": [
        "trn_indep, val_indep = t_indep[trn_split], t_indep[val_split]\n",
        "trn_dep,val_dep = t_dep[trn_split],t_dep[val_split]"
      ]
    },
    {
      "cell_type": "code",
      "execution_count": 34,
      "metadata": {
        "colab": {
          "base_uri": "https://localhost:8080/"
        },
        "id": "JOZoMEpwrVoH",
        "outputId": "c2968a6f-24dd-40dd-a578-9fa55e67c632"
      },
      "outputs": [
        {
          "output_type": "execute_result",
          "data": {
            "text/plain": [
              "(713, 178)"
            ]
          },
          "metadata": {},
          "execution_count": 34
        }
      ],
      "source": [
        "len(trn_indep), len(val_indep)"
      ]
    },
    {
      "cell_type": "code",
      "execution_count": 35,
      "metadata": {
        "id": "h4oyeV6QrdN9"
      },
      "outputs": [],
      "source": [
        "def update_coefs(coefs, lr):\n",
        "  coefs.sub_(coefs.grad*lr)\n",
        "  coefs.grad.zero_()"
      ]
    },
    {
      "cell_type": "code",
      "execution_count": 36,
      "metadata": {
        "id": "LRvIGB9VuqeX"
      },
      "outputs": [],
      "source": [
        "def one_epoch(coefs, lr):\n",
        "  loss = calc_loss(coefs, trn_indep, trn_dep)\n",
        "  loss.backward()\n",
        "  with torch.no_grad():\n",
        "    update_coefs(coefs, lr)\n",
        "    print(f'{loss}', end=\";\")"
      ]
    },
    {
      "cell_type": "code",
      "execution_count": 37,
      "metadata": {
        "id": "vcPxsGD6z3yg"
      },
      "outputs": [],
      "source": [
        "def init_coefs(): return (torch.rand(n_coef)-0.5).requires_grad_()"
      ]
    },
    {
      "cell_type": "code",
      "execution_count": 38,
      "metadata": {
        "id": "_H88eHV10KSn"
      },
      "outputs": [],
      "source": [
        "def train_model(epochs=30, lr = 0.1):\n",
        "  torch.manual_seed(442)\n",
        "  coefs = init_coefs()\n",
        "  for i in range(epochs): one_epoch(coefs, lr)\n",
        "  return coefs"
      ]
    },
    {
      "cell_type": "code",
      "execution_count": 39,
      "metadata": {
        "colab": {
          "base_uri": "https://localhost:8080/"
        },
        "id": "7HIh5O9J1bJE",
        "outputId": "9b2a49b3-65e2-4a2b-94b3-f0de5edeef56"
      },
      "outputs": [
        {
          "output_type": "stream",
          "name": "stdout",
          "text": [
            "0.5182632207870483;0.49105992913246155;0.46790972352027893;0.4447985291481018;0.42182889580726624;0.39968982338905334;0.378359854221344;0.35784628987312317;0.3402935862541199;0.326643168926239;0.31500792503356934;0.30641376972198486;0.3081037104129791;0.3106144666671753;0.3114265203475952;0.2917688190937042;0.295657753944397;0.2872138023376465;"
          ]
        }
      ],
      "source": [
        "coefs = train_model(18, lr = 0.2)"
      ]
    },
    {
      "cell_type": "code",
      "execution_count": 40,
      "metadata": {
        "colab": {
          "base_uri": "https://localhost:8080/"
        },
        "id": "ic4evpGdg2hs",
        "outputId": "5d1592d9-88c5-4527-ad1e-c3925c54a9d2"
      },
      "outputs": [
        {
          "output_type": "stream",
          "name": "stdout",
          "text": [
            "Age:-0.2580804228782654\n",
            "SibSp:0.0894206240773201\n",
            "Parch:0.23463615775108337\n",
            "Logfare:0.027542727068066597\n",
            "Sex_female:0.2573692202568054\n",
            "Sex_male:-0.41289231181144714\n",
            "Pclass_1:0.7097694277763367\n",
            "Pclass_2:0.4246487021446228\n",
            "Pclass_3:0.3690837621688843\n",
            "Embarked_C:0.09548303484916687\n",
            "Embarked_Q:0.2489984780550003\n",
            "Embarked_S:0.21160176396369934\n"
          ]
        }
      ],
      "source": [
        "coefs_dict = dict(zip(indp_cols, coefs.requires_grad_(False)))\n",
        "#print(coefs_dict)\n",
        "for i in coefs_dict:\n",
        "  print(f'{i}:{coefs_dict[i]}')"
      ]
    },
    {
      "cell_type": "code",
      "execution_count": 41,
      "metadata": {
        "id": "C1sNVyowiBWP"
      },
      "outputs": [],
      "source": [
        "preds = calc_preds(coefs, val_indep)"
      ]
    },
    {
      "cell_type": "code",
      "execution_count": 42,
      "metadata": {
        "colab": {
          "base_uri": "https://localhost:8080/"
        },
        "id": "Ur5NJz7TdF3N",
        "outputId": "d6bee37b-3d9c-4897-9549-8ced014a3f2b"
      },
      "outputs": [
        {
          "output_type": "execute_result",
          "data": {
            "text/plain": [
              "tensor(0.2842)"
            ]
          },
          "metadata": {},
          "execution_count": 42
        }
      ],
      "source": [
        "loss = calc_loss(coefs, val_indep, val_dep)\n",
        "loss"
      ]
    },
    {
      "cell_type": "code",
      "execution_count": 43,
      "metadata": {
        "colab": {
          "base_uri": "https://localhost:8080/"
        },
        "id": "L08weA9ddRO9",
        "outputId": "3bd9e5bf-04f3-4abc-f89b-1cde9fa564c4"
      },
      "outputs": [
        {
          "output_type": "execute_result",
          "data": {
            "text/plain": [
              "tensor([ True,  True,  True,  True,  True,  True,  True,  True,  True,  True,\n",
              "        False, False, False,  True,  True, False])"
            ]
          },
          "metadata": {},
          "execution_count": 43
        }
      ],
      "source": [
        "results = val_dep.bool() == (preds > 0.5)\n",
        "results[:16] "
      ]
    },
    {
      "cell_type": "code",
      "execution_count": 44,
      "metadata": {
        "colab": {
          "base_uri": "https://localhost:8080/"
        },
        "id": "C6Yjh7rZf3aQ",
        "outputId": "236e165c-7044-4663-c7d8-31ce50ce8f82"
      },
      "outputs": [
        {
          "output_type": "execute_result",
          "data": {
            "text/plain": [
              "tensor(0.7978)"
            ]
          },
          "metadata": {},
          "execution_count": 44
        }
      ],
      "source": [
        "avg_acc = results.float().mean()\n",
        "avg_acc"
      ]
    },
    {
      "cell_type": "code",
      "execution_count": 45,
      "metadata": {
        "id": "C614c73kgRlF"
      },
      "outputs": [],
      "source": [
        "def acc(coefs): return (val_dep.bool() == (calc_preds(coefs, val_indep) > 0.5)).float().mean()"
      ]
    },
    {
      "cell_type": "code",
      "execution_count": 46,
      "metadata": {
        "colab": {
          "base_uri": "https://localhost:8080/"
        },
        "id": "HVDTbYpkjO_5",
        "outputId": "4e42d09e-8917-4026-c209-fd3c6729abcf"
      },
      "outputs": [
        {
          "output_type": "execute_result",
          "data": {
            "text/plain": [
              "tensor(0.7978)"
            ]
          },
          "metadata": {},
          "execution_count": 46
        }
      ],
      "source": [
        "acc(coefs)"
      ]
    },
    {
      "cell_type": "markdown",
      "metadata": {
        "id": "itNgYTWXjW7q"
      },
      "source": [
        "# Using sigmoid"
      ]
    },
    {
      "cell_type": "markdown",
      "metadata": {
        "id": "BTsTk_QUjhd9"
      },
      "source": [
        "Looking at our predictions, there's one obvious problem -- some of our predictions of the probability of survival are >1, and some are <0:"
      ]
    },
    {
      "cell_type": "code",
      "execution_count": 47,
      "metadata": {
        "colab": {
          "base_uri": "https://localhost:8080/"
        },
        "id": "vwGUBe5rjRzo",
        "outputId": "4047ea12-1248-4e93-90be-59d366ce0e2e"
      },
      "outputs": [
        {
          "output_type": "execute_result",
          "data": {
            "text/plain": [
              "tensor([ 0.8650,  0.1373, -0.0164,  0.1843,  0.1544,  0.1385,  0.7599,  0.8149,\n",
              "         0.3157,  0.7087,  0.0742,  0.0368,  0.2162,  0.8077,  0.0670,  0.3779,\n",
              "         0.3134,  0.8666,  0.1121,  0.7481,  0.1000,  0.3425,  1.0079,  0.8467,\n",
              "         0.1125])"
            ]
          },
          "metadata": {},
          "execution_count": 47
        }
      ],
      "source": [
        "preds[:25]"
      ]
    },
    {
      "cell_type": "code",
      "execution_count": 48,
      "metadata": {
        "id": "hIJQEhwcjaSJ"
      },
      "outputs": [],
      "source": [
        "def sigmoid(x): return 1/(1 + torch.exp(-x))\n",
        "x = torch.linspace(-5, 5, 20)"
      ]
    },
    {
      "cell_type": "code",
      "execution_count": 49,
      "metadata": {
        "colab": {
          "base_uri": "https://localhost:8080/",
          "height": 265
        },
        "id": "ZCMO-j9ikD6e",
        "outputId": "bfed71f0-c8c9-4ba0-e00a-f9fff49ac757"
      },
      "outputs": [
        {
          "output_type": "display_data",
          "data": {
            "text/plain": [
              "<Figure size 432x288 with 1 Axes>"
            ],
            "image/png": "[encoded data removed]"
          },
          "metadata": {
            "needs_background": "light"
          }
        }
      ],
      "source": [
        "y = sigmoid(x)\n",
        "import matplotlib.pyplot as plt\n",
        "plt.plot(x, y)\n",
        "plt.show()"
      ]
    },
    {
      "cell_type": "code",
      "execution_count": 50,
      "metadata": {
        "id": "_SurZ9EbkcCZ"
      },
      "outputs": [],
      "source": [
        "def calc_preds(coefs, indep): return torch.sigmoid((indep*coefs).sum(dim = 1))"
      ]
    },
    {
      "cell_type": "code",
      "execution_count": 51,
      "metadata": {
        "colab": {
          "base_uri": "https://localhost:8080/"
        },
        "id": "0ewIAINFmj11",
        "outputId": "76a0fb0c-86af-498f-bd9b-c6e8f2ae42a5"
      },
      "outputs": [
        {
          "output_type": "stream",
          "name": "stdout",
          "text": [
            "0.5029377341270447;0.32607051730155945;0.29391589760780334;0.2071153074502945;0.20074781775474548;0.19870305061340332;0.1976623386144638;0.1969517022371292;0.19643563032150269;0.1960422396659851;0.19573019444942474;0.19547471404075623;0.19526025652885437;0.19507665932178497;0.19491705298423767;0.19477656483650208;0.19465164840221405;0.1945396363735199;0.19443851709365845;0.194346621632576;0.19426272809505463;0.1941857486963272;0.19411486387252808;0.19404935836791992;0.19398857653141022;0.19393208622932434;0.1938793659210205;0.19383010268211365;0.1937839388847351;0.1937406063079834;"
          ]
        }
      ],
      "source": [
        "coefs = train_model(lr = 100)"
      ]
    },
    {
      "cell_type": "code",
      "execution_count": 52,
      "metadata": {
        "colab": {
          "base_uri": "https://localhost:8080/"
        },
        "id": "hj_oqsk8nEtd",
        "outputId": "69578021-464c-4745-c5e3-947c757a3e0d"
      },
      "outputs": [
        {
          "output_type": "execute_result",
          "data": {
            "text/plain": [
              "tensor(0.8258)"
            ]
          },
          "metadata": {},
          "execution_count": 52
        }
      ],
      "source": [
        "acc(coefs)"
      ]
    },
    {
      "cell_type": "markdown",
      "metadata": {
        "id": "Cyb9Ew4TXxWn"
      },
      "source": [
        "# Using matrix product"
      ]
    },
    {
      "cell_type": "code",
      "execution_count": 53,
      "metadata": {
        "colab": {
          "base_uri": "https://localhost:8080/"
        },
        "id": "oUJHkLEwX1fb",
        "outputId": "41434b7d-1d66-42eb-dfc3-88eafae8d060"
      },
      "outputs": [
        {
          "output_type": "execute_result",
          "data": {
            "text/plain": [
              "tensor([ 12.3344, -14.8963, -15.5310, -13.2356, -13.4334, -13.7300,   3.6332,\n",
              "          5.3455, -22.1751,   3.1302, -21.9617, -15.7197, -21.6367,   3.9399,\n",
              "        -22.0063, -12.0769, -12.4543,   5.3571, -13.6718,  -3.1041, -21.8109,\n",
              "        -12.2845,  12.9945,   4.7428, -21.7393, -14.9992,  -2.7445, -12.3977,\n",
              "        -21.6755,   3.9393,   5.3925,  -3.6226, -21.7165, -21.9329,  12.2212,\n",
              "         -3.2294, -12.1052,  13.4747, -21.8102,  -3.1386, -13.3279, -21.8102,\n",
              "        -13.7664,  13.3275, -21.7347,  -3.5907, -21.7752, -21.9191, -14.9000,\n",
              "         -2.9406,  -5.3848, -22.3260, -22.1969, -21.8337, -13.4600, -13.5733,\n",
              "        -14.8962, -22.1574, -21.7536, -21.8701,  -5.5092, -21.8272, -12.7328,\n",
              "        -21.7541,   4.9249, -11.6538, -13.4146, -22.0530, -15.3886,   5.0261,\n",
              "        -21.8486,   3.1896, -13.5544, -21.8043, -11.6815, -21.6604, -21.8102,\n",
              "        -12.0423, -13.3202, -13.8433, -13.2992,  13.1525, -21.7920, -21.8138,\n",
              "          4.9226,  -7.3930,  -5.3745,   7.1156,  11.5067, -13.3957, -21.9598,\n",
              "        -21.8102,  13.3782, -15.6442,   3.4188,  -7.3584, -13.8039,   3.6904,\n",
              "          3.9771, -14.8066, -21.9132,   3.9393, -21.9618, -21.9241, -11.9280,\n",
              "        -13.7542, -21.9176,   4.9449,  -5.5136, -22.0537,   5.1352,  -3.2221,\n",
              "        -11.6760,  13.8029, -21.8102,  12.6540,  -3.7311, -14.8962, -22.1517,\n",
              "         12.9629, -22.2491,  -6.2504, -14.8962,  -3.2859, -15.5310, -11.7703,\n",
              "         -2.9947,  -3.0133, -21.6534, -13.9107,   7.3514, -21.9297,   5.0758,\n",
              "          5.2606,  13.3594, -21.7158, -14.0737, -21.8988,  -7.4052,   5.2312,\n",
              "        -13.5278,  12.8065, -22.2115, -15.0472,  -3.4369,   6.3158, -22.0718,\n",
              "          3.2038,   7.2501,   2.8622,  -3.1213,   3.7976,   5.4699, -15.1947,\n",
              "        -15.1452, -23.0275, -21.8102,  -3.0367, -13.6033, -21.7890,  13.4617,\n",
              "         -7.3422, -21.9217, -12.1351,  13.0671,   6.8059,   5.2180,   5.0813,\n",
              "        -12.7746, -12.2604,  -3.0892, -21.6947,   7.0834, -21.8043, -22.1882,\n",
              "          6.8245, -11.6753, -21.7180], grad_fn=<SumBackward1>)"
            ]
          },
          "metadata": {},
          "execution_count": 53
        }
      ],
      "source": [
        "(val_indep * coefs).sum(dim=1)"
      ]
    },
    {
      "cell_type": "code",
      "execution_count": 54,
      "metadata": {
        "colab": {
          "base_uri": "https://localhost:8080/"
        },
        "id": "FX19Mi5HYBwI",
        "outputId": "532e58bf-7eab-4b78-e587-79b7e1a14d27"
      },
      "outputs": [
        {
          "output_type": "execute_result",
          "data": {
            "text/plain": [
              "tensor([ 12.3344, -14.8963, -15.5310, -13.2355, -13.4334, -13.7300,   3.6332,\n",
              "          5.3455, -22.1751,   3.1302, -21.9617, -15.7196, -21.6367,   3.9399,\n",
              "        -22.0063, -12.0769, -12.4543,   5.3571, -13.6718,  -3.1041, -21.8109,\n",
              "        -12.2845,  12.9945,   4.7428, -21.7393, -14.9992,  -2.7445, -12.3977,\n",
              "        -21.6755,   3.9393,   5.3925,  -3.6226, -21.7165, -21.9329,  12.2212,\n",
              "         -3.2294, -12.1052,  13.4747, -21.8102,  -3.1386, -13.3279, -21.8102,\n",
              "        -13.7664,  13.3275, -21.7347,  -3.5907, -21.7752, -21.9191, -14.9000,\n",
              "         -2.9406,  -5.3848, -22.3260, -22.1969, -21.8337, -13.4600, -13.5733,\n",
              "        -14.8962, -22.1574, -21.7536, -21.8701,  -5.5092, -21.8272, -12.7328,\n",
              "        -21.7541,   4.9249, -11.6538, -13.4146, -22.0530, -15.3886,   5.0261,\n",
              "        -21.8486,   3.1896, -13.5544, -21.8043, -11.6815, -21.6604, -21.8102,\n",
              "        -12.0423, -13.3202, -13.8433, -13.2992,  13.1525, -21.7920, -21.8138,\n",
              "          4.9226,  -7.3930,  -5.3745,   7.1156,  11.5067, -13.3957, -21.9598,\n",
              "        -21.8102,  13.3782, -15.6442,   3.4188,  -7.3584, -13.8039,   3.6903,\n",
              "          3.9771, -14.8066, -21.9132,   3.9393, -21.9618, -21.9241, -11.9280,\n",
              "        -13.7542, -21.9176,   4.9449,  -5.5136, -22.0537,   5.1352,  -3.2221,\n",
              "        -11.6760,  13.8029, -21.8102,  12.6540,  -3.7311, -14.8962, -22.1517,\n",
              "         12.9629, -22.2491,  -6.2504, -14.8962,  -3.2859, -15.5310, -11.7703,\n",
              "         -2.9947,  -3.0133, -21.6534, -13.9107,   7.3514, -21.9297,   5.0758,\n",
              "          5.2606,  13.3594, -21.7158, -14.0737, -21.8988,  -7.4052,   5.2312,\n",
              "        -13.5278,  12.8065, -22.2115, -15.0472,  -3.4369,   6.3158, -22.0718,\n",
              "          3.2038,   7.2501,   2.8622,  -3.1213,   3.7976,   5.4699, -15.1947,\n",
              "        -15.1452, -23.0275, -21.8102,  -3.0367, -13.6033, -21.7890,  13.4617,\n",
              "         -7.3422, -21.9217, -12.1351,  13.0671,   6.8059,   5.2180,   5.0813,\n",
              "        -12.7746, -12.2604,  -3.0892, -21.6947,   7.0834, -21.8043, -22.1882,\n",
              "          6.8245, -11.6753, -21.7180], grad_fn=<MvBackward0>)"
            ]
          },
          "metadata": {},
          "execution_count": 54
        }
      ],
      "source": [
        "val_indep@coefs"
      ]
    },
    {
      "cell_type": "code",
      "execution_count": 55,
      "metadata": {
        "id": "WGbIB3TDYMkL"
      },
      "outputs": [],
      "source": [
        "def calc_preds(coefs, indeps): return torch.sigmoid(indeps@coefs) "
      ]
    },
    {
      "cell_type": "code",
      "execution_count": 56,
      "metadata": {
        "id": "YabWzI49Ysih"
      },
      "outputs": [],
      "source": [
        "def init_coefs(): return (torch.rand(n_coef, 1)*0.1).requires_grad_()"
      ]
    },
    {
      "cell_type": "code",
      "execution_count": 57,
      "metadata": {
        "id": "wqXZmX5zaxjN"
      },
      "outputs": [],
      "source": [
        "trn_dep = trn_dep[:, None]\n",
        "val_dep = val_dep[:, None]"
      ]
    },
    {
      "cell_type": "code",
      "execution_count": 58,
      "metadata": {
        "colab": {
          "base_uri": "https://localhost:8080/"
        },
        "id": "z76puE2aZfxj",
        "outputId": "243103f5-1400-415c-bcd4-eb69bbc429dc"
      },
      "outputs": [
        {
          "output_type": "stream",
          "name": "stdout",
          "text": [
            "0.5116649866104126;0.32289427518844604;0.2903457283973694;0.2046908587217331;0.19992761313915253;0.19833853840827942;0.19736330211162567;0.19669383764266968;0.19620876014232635;0.19584046304225922;0.1955496221780777;0.19531245529651642;0.19511409103870392;0.19494472444057465;0.19479773938655853;0.1946684867143631;0.19455359876155853;0.19445058703422546;0.1943574845790863;0.19427284598350525;0.1941954642534256;0.19412441551685333;0.1940588802099228;0.19399823248386383;0.1939419060945511;0.19388940930366516;0.19384042918682098;0.19379451870918274;0.1937514841556549;0.19371099770069122;"
          ]
        }
      ],
      "source": [
        "coefs = train_model(lr = 100)"
      ]
    },
    {
      "cell_type": "code",
      "execution_count": 59,
      "metadata": {
        "colab": {
          "base_uri": "https://localhost:8080/"
        },
        "id": "y5MXu0jAaI4q",
        "outputId": "cf5d2164-b3ac-42ff-ed5c-228e3b968f7d"
      },
      "outputs": [
        {
          "output_type": "execute_result",
          "data": {
            "text/plain": [
              "tensor(0.8258)"
            ]
          },
          "metadata": {},
          "execution_count": 59
        }
      ],
      "source": [
        "acc(coefs)"
      ]
    },
    {
      "cell_type": "markdown",
      "metadata": {
        "id": "sWt7wCB_aMJP"
      },
      "source": [
        "#A neural network"
      ]
    },
    {
      "cell_type": "code",
      "execution_count": 60,
      "metadata": {
        "id": "vaadPs2haKnr"
      },
      "outputs": [],
      "source": [
        "def init_coefs(n_hidden = 20):\n",
        "  layer1 = (torch.rand(n_coef, n_hidden) - 0.5)/n_hidden\n",
        "  layer2 = torch.rand(n_hidden, 1) - 0.3\n",
        "  const = torch.rand(1)[0]\n",
        "  return layer1.requires_grad_(), layer2.requires_grad_(), const.requires_grad_()"
      ]
    },
    {
      "cell_type": "code",
      "source": [
        "import torch.nn.functional as F\n",
        "def calc_preds(coefs, indeps):\n",
        "  l1, l2, const = coefs\n",
        "  res = F.relu(indeps@l1)\n",
        "  res = res@l2 + const\n",
        "  return torch.sigmoid(res)"
      ],
      "metadata": {
        "id": "KllWeLqhitKS"
      },
      "execution_count": 61,
      "outputs": []
    },
    {
      "cell_type": "code",
      "source": [
        "def update_coefs(coefs, lr):\n",
        "    for layer in coefs:\n",
        "        layer.sub_(layer.grad * lr)\n",
        "        layer.grad.zero_()"
      ],
      "metadata": {
        "id": "6_H82Vvsw55U"
      },
      "execution_count": 62,
      "outputs": []
    },
    {
      "cell_type": "code",
      "source": [
        "coefs = train_model(lr = 1.4)"
      ],
      "metadata": {
        "colab": {
          "base_uri": "https://localhost:8080/"
        },
        "id": "CMKpGh-ixVXz",
        "outputId": "daa91ca9-a7ff-4ff3-eede-96a1605ea76a"
      },
      "execution_count": 63,
      "outputs": [
        {
          "output_type": "stream",
          "name": "stdout",
          "text": [
            "0.5436185002326965;0.5330772995948792;0.5211246609687805;0.5034240484237671;0.4830425977706909;0.4592666029930115;0.42915967106819153;0.3944995403289795;0.35844507813453674;0.32674747705459595;0.3022294342517853;0.28424543142318726;0.2708721160888672;0.26066434383392334;0.2527357041835785;0.24649587273597717;0.24152381718158722;0.23750953376293182;0.23422284424304962;0.2314935326576233;0.22919490933418274;0.2272309809923172;0.2255302518606186;0.22403724491596222;0.2227104753255844;0.22151653468608856;0.22042949497699738;0.21942922472953796;0.21849997341632843;0.21762938797473907;"
          ]
        }
      ]
    },
    {
      "cell_type": "code",
      "source": [
        "coefs = train_model(lr = 20)"
      ],
      "metadata": {
        "colab": {
          "base_uri": "https://localhost:8080/"
        },
        "id": "BKgoPSKWxsyY",
        "outputId": "9a336a76-a3ca-4a44-e48e-b3449cf47701"
      },
      "execution_count": 64,
      "outputs": [
        {
          "output_type": "stream",
          "name": "stdout",
          "text": [
            "0.5436185002326965;0.4033687710762024;0.2340763956308365;0.3337007164955139;0.20660588145256042;0.20603173971176147;0.2098095417022705;0.19471995532512665;0.19412678480148315;0.1937556117773056;0.19352678954601288;0.19336672127246857;0.19324016571044922;0.19314110279083252;0.19305621087551117;0.19298624992370605;0.1929265260696411;0.19287388026714325;0.192827969789505;0.1927877813577652;0.19275221228599548;0.19272124767303467;0.19269436597824097;0.1926690638065338;0.19264604151248932;0.19262519478797913;0.19260640442371368;0.19258849322795868;0.19257189333438873;0.19255654513835907;"
          ]
        }
      ]
    },
    {
      "cell_type": "code",
      "source": [
        "acc(coefs)"
      ],
      "metadata": {
        "colab": {
          "base_uri": "https://localhost:8080/"
        },
        "id": "wDDK_7SlzlTb",
        "outputId": "89680f0e-4fb4-4eb5-e1a8-eb1798ea8bbf"
      },
      "execution_count": 65,
      "outputs": [
        {
          "output_type": "execute_result",
          "data": {
            "text/plain": [
              "tensor(0.8258)"
            ]
          },
          "metadata": {},
          "execution_count": 65
        }
      ]
    },
    {
      "cell_type": "markdown",
      "source": [
        "#Deep learning"
      ],
      "metadata": {
        "id": "fbyJmgqcFHi8"
      }
    },
    {
      "cell_type": "code",
      "source": [
        "def init_coefs():\n",
        "  hiddens = [10, 10]  # <-- set this to the size of each hidden layer you want\n",
        "  sizes = [n_coef] + hiddens + [1]\n",
        "  n = len(sizes)\n",
        "  layers = [(torch.rand(sizes[i], sizes[i+1]) - 0.3)/sizes[i+1]*4 for i in range(n-1)]\n",
        "  consts = [(torch.rand(1)[0] - 0.5)*0.1 for i in range(n-1)]\n",
        "  for i in layers + consts:\n",
        "    i.requires_grad_()\n",
        "  return layers, consts"
      ],
      "metadata": {
        "id": "kCGl2V24FIf_"
      },
      "execution_count": 66,
      "outputs": []
    },
    {
      "cell_type": "code",
      "source": [
        "import torch.nn.functional as F\n",
        "def calc_preds(coefs, indeps):\n",
        "  layers, consts = coefs\n",
        "  n = len(layers)\n",
        "  res = indeps\n",
        "  for i, j in enumerate(layers):\n",
        "    res = res@j + consts[i]\n",
        "    if i!= n-1 : res = F.relu(res)\n",
        "  return torch.sigmoid(res)"
      ],
      "metadata": {
        "id": "iOJ9H5KxIGAT"
      },
      "execution_count": 67,
      "outputs": []
    },
    {
      "cell_type": "code",
      "source": [
        "def update_coefs(coefs, lr):\n",
        "  layers, consts = coefs\n",
        "  for layer in layers + consts:\n",
        "    layer.sub_(layer.grad * lr)\n",
        "    layer.grad.zero_()"
      ],
      "metadata": {
        "id": "joHYEWvaII8P"
      },
      "execution_count": 68,
      "outputs": []
    },
    {
      "cell_type": "code",
      "source": [
        "coefs = train_model(lr = 4)"
      ],
      "metadata": {
        "colab": {
          "base_uri": "https://localhost:8080/"
        },
        "id": "YjRgJb5xPMqo",
        "outputId": "f9192cab-5112-48e1-d3b0-fa134642e9cb"
      },
      "execution_count": 69,
      "outputs": [
        {
          "output_type": "stream",
          "name": "stdout",
          "text": [
            "0.5140965580940247;0.48286116123199463;0.4690192639827728;0.45656928420066833;0.4458262622356415;0.4368015229701996;0.4293316900730133;0.4231531322002411;0.4179285168647766;0.41080161929130554;0.37623363733291626;0.36959001421928406;0.3641104996204376;0.35786551237106323;0.3480323851108551;0.310392290353775;0.2269536256790161;0.20786063373088837;0.2085295468568802;0.2198636531829834;0.20481839776039124;0.20395535230636597;0.21112574636936188;0.19728337228298187;0.19609300792217255;0.19508981704711914;0.1944645494222641;0.1941530406475067;0.19395649433135986;0.19379830360412598;"
          ]
        }
      ]
    },
    {
      "cell_type": "code",
      "source": [
        "acc(coefs)"
      ],
      "metadata": {
        "colab": {
          "base_uri": "https://localhost:8080/"
        },
        "id": "uElSIHCgPS0u",
        "outputId": "54618e4e-8462-40dd-db6d-719a659b8a1a"
      },
      "execution_count": 70,
      "outputs": [
        {
          "output_type": "execute_result",
          "data": {
            "text/plain": [
              "tensor(0.8258)"
            ]
          },
          "metadata": {},
          "execution_count": 70
        }
      ]
    }
  ],
  "metadata": {
    "colab": {
      "provenance": [],
      "authorship_tag": "ABX9TyPoWFUx/UMSV/KGnDnEpDiW",
      "include_colab_link": true
    },
    "kernelspec": {
      "display_name": "Python 3",
      "name": "python3"
    },
    "language_info": {
      "name": "python"
    }
  },
  "nbformat": 4,
  "nbformat_minor": 0
}