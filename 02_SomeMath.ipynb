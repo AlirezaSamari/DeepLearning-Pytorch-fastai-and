{
  "nbformat": 4,
  "nbformat_minor": 0,
  "metadata": {
    "colab": {
      "provenance": [],
      "collapsed_sections": [],
      "authorship_tag": "ABX9TyOlGlEy+DavsXQICtBwXsuD",
      "include_colab_link": true
    },
    "kernelspec": {
      "name": "python3",
      "display_name": "Python 3"
    },
    "language_info": {
      "name": "python"
    },
    "accelerator": "GPU"
  },
  "cells": [
    {
      "cell_type": "markdown",
      "metadata": {
        "id": "view-in-github",
        "colab_type": "text"
      },
      "source": [
        "<a href=\"https://colab.research.google.com/github/AlirezaSamari/DeepLearning-Pytorch-fastai-/blob/main/02_SomeMath.ipynb\" target=\"_parent\"><img src=\"https://colab.research.google.com/assets/colab-badge.svg\" alt=\"Open In Colab\"/></a>"
      ]
    },
    {
      "cell_type": "code",
      "execution_count": 1,
      "metadata": {
        "id": "MuEyHBKnCwZQ"
      },
      "outputs": [],
      "source": [
        "import torch\n",
        "from fastai import *\n",
        "from fastai.vision.all import *\n",
        "import matplotlib.pyplot as plt\n",
        "from fastcore import *"
      ]
    },
    {
      "cell_type": "markdown",
      "source": [
        "##Calculating Gradients"
      ],
      "metadata": {
        "id": "zHpnmofbDGal"
      }
    },
    {
      "cell_type": "code",
      "source": [
        "x = torch.linspace(-2, 2, 50)\n",
        "def f(x): return x**2"
      ],
      "metadata": {
        "id": "P9wscjTDC2Hq"
      },
      "execution_count": 2,
      "outputs": []
    },
    {
      "cell_type": "code",
      "source": [
        "plt.figure(figsize=(9,6))\n",
        "plt.plot(x, f(x))"
      ],
      "metadata": {
        "colab": {
          "base_uri": "https://localhost:8080/",
          "height": 391
        },
        "id": "cjIyjxpkDTT1",
        "outputId": "9dfb8b0a-91ec-487c-d21f-25bdc2114769"
      },
      "execution_count": 3,
      "outputs": [
        {
          "output_type": "execute_result",
          "data": {
            "text/plain": [
              "[<matplotlib.lines.Line2D at 0x7f22c2a34a10>]"
            ]
          },
          "metadata": {},
          "execution_count": 3
        },
        {
          "output_type": "display_data",
          "data": {
            "text/plain": [
              "<Figure size 648x432 with 1 Axes>"
            ],
            "image/png": "[encoded data removed]"
          },
          "metadata": {
            "needs_background": "light"
          }
        }
      ]
    },
    {
      "cell_type": "code",
      "source": [
        "xt = torch.tensor(3.).requires_grad_()\n",
        "xt"
      ],
      "metadata": {
        "colab": {
          "base_uri": "https://localhost:8080/"
        },
        "id": "Ef6UaPYkFBzd",
        "outputId": "46bd36fc-681d-4830-c58b-810905834d91"
      },
      "execution_count": 4,
      "outputs": [
        {
          "output_type": "execute_result",
          "data": {
            "text/plain": [
              "tensor(3., requires_grad=True)"
            ]
          },
          "metadata": {},
          "execution_count": 4
        }
      ]
    },
    {
      "cell_type": "code",
      "source": [
        "yt = f(xt)\n",
        "yt"
      ],
      "metadata": {
        "colab": {
          "base_uri": "https://localhost:8080/"
        },
        "id": "0XKRHf74FR82",
        "outputId": "ff18dce2-efe3-4b28-f66a-19cdb7aba696"
      },
      "execution_count": 5,
      "outputs": [
        {
          "output_type": "execute_result",
          "data": {
            "text/plain": [
              "tensor(9., grad_fn=<PowBackward0>)"
            ]
          },
          "metadata": {},
          "execution_count": 5
        }
      ]
    },
    {
      "cell_type": "code",
      "source": [
        "yt.backward()"
      ],
      "metadata": {
        "id": "bWhmu1NGF7ku"
      },
      "execution_count": 6,
      "outputs": []
    },
    {
      "cell_type": "code",
      "source": [
        "xt.grad"
      ],
      "metadata": {
        "colab": {
          "base_uri": "https://localhost:8080/"
        },
        "id": "zmtcij7SGIgw",
        "outputId": "55f8ab3b-a6b5-46cf-c479-6f98d7e07748"
      },
      "execution_count": 7,
      "outputs": [
        {
          "output_type": "execute_result",
          "data": {
            "text/plain": [
              "tensor(6.)"
            ]
          },
          "metadata": {},
          "execution_count": 7
        }
      ]
    },
    {
      "cell_type": "code",
      "source": [
        "xt = torch.tensor([3., 4., 10]).requires_grad_()"
      ],
      "metadata": {
        "id": "WK34Og-DGTr3"
      },
      "execution_count": 8,
      "outputs": []
    },
    {
      "cell_type": "code",
      "source": [
        "yt = f(xt).sum()\n",
        "yt"
      ],
      "metadata": {
        "colab": {
          "base_uri": "https://localhost:8080/"
        },
        "id": "naxyYzL1Hr1B",
        "outputId": "7dc4e0ee-92aa-46a7-cc9d-695bb4bbf6ae"
      },
      "execution_count": 9,
      "outputs": [
        {
          "output_type": "execute_result",
          "data": {
            "text/plain": [
              "tensor(125., grad_fn=<SumBackward0>)"
            ]
          },
          "metadata": {},
          "execution_count": 9
        }
      ]
    },
    {
      "cell_type": "code",
      "source": [
        "yt.backward()"
      ],
      "metadata": {
        "id": "lYxwTYyPHu9z"
      },
      "execution_count": 10,
      "outputs": []
    },
    {
      "cell_type": "code",
      "source": [
        "xt.grad"
      ],
      "metadata": {
        "colab": {
          "base_uri": "https://localhost:8080/"
        },
        "id": "lVudlMPoHzFL",
        "outputId": "2d9045e0-4060-4188-a62b-ba05e0b7d674"
      },
      "execution_count": 11,
      "outputs": [
        {
          "output_type": "execute_result",
          "data": {
            "text/plain": [
              "tensor([ 6.,  8., 20.])"
            ]
          },
          "metadata": {},
          "execution_count": 11
        }
      ]
    },
    {
      "cell_type": "markdown",
      "source": [
        "##Stepping With a Learning Rate\n",
        "w -= gradient(w) * lr\n",
        "---\n",
        "w = w - gradient(w) * lr"
      ],
      "metadata": {
        "id": "MbZtaH9iIXC6"
      }
    },
    {
      "cell_type": "markdown",
      "source": [
        "##An End-to-End SGD Example"
      ],
      "metadata": {
        "id": "bAcgUjcGON6P"
      }
    },
    {
      "cell_type": "code",
      "source": [
        "time = torch.arange(0,20).float()\n",
        "time"
      ],
      "metadata": {
        "colab": {
          "base_uri": "https://localhost:8080/"
        },
        "id": "3Ta_TyKQICso",
        "outputId": "eb7c7e5f-8fdf-4ec0-d9b2-3de1eb52d6d0"
      },
      "execution_count": 12,
      "outputs": [
        {
          "output_type": "execute_result",
          "data": {
            "text/plain": [
              "tensor([ 0.,  1.,  2.,  3.,  4.,  5.,  6.,  7.,  8.,  9., 10., 11., 12., 13.,\n",
              "        14., 15., 16., 17., 18., 19.])"
            ]
          },
          "metadata": {},
          "execution_count": 12
        }
      ]
    },
    {
      "cell_type": "code",
      "source": [
        "speed = torch.randn(20)*3 +  0.75*(time-9.5)**2 + 1\n",
        "plt.scatter(time, speed)"
      ],
      "metadata": {
        "colab": {
          "base_uri": "https://localhost:8080/",
          "height": 282
        },
        "id": "kqE2n-jNOVlW",
        "outputId": "f63bda72-cb6f-4e65-d4aa-5bf5c7df557d"
      },
      "execution_count": 13,
      "outputs": [
        {
          "output_type": "execute_result",
          "data": {
            "text/plain": [
              "<matplotlib.collections.PathCollection at 0x7f22c24ca790>"
            ]
          },
          "metadata": {},
          "execution_count": 13
        },
        {
          "output_type": "display_data",
          "data": {
            "text/plain": [
              "<Figure size 432x288 with 1 Axes>"
            ],
            "image/png": "[encoded data removed]"
          },
          "metadata": {
            "needs_background": "light"
          }
        }
      ]
    },
    {
      "cell_type": "code",
      "source": [
        "def f(t, params):\n",
        "  a,b,c = params\n",
        "  return a*(t**2) + (b*t) + c\n",
        "\n",
        "\n",
        "def mse(preds, targets):\n",
        "  return ((preds-targets)**2).mean()"
      ],
      "metadata": {
        "id": "QtK-GURlQ-e2"
      },
      "execution_count": 14,
      "outputs": []
    },
    {
      "cell_type": "code",
      "source": [
        "params = torch.randn(3).requires_grad_()\n",
        "origin_params = params.clone()"
      ],
      "metadata": {
        "id": "5ulmOcgtRBCG"
      },
      "execution_count": 15,
      "outputs": []
    },
    {
      "cell_type": "code",
      "source": [
        "preds = f(time, params)"
      ],
      "metadata": {
        "id": "QOWuOtdJSi6w"
      },
      "execution_count": 16,
      "outputs": []
    },
    {
      "cell_type": "code",
      "source": [
        "plt.scatter(time, speed)\n",
        "plt.scatter(time, preds.detach().numpy())\n",
        "plt.show()"
      ],
      "metadata": {
        "colab": {
          "base_uri": "https://localhost:8080/",
          "height": 265
        },
        "id": "qIbSAvaKYNDp",
        "outputId": "56dfadfe-e447-4e2f-9cba-1279e25a388a"
      },
      "execution_count": 17,
      "outputs": [
        {
          "output_type": "display_data",
          "data": {
            "text/plain": [
              "<Figure size 432x288 with 1 Axes>"
            ],
            "image/png": "[encoded data removed]"
          },
          "metadata": {
            "needs_background": "light"
          }
        }
      ]
    },
    {
      "cell_type": "code",
      "source": [
        "loss = mse(preds, speed)\n",
        "loss"
      ],
      "metadata": {
        "colab": {
          "base_uri": "https://localhost:8080/"
        },
        "id": "yb-VsD2RYjlQ",
        "outputId": "53eecfb7-0d68-44bb-9697-478a1f911a04"
      },
      "execution_count": 18,
      "outputs": [
        {
          "output_type": "execute_result",
          "data": {
            "text/plain": [
              "tensor(6469.9390, grad_fn=<MeanBackward0>)"
            ]
          },
          "metadata": {},
          "execution_count": 18
        }
      ]
    },
    {
      "cell_type": "code",
      "source": [
        "loss.backward()\n",
        "params.grad"
      ],
      "metadata": {
        "colab": {
          "base_uri": "https://localhost:8080/"
        },
        "id": "X7a0DnZGZO3v",
        "outputId": "b6f0ffe3-d95d-4195-f790-265d8a6c6b95"
      },
      "execution_count": 19,
      "outputs": [
        {
          "output_type": "execute_result",
          "data": {
            "text/plain": [
              "tensor([-25799.5449,  -1668.1788,   -133.0296])"
            ]
          },
          "metadata": {},
          "execution_count": 19
        }
      ]
    },
    {
      "cell_type": "code",
      "source": [
        "params.grad * 1e-5"
      ],
      "metadata": {
        "colab": {
          "base_uri": "https://localhost:8080/"
        },
        "id": "F3D56HyPZZBy",
        "outputId": "5bd3585b-705d-4eb2-cbbd-ee5da95bcc55"
      },
      "execution_count": 20,
      "outputs": [
        {
          "output_type": "execute_result",
          "data": {
            "text/plain": [
              "tensor([-0.2580, -0.0167, -0.0013])"
            ]
          },
          "metadata": {},
          "execution_count": 20
        }
      ]
    },
    {
      "cell_type": "code",
      "source": [
        "params"
      ],
      "metadata": {
        "colab": {
          "base_uri": "https://localhost:8080/"
        },
        "id": "orLp1yAfZjGg",
        "outputId": "755d2ef1-9d0b-4207-e8a9-e4b79ab25205"
      },
      "execution_count": 21,
      "outputs": [
        {
          "output_type": "execute_result",
          "data": {
            "text/plain": [
              "tensor([-0.2200, -1.6580,  2.6536], requires_grad=True)"
            ]
          },
          "metadata": {},
          "execution_count": 21
        }
      ]
    },
    {
      "cell_type": "code",
      "source": [
        "lr = 1e-5\n",
        "params.data -= params.grad.data\n",
        "params.grad = None"
      ],
      "metadata": {
        "id": "oEVTZMenZqqT"
      },
      "execution_count": 22,
      "outputs": []
    },
    {
      "cell_type": "code",
      "source": [
        "preds = f(time,params)\n",
        "mse(preds, speed)"
      ],
      "metadata": {
        "colab": {
          "base_uri": "https://localhost:8080/"
        },
        "id": "RaCEHbQtdoqw",
        "outputId": "790f9280-0e8d-4973-aa7f-e28f72560323"
      },
      "execution_count": 23,
      "outputs": [
        {
          "output_type": "execute_result",
          "data": {
            "text/plain": [
              "tensor(1.8882e+13, grad_fn=<MeanBackward0>)"
            ]
          },
          "metadata": {},
          "execution_count": 23
        }
      ]
    },
    {
      "cell_type": "code",
      "source": [
        "plt.scatter(time, speed)\n",
        "plt.scatter(time, preds.detach().numpy())"
      ],
      "metadata": {
        "colab": {
          "base_uri": "https://localhost:8080/",
          "height": 293
        },
        "id": "z9st8PVrd90t",
        "outputId": "94dd33d9-2e52-4335-cde3-c801e1ef0bf3"
      },
      "execution_count": 24,
      "outputs": [
        {
          "output_type": "execute_result",
          "data": {
            "text/plain": [
              "<matplotlib.collections.PathCollection at 0x7f22c23d6b50>"
            ]
          },
          "metadata": {},
          "execution_count": 24
        },
        {
          "output_type": "display_data",
          "data": {
            "text/plain": [
              "<Figure size 432x288 with 1 Axes>"
            ],
            "image/png": "[encoded data removed]"
          },
          "metadata": {
            "needs_background": "light"
          }
        }
      ]
    },
    {
      "cell_type": "code",
      "source": [
        "def apply_step(params, prn=True):\n",
        "    preds = f(time, params)\n",
        "    loss = mse(preds, speed)\n",
        "    loss.backward()\n",
        "    params.data -= lr * params.grad.data\n",
        "    params.grad = None\n",
        "    if prn: print(loss.item())\n",
        "    return preds"
      ],
      "metadata": {
        "id": "n5NhNf4XeTQX"
      },
      "execution_count": 25,
      "outputs": []
    },
    {
      "cell_type": "code",
      "source": [
        "for i in range(10): apply_step(params)"
      ],
      "metadata": {
        "colab": {
          "base_uri": "https://localhost:8080/"
        },
        "id": "mdelk5kReuIX",
        "outputId": "8b4d0cf5-0fc5-44b1-d63b-10d46b48d96e"
      },
      "execution_count": 26,
      "outputs": [
        {
          "output_type": "stream",
          "name": "stdout",
          "text": [
            "18881886289920.0\n",
            "3573029535744.0\n",
            "676126261248.0\n",
            "127943811072.0\n",
            "24210870272.0\n",
            "4581438464.0\n",
            "866949504.0\n",
            "164055040.0\n",
            "31045962.0\n",
            "5876575.0\n"
          ]
        }
      ]
    },
    {
      "cell_type": "code",
      "source": [
        "params = origin_params.detach().requires_grad_()"
      ],
      "metadata": {
        "id": "_Frmn-pVe-uO"
      },
      "execution_count": 27,
      "outputs": []
    },
    {
      "cell_type": "code",
      "source": [
        "def show_preds(preds, ax=None):\n",
        "    if ax is None: ax=plt.subplots()[1]\n",
        "    ax.scatter(time, speed)\n",
        "    ax.scatter(time, to_np(preds), color='red')\n",
        "    ax.set_ylim(-300,100)"
      ],
      "metadata": {
        "id": "-ThifsTffTQ1"
      },
      "execution_count": 28,
      "outputs": []
    },
    {
      "cell_type": "code",
      "source": [
        "_,axs = plt.subplots(1,4,figsize=(12,3))\n",
        "for ax in axs: show_preds(apply_step(params, False), ax)\n",
        "plt.tight_layout()"
      ],
      "metadata": {
        "colab": {
          "base_uri": "https://localhost:8080/",
          "height": 225
        },
        "id": "su6sfOUwfwvc",
        "outputId": "c1c94c1c-6aaf-4fb3-e968-acc4b49024fc"
      },
      "execution_count": 29,
      "outputs": [
        {
          "output_type": "display_data",
          "data": {
            "text/plain": [
              "<Figure size 864x216 with 4 Axes>"
            ],
            "image/png": "[encoded data removed]"
          },
          "metadata": {
            "needs_background": "light"
          }
        }
      ]
    },
    {
      "cell_type": "markdown",
      "source": [
        "##SGD and Mini-Batches"
      ],
      "metadata": {
        "id": "EseJ_gx-gUZj"
      }
    },
    {
      "cell_type": "code",
      "source": [
        "coll = torch.arange(15)\n",
        "coll"
      ],
      "metadata": {
        "id": "o6VnYJcyf0tf",
        "colab": {
          "base_uri": "https://localhost:8080/"
        },
        "outputId": "8d5e516c-d485-4c2e-e81a-316f43609829"
      },
      "execution_count": 30,
      "outputs": [
        {
          "output_type": "execute_result",
          "data": {
            "text/plain": [
              "tensor([ 0,  1,  2,  3,  4,  5,  6,  7,  8,  9, 10, 11, 12, 13, 14])"
            ]
          },
          "metadata": {},
          "execution_count": 30
        }
      ]
    },
    {
      "cell_type": "code",
      "source": [
        "dl = DataLoader(coll, batch_size=5, shuffle=True)\n"
      ],
      "metadata": {
        "id": "cRzvl0M6R_Dd"
      },
      "execution_count": 31,
      "outputs": []
    },
    {
      "cell_type": "code",
      "source": [
        "list(dl)"
      ],
      "metadata": {
        "colab": {
          "base_uri": "https://localhost:8080/"
        },
        "id": "x1bYG_kASewV",
        "outputId": "5612727a-3b45-4baa-9ad6-bcd304dc9d36"
      },
      "execution_count": 32,
      "outputs": [
        {
          "output_type": "execute_result",
          "data": {
            "text/plain": [
              "[tensor([11,  7, 13,  3,  2]),\n",
              " tensor([5, 8, 0, 1, 9]),\n",
              " tensor([ 6, 12, 14, 10,  4])]"
            ]
          },
          "metadata": {},
          "execution_count": 32
        }
      ]
    },
    {
      "cell_type": "code",
      "source": [
        "ds = L(enumerate(string.ascii_lowercase))\n",
        "ds"
      ],
      "metadata": {
        "colab": {
          "base_uri": "https://localhost:8080/"
        },
        "id": "ejxu7fE4Sf-x",
        "outputId": "c4d98bbf-f212-4ecb-b07f-fea88b52c5a2"
      },
      "execution_count": 33,
      "outputs": [
        {
          "output_type": "execute_result",
          "data": {
            "text/plain": [
              "(#26) [(0, 'a'),(1, 'b'),(2, 'c'),(3, 'd'),(4, 'e'),(5, 'f'),(6, 'g'),(7, 'h'),(8, 'i'),(9, 'j')...]"
            ]
          },
          "metadata": {},
          "execution_count": 33
        }
      ]
    },
    {
      "cell_type": "code",
      "source": [
        "dl = DataLoader(ds, batch_size = 6, shuffle = True)\n",
        "list(dl)"
      ],
      "metadata": {
        "colab": {
          "base_uri": "https://localhost:8080/"
        },
        "id": "ifuTJsBiU0Z-",
        "outputId": "2e72ee4a-ce1a-4725-ecda-6de2da52e86e"
      },
      "execution_count": 34,
      "outputs": [
        {
          "output_type": "execute_result",
          "data": {
            "text/plain": [
              "[(tensor([ 3, 16,  6, 13,  8, 23]), ('d', 'q', 'g', 'n', 'i', 'x')),\n",
              " (tensor([ 7, 12, 17, 25,  5, 22]), ('h', 'm', 'r', 'z', 'f', 'w')),\n",
              " (tensor([21,  4,  1,  9, 14, 10]), ('v', 'e', 'b', 'j', 'o', 'k')),\n",
              " (tensor([15, 18,  0, 19, 20, 24]), ('p', 's', 'a', 't', 'u', 'y')),\n",
              " (tensor([ 2, 11]), ('c', 'l'))]"
            ]
          },
          "metadata": {},
          "execution_count": 34
        }
      ]
    },
    {
      "cell_type": "markdown",
      "source": [
        "##Creating an Optimizer"
      ],
      "metadata": {
        "id": "BZmrIsRzWKt2"
      }
    },
    {
      "cell_type": "code",
      "source": [
        "linear_model = nn.Linear(28*28,1)"
      ],
      "metadata": {
        "id": "clLZQZ2MVAeA"
      },
      "execution_count": 35,
      "outputs": []
    },
    {
      "cell_type": "code",
      "source": [
        "w, b = linear_model.parameters()"
      ],
      "metadata": {
        "id": "vo_ZNybBWBNf"
      },
      "execution_count": 36,
      "outputs": []
    },
    {
      "cell_type": "code",
      "source": [
        "w.shape, b.shape"
      ],
      "metadata": {
        "colab": {
          "base_uri": "https://localhost:8080/"
        },
        "id": "4kBaMRryWGAk",
        "outputId": "9119cc2a-ac6d-41ec-8d7f-d35e5a962a17"
      },
      "execution_count": 37,
      "outputs": [
        {
          "output_type": "execute_result",
          "data": {
            "text/plain": [
              "(torch.Size([1, 784]), torch.Size([1]))"
            ]
          },
          "metadata": {},
          "execution_count": 37
        }
      ]
    },
    {
      "cell_type": "code",
      "source": [
        "class BasicOptim:\n",
        "  def __init__(self, params, lr):\n",
        "    self.params = list(params)\n",
        "    self.lr = lr\n",
        "  def step(self, *args, **kwargs):\n",
        "    for p in self.params:\n",
        "      p.data -= p.grad.data * self.lr\n",
        "\n",
        "  def zero_grad(self, *args, **kwargs):\n",
        "    for p in self.params:\n",
        "      p.grad = None"
      ],
      "metadata": {
        "id": "isQc0bkHWSCk"
      },
      "execution_count": 38,
      "outputs": []
    },
    {
      "cell_type": "code",
      "source": [
        "opt = BasicOptim(linear_model.parameters(), lr)"
      ],
      "metadata": {
        "id": "DGhK0eDFbSVZ"
      },
      "execution_count": 39,
      "outputs": []
    },
    {
      "cell_type": "code",
      "source": [
        "linear_model = nn.Linear(28*28, 1)\n",
        "opt = SGD(linear_model.parameters(), lr)"
      ],
      "metadata": {
        "id": "IWE1A7avcv4P"
      },
      "execution_count": 40,
      "outputs": []
    }
  ]
}