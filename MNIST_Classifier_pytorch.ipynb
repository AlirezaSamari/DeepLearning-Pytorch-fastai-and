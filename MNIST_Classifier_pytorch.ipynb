{
  "nbformat": 4,
  "nbformat_minor": 0,
  "metadata": {
    "colab": {
      "provenance": [],
      "collapsed_sections": [],
      "authorship_tag": "ABX9TyPFPaQ5BK2mqKmTGVCAiM4i",
      "include_colab_link": true
    },
    "kernelspec": {
      "name": "python3",
      "display_name": "Python 3"
    },
    "language_info": {
      "name": "python"
    },
    "accelerator": "GPU"
  },
  "cells": [
    {
      "cell_type": "markdown",
      "metadata": {
        "id": "view-in-github",
        "colab_type": "text"
      },
      "source": [
        "<a href=\"https://colab.research.google.com/github/AlirezaSamari/DeepLearning-Pytorch-fastai-/blob/main/MNIST_Classifier_pytorch.ipynb\" target=\"_parent\"><img src=\"https://colab.research.google.com/assets/colab-badge.svg\" alt=\"Open In Colab\"/></a>"
      ]
    },
    {
      "cell_type": "code",
      "execution_count": 1,
      "metadata": {
        "id": "mV2004XEtGWY",
        "colab": {
          "base_uri": "https://localhost:8080/"
        },
        "outputId": "aee63483-799e-4b12-f548-667ed7401764"
      },
      "outputs": [
        {
          "output_type": "stream",
          "name": "stdout",
          "text": [
            "Looking in indexes: https://pypi.org/simple, https://us-python.pkg.dev/colab-wheels/public/simple/\n",
            "Collecting livelossplot\n",
            "  Downloading livelossplot-0.5.5-py3-none-any.whl (22 kB)\n",
            "Requirement already satisfied: bokeh in /usr/local/lib/python3.7/dist-packages (from livelossplot) (2.3.3)\n",
            "Requirement already satisfied: matplotlib in /usr/local/lib/python3.7/dist-packages (from livelossplot) (3.2.2)\n",
            "Requirement already satisfied: ipython==7.* in /usr/local/lib/python3.7/dist-packages (from livelossplot) (7.9.0)\n",
            "Requirement already satisfied: numpy<1.22 in /usr/local/lib/python3.7/dist-packages (from livelossplot) (1.21.6)\n",
            "Requirement already satisfied: backcall in /usr/local/lib/python3.7/dist-packages (from ipython==7.*->livelossplot) (0.2.0)\n",
            "Requirement already satisfied: traitlets>=4.2 in /usr/local/lib/python3.7/dist-packages (from ipython==7.*->livelossplot) (5.1.1)\n",
            "Requirement already satisfied: pexpect in /usr/local/lib/python3.7/dist-packages (from ipython==7.*->livelossplot) (4.8.0)\n",
            "Requirement already satisfied: pickleshare in /usr/local/lib/python3.7/dist-packages (from ipython==7.*->livelossplot) (0.7.5)\n",
            "Requirement already satisfied: setuptools>=18.5 in /usr/local/lib/python3.7/dist-packages (from ipython==7.*->livelossplot) (57.4.0)\n",
            "Requirement already satisfied: decorator in /usr/local/lib/python3.7/dist-packages (from ipython==7.*->livelossplot) (4.4.2)\n",
            "Requirement already satisfied: pygments in /usr/local/lib/python3.7/dist-packages (from ipython==7.*->livelossplot) (2.6.1)\n",
            "Requirement already satisfied: prompt-toolkit<2.1.0,>=2.0.0 in /usr/local/lib/python3.7/dist-packages (from ipython==7.*->livelossplot) (2.0.10)\n",
            "Collecting jedi>=0.10\n",
            "  Downloading jedi-0.18.1-py2.py3-none-any.whl (1.6 MB)\n",
            "\u001b[K     |████████████████████████████████| 1.6 MB 7.8 MB/s \n",
            "\u001b[?25hRequirement already satisfied: parso<0.9.0,>=0.8.0 in /usr/local/lib/python3.7/dist-packages (from jedi>=0.10->ipython==7.*->livelossplot) (0.8.3)\n",
            "Requirement already satisfied: six>=1.9.0 in /usr/local/lib/python3.7/dist-packages (from prompt-toolkit<2.1.0,>=2.0.0->ipython==7.*->livelossplot) (1.15.0)\n",
            "Requirement already satisfied: wcwidth in /usr/local/lib/python3.7/dist-packages (from prompt-toolkit<2.1.0,>=2.0.0->ipython==7.*->livelossplot) (0.2.5)\n",
            "Requirement already satisfied: packaging>=16.8 in /usr/local/lib/python3.7/dist-packages (from bokeh->livelossplot) (21.3)\n",
            "Requirement already satisfied: tornado>=5.1 in /usr/local/lib/python3.7/dist-packages (from bokeh->livelossplot) (5.1.1)\n",
            "Requirement already satisfied: PyYAML>=3.10 in /usr/local/lib/python3.7/dist-packages (from bokeh->livelossplot) (6.0)\n",
            "Requirement already satisfied: pillow>=7.1.0 in /usr/local/lib/python3.7/dist-packages (from bokeh->livelossplot) (7.1.2)\n",
            "Requirement already satisfied: Jinja2>=2.9 in /usr/local/lib/python3.7/dist-packages (from bokeh->livelossplot) (2.11.3)\n",
            "Requirement already satisfied: typing-extensions>=3.7.4 in /usr/local/lib/python3.7/dist-packages (from bokeh->livelossplot) (4.1.1)\n",
            "Requirement already satisfied: python-dateutil>=2.1 in /usr/local/lib/python3.7/dist-packages (from bokeh->livelossplot) (2.8.2)\n",
            "Requirement already satisfied: MarkupSafe>=0.23 in /usr/local/lib/python3.7/dist-packages (from Jinja2>=2.9->bokeh->livelossplot) (2.0.1)\n",
            "Requirement already satisfied: pyparsing!=3.0.5,>=2.0.2 in /usr/local/lib/python3.7/dist-packages (from packaging>=16.8->bokeh->livelossplot) (3.0.9)\n",
            "Requirement already satisfied: cycler>=0.10 in /usr/local/lib/python3.7/dist-packages (from matplotlib->livelossplot) (0.11.0)\n",
            "Requirement already satisfied: kiwisolver>=1.0.1 in /usr/local/lib/python3.7/dist-packages (from matplotlib->livelossplot) (1.4.4)\n",
            "Requirement already satisfied: ptyprocess>=0.5 in /usr/local/lib/python3.7/dist-packages (from pexpect->ipython==7.*->livelossplot) (0.7.0)\n",
            "Installing collected packages: jedi, livelossplot\n",
            "Successfully installed jedi-0.18.1 livelossplot-0.5.5\n"
          ]
        }
      ],
      "source": [
        "import os\n",
        "os.environ['CUDA_LAUNCH_BLOCKING'] = \"1\"\n",
        "from fastai.vision.all import *\n",
        "import torchvision\n",
        "import torchvision.transforms as transforms\n",
        "!pip install livelossplot\n",
        "from livelossplot import PlotLosses"
      ]
    },
    {
      "cell_type": "code",
      "source": [
        "from fastcore import *\n",
        "path = untar_data(URLs.MNIST)\n",
        "path.ls()"
      ],
      "metadata": {
        "id": "IvU-0iKE7w4d",
        "colab": {
          "base_uri": "https://localhost:8080/",
          "height": 54
        },
        "outputId": "6a181fdc-3c07-4b5a-c723-aa16843aab14"
      },
      "execution_count": 2,
      "outputs": [
        {
          "output_type": "display_data",
          "data": {
            "text/plain": [
              "<IPython.core.display.HTML object>"
            ],
            "text/html": [
              "\n",
              "<style>\n",
              "    /* Turns off some styling */\n",
              "    progress {\n",
              "        /* gets rid of default border in Firefox and Opera. */\n",
              "        border: none;\n",
              "        /* Needs to be in here for Safari polyfill so background images work as expected. */\n",
              "        background-size: auto;\n",
              "    }\n",
              "    progress:not([value]), progress:not([value])::-webkit-progress-bar {\n",
              "        background: repeating-linear-gradient(45deg, #7e7e7e, #7e7e7e 10px, #5c5c5c 10px, #5c5c5c 20px);\n",
              "    }\n",
              "    .progress-bar-interrupted, .progress-bar-interrupted::-webkit-progress-bar {\n",
              "        background: #F44336;\n",
              "    }\n",
              "</style>\n"
            ]
          },
          "metadata": {}
        },
        {
          "output_type": "display_data",
          "data": {
            "text/plain": [
              "<IPython.core.display.HTML object>"
            ],
            "text/html": [
              "\n",
              "    <div>\n",
              "      <progress value='15687680' class='' max='15683414' style='width:300px; height:20px; vertical-align: middle;'></progress>\n",
              "      100.03% [15687680/15683414 00:00&lt;00:00]\n",
              "    </div>\n",
              "    "
            ]
          },
          "metadata": {}
        },
        {
          "output_type": "execute_result",
          "data": {
            "text/plain": [
              "(#2) [Path('/root/.fastai/data/mnist_png/testing'),Path('/root/.fastai/data/mnist_png/training')]"
            ]
          },
          "metadata": {},
          "execution_count": 2
        }
      ]
    },
    {
      "cell_type": "code",
      "source": [
        "(path/'training').ls()"
      ],
      "metadata": {
        "id": "RGvmPUkj8WYM",
        "colab": {
          "base_uri": "https://localhost:8080/"
        },
        "outputId": "2f18f728-def8-48cb-e7a0-b767571f0baa"
      },
      "execution_count": 3,
      "outputs": [
        {
          "output_type": "execute_result",
          "data": {
            "text/plain": [
              "(#10) [Path('/root/.fastai/data/mnist_png/training/7'),Path('/root/.fastai/data/mnist_png/training/8'),Path('/root/.fastai/data/mnist_png/training/0'),Path('/root/.fastai/data/mnist_png/training/5'),Path('/root/.fastai/data/mnist_png/training/2'),Path('/root/.fastai/data/mnist_png/training/6'),Path('/root/.fastai/data/mnist_png/training/9'),Path('/root/.fastai/data/mnist_png/training/1'),Path('/root/.fastai/data/mnist_png/training/4'),Path('/root/.fastai/data/mnist_png/training/3')]"
            ]
          },
          "metadata": {},
          "execution_count": 3
        }
      ]
    },
    {
      "cell_type": "code",
      "source": [
        "ones_ex = (path/'training'/'1').ls()"
      ],
      "metadata": {
        "id": "InXbQYRQ8z5c"
      },
      "execution_count": 4,
      "outputs": []
    },
    {
      "cell_type": "code",
      "source": [
        "len(ones_ex)"
      ],
      "metadata": {
        "id": "vpJodJgp9FAV",
        "colab": {
          "base_uri": "https://localhost:8080/"
        },
        "outputId": "506f4d84-e501-474c-d6a7-e517a2d5f9e8"
      },
      "execution_count": 5,
      "outputs": [
        {
          "output_type": "execute_result",
          "data": {
            "text/plain": [
              "6742"
            ]
          },
          "metadata": {},
          "execution_count": 5
        }
      ]
    },
    {
      "cell_type": "code",
      "source": [
        "for i in (path/'training').ls():\n",
        "  print(i)"
      ],
      "metadata": {
        "id": "LZF5JiaW9UaR",
        "colab": {
          "base_uri": "https://localhost:8080/"
        },
        "outputId": "657c0134-6b46-41f8-b40c-525776e0c0d1"
      },
      "execution_count": 6,
      "outputs": [
        {
          "output_type": "stream",
          "name": "stdout",
          "text": [
            "/root/.fastai/data/mnist_png/training/7\n",
            "/root/.fastai/data/mnist_png/training/8\n",
            "/root/.fastai/data/mnist_png/training/0\n",
            "/root/.fastai/data/mnist_png/training/5\n",
            "/root/.fastai/data/mnist_png/training/2\n",
            "/root/.fastai/data/mnist_png/training/6\n",
            "/root/.fastai/data/mnist_png/training/9\n",
            "/root/.fastai/data/mnist_png/training/1\n",
            "/root/.fastai/data/mnist_png/training/4\n",
            "/root/.fastai/data/mnist_png/training/3\n"
          ]
        }
      ]
    },
    {
      "cell_type": "code",
      "source": [
        "image = Image.open((path/'training'/'1').ls()[10])\n",
        "image"
      ],
      "metadata": {
        "id": "tQU2sqrO_dDT",
        "colab": {
          "base_uri": "https://localhost:8080/",
          "height": 45
        },
        "outputId": "f75e2863-271d-4c5f-fe78-0e31a895aaa7"
      },
      "execution_count": 7,
      "outputs": [
        {
          "output_type": "execute_result",
          "data": {
            "text/plain": [
              "<PIL.PngImagePlugin.PngImageFile image mode=L size=28x28>"
            ],
            "image/png": "[encoded data removed]"
          },
          "metadata": {},
          "execution_count": 7
        }
      ]
    },
    {
      "cell_type": "code",
      "source": [
        "image.size"
      ],
      "metadata": {
        "id": "XaIKOWvRBQQ0",
        "colab": {
          "base_uri": "https://localhost:8080/"
        },
        "outputId": "275e2923-bf1d-49ec-d090-246f9d9cca6a"
      },
      "execution_count": 8,
      "outputs": [
        {
          "output_type": "execute_result",
          "data": {
            "text/plain": [
              "(28, 28)"
            ]
          },
          "metadata": {},
          "execution_count": 8
        }
      ]
    },
    {
      "cell_type": "code",
      "source": [
        "image.mode\n",
        "# 'L' is Gray-Scale"
      ],
      "metadata": {
        "id": "euvLzMOhCJQ0",
        "colab": {
          "base_uri": "https://localhost:8080/",
          "height": 35
        },
        "outputId": "05ab19e2-e051-40d7-c81e-e575f1f67712"
      },
      "execution_count": 9,
      "outputs": [
        {
          "output_type": "execute_result",
          "data": {
            "text/plain": [
              "'L'"
            ],
            "application/vnd.google.colaboratory.intrinsic+json": {
              "type": "string"
            }
          },
          "metadata": {},
          "execution_count": 9
        }
      ]
    },
    {
      "cell_type": "markdown",
      "source": [
        "#Pytorch:\n",
        "##Data preparation"
      ],
      "metadata": {
        "id": "28IHEftL8WWd"
      }
    },
    {
      "cell_type": "code",
      "source": [
        "transform = transforms.Compose([transforms.ToTensor(), transforms.Grayscale(), transforms.Normalize([0.5], [0.5])])"
      ],
      "metadata": {
        "id": "3IuEg_RJ8lJ5"
      },
      "execution_count": 10,
      "outputs": []
    },
    {
      "cell_type": "code",
      "source": [
        "full_dataset = torchvision.datasets.ImageFolder((path/\"training\").as_posix(), transform = transform)\n",
        "\n",
        "# Splitting the above dataset into a training and validation dataset\n",
        "train_size = int(0.8 * len(full_dataset))\n",
        "valid_size = len(full_dataset) - train_size\n",
        "training_set, validation_set = torch.utils.data.random_split(full_dataset, [train_size, valid_size])\n",
        "\n",
        "# Dataset using the \"testing\" folder\n",
        "testing_set = torchvision.datasets.ImageFolder((path/\"testing\").as_posix(), transform = transform)"
      ],
      "metadata": {
        "id": "dStBbJdaLrUN"
      },
      "execution_count": 11,
      "outputs": []
    },
    {
      "cell_type": "markdown",
      "source": [
        "**Testing dataset:** Used to calculate our gradients and update our weights using the loss obtained forwarding the data through the network.\n",
        "\n",
        "Validation dataset: Used to assess model performance on unseen data during the training. We tune our hyperparameters (learning rate, batch size, number of epochs, network structure etc.) to improve this performance."
      ],
      "metadata": {
        "id": "3kTJIpKfSvBd"
      }
    },
    {
      "cell_type": "code",
      "source": [
        "# batch size = 64\n",
        "bs = 64"
      ],
      "metadata": {
        "id": "q7KaGttMNwMc"
      },
      "execution_count": 12,
      "outputs": []
    },
    {
      "cell_type": "code",
      "source": [
        "train_loader = torch.utils.data.DataLoader(training_set, batch_size=bs, shuffle=True)\n",
        "validation_loader = torch.utils.data.DataLoader(validation_set, batch_size = bs, shuffle = True)\n",
        "data_loaders = {\"train\": train_loader,\n",
        "                \"validation\": validation_loader}"
      ],
      "metadata": {
        "id": "10gH6uv6TK0G"
      },
      "execution_count": 13,
      "outputs": []
    },
    {
      "cell_type": "code",
      "source": [
        "from torch.nn.modules.activation import LogSoftmax\n",
        "seqmodel = nn.Sequential(\n",
        "    nn.Flatten(),\n",
        "    nn.Linear(28*28, 128),\n",
        "    nn.ReLU(),\n",
        "    nn.Linear(128, 50),\n",
        "    nn.ReLU(),\n",
        "    nn.Linear(50,10),\n",
        "    nn.LogSoftmax(dim=1))"
      ],
      "metadata": {
        "id": "bdbOpqb-mG3i"
      },
      "execution_count": 14,
      "outputs": []
    },
    {
      "cell_type": "code",
      "source": [
        "#ReLU\n",
        "def relu_func(x):\n",
        "  return torch.relu(x)\n",
        "\n",
        "x = torch.linspace(-10, 20, 100)\n",
        "y =relu_func(x)\n",
        "import matplotlib.pyplot as plt\n",
        "plt.plot(x, y)"
      ],
      "metadata": {
        "id": "LMXRuJIjuCA5",
        "colab": {
          "base_uri": "https://localhost:8080/",
          "height": 282
        },
        "outputId": "7fe65dcf-6583-4c75-c1b2-c5c3a3c7da5f"
      },
      "execution_count": 15,
      "outputs": [
        {
          "output_type": "execute_result",
          "data": {
            "text/plain": [
              "[<matplotlib.lines.Line2D at 0x7fce0da06590>]"
            ]
          },
          "metadata": {},
          "execution_count": 15
        },
        {
          "output_type": "display_data",
          "data": {
            "text/plain": [
              "<Figure size 432x288 with 1 Axes>"
            ],
            "image/png": "[encoded data removed]"
          },
          "metadata": {
            "needs_background": "light"
          }
        }
      ]
    },
    {
      "cell_type": "code",
      "source": [
        "# perform on GPU\n",
        "device = torch.device('cuda:0')\n",
        "print(torch.device('cuda:0' if torch.cuda.is_available() else 'cpu'))"
      ],
      "metadata": {
        "id": "xJT2SQexvbyp",
        "colab": {
          "base_uri": "https://localhost:8080/"
        },
        "outputId": "d076b28d-0a87-43f1-9699-2dc1148236b6"
      },
      "execution_count": 16,
      "outputs": [
        {
          "output_type": "stream",
          "name": "stdout",
          "text": [
            "cuda:0\n"
          ]
        }
      ]
    },
    {
      "cell_type": "code",
      "source": [
        "#learning rate\n",
        "lr = 1e-2\n",
        "#number of epochs\n",
        "n_epoch = 77"
      ],
      "metadata": {
        "id": "3u26YCZQwePg"
      },
      "execution_count": 17,
      "outputs": []
    },
    {
      "cell_type": "code",
      "source": [
        "''' The optimizer object above will handle the stochastic gradient descent (SGD) step for us.\n",
        "We need to pass it our model's parameters (so it can step on them) and a learning rate.\n",
        "\n",
        "pytorch's nn.NLLLoss() for our loss function.\n",
        "It stands for negative log likelihood loss and is useful to train a classification problem with more than 2 classes.\n",
        "It expects log-probabilities as input for each class, which is our case after applying LogSoftmax.\n",
        "'''\n",
        "\n",
        "optimizer = torch.optim.SGD(seqmodel.parameters(), lr=lr)\n",
        "criterion = nn.NLLLoss()"
      ],
      "metadata": {
        "id": "zsWhOHaT3QCO"
      },
      "execution_count": 18,
      "outputs": []
    },
    {
      "cell_type": "code",
      "source": [
        "def train_model(model, criterion, optimizer, dataloaders, num_epochs=10):\n",
        "    liveloss = PlotLosses() # Live training plot generic API\n",
        "    model = model.to(device) # Moves and/or casts the parameters and buffers to device.\n",
        "    \n",
        "    for epoch in range(num_epochs): # Number of passes through the entire training & validation datasets\n",
        "        logs = {}\n",
        "        for phase in ['train', 'validation']: # First train, then validate\n",
        "            if phase == 'train':\n",
        "                model.train() # Set the module in training mode\n",
        "            else:\n",
        "                model.eval() # Set the module in evaluation mode\n",
        "\n",
        "            running_loss = 0.0 # keep track of loss\n",
        "            running_corrects = 0 # count of carrectly classified inputs\n",
        "\n",
        "            for inputs, labels in dataloaders[phase]:\n",
        "                inputs = inputs.to(device) # Perform Tensor device conversion\n",
        "                labels = labels.to(device)\n",
        "\n",
        "                outputs = model(inputs) # forward pass through network\n",
        "                loss = criterion(outputs, labels) # Calculate loss\n",
        "\n",
        "                if phase == 'train':\n",
        "                    optimizer.zero_grad() # Set all previously calculated gradients to 0\n",
        "                    loss.backward() # Calculate gradients\n",
        "                    optimizer.step() # Step on the weights using those gradient w -=  gradient(w) * lr\n",
        "\n",
        "                _, preds = torch.max(outputs, 1) # Get model's predictions\n",
        "                running_loss += loss.detach() * inputs.size(0) # multiply mean loss by the number of elements\n",
        "                running_corrects += torch.sum(preds == labels.data) # add number of correct predictions to total\n",
        "\n",
        "            epoch_loss = running_loss / len(dataloaders[phase].dataset) # get the \"mean\" loss for the epoch\n",
        "            epoch_acc = running_corrects.float() / len(dataloaders[phase].dataset) # Get proportion of correct predictions\n",
        "            \n",
        "            # Logging\n",
        "            prefix = ''\n",
        "            if phase == 'validation':\n",
        "                prefix = 'val_'\n",
        "\n",
        "            logs[prefix + 'log loss'] = epoch_loss.item()\n",
        "            logs[prefix + 'accuracy'] = epoch_acc.item()\n",
        "        \n",
        "        liveloss.update(logs) # Update logs\n",
        "        liveloss.send() # draw, display stuff"
      ],
      "metadata": {
        "id": "jEbAtFeG95Jj"
      },
      "execution_count": 19,
      "outputs": []
    },
    {
      "cell_type": "markdown",
      "source": [
        "![image.png](data:image/png;base64,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)"
      ],
      "metadata": {
        "id": "aJb8oNoKwVrC"
      }
    },
    {
      "cell_type": "code",
      "source": [
        "train_model(seqmodel, criterion, optimizer, data_loaders, n_epoch)"
      ],
      "metadata": {
        "colab": {
          "base_uri": "https://localhost:8080/",
          "height": 689
        },
        "id": "8-WVT570KpW_",
        "outputId": "dd853e37-dbd0-4d3c-984c-fbd3d3e69efb"
      },
      "execution_count": 20,
      "outputs": [
        {
          "output_type": "display_data",
          "data": {
            "text/plain": [
              "<Figure size 864x576 with 2 Axes>"
            ],
            "image/png": "[encoded data removed]"
          },
          "metadata": {
            "needs_background": "light"
          }
        },
        {
          "output_type": "stream",
          "name": "stdout",
          "text": [
            "accuracy\n",
            "\ttraining         \t (min:    0.698, max:    0.997, cur:    0.997)\n",
            "\tvalidation       \t (min:    0.860, max:    0.975, cur:    0.971)\n",
            "log loss\n",
            "\ttraining         \t (min:    0.016, max:    1.167, cur:    0.016)\n",
            "\tvalidation       \t (min:    0.097, max:    0.510, cur:    0.105)\n"
          ]
        }
      ]
    },
    {
      "cell_type": "code",
      "source": [
        "from google.colab import drive\n",
        "drive.mount('/content/gdrive')"
      ],
      "metadata": {
        "id": "6xIU8dxHOO4V",
        "colab": {
          "base_uri": "https://localhost:8080/"
        },
        "outputId": "871d3771-f83f-41ae-f57f-223d5dddebbe"
      },
      "execution_count": 22,
      "outputs": [
        {
          "output_type": "stream",
          "name": "stdout",
          "text": [
            "Mounted at /content/gdrive\n"
          ]
        }
      ]
    },
    {
      "cell_type": "code",
      "source": [
        "torch.save(seqmodel, '/content/gdrive/My Drive/fastai/mnist_97_pytorch.pt')"
      ],
      "metadata": {
        "id": "mKSACX-20Kn8"
      },
      "execution_count": 23,
      "outputs": []
    }
  ]
}